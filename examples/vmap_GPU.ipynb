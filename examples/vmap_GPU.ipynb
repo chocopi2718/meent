{
 "cells": [
  {
   "cell_type": "code",
   "execution_count": 1,
   "metadata": {
    "collapsed": true
   },
   "outputs": [
    {
     "data": {
      "text/plain": "3"
     },
     "execution_count": 1,
     "metadata": {},
     "output_type": "execute_result"
    }
   ],
   "source": [
    "import os\n",
    "os.environ[\"CUDA_DEVICE_ORDER\"] = \"PCI_BUS_ID\"\n",
    "os.environ[\"CUDA_VISIBLE_DEVICES\"] = '1,2,3'\n",
    "\n",
    "import sys\n",
    "sys.path.append('/home/yongha/meent')\n",
    "\n",
    "\n",
    "# The following is run in parallel on each host on a GPU cluster or TPU pod slice.\n",
    "import jax\n",
    "# jax.distributed.initialize()  # On GPU, see above for the necessary arguments.\n",
    "jax.device_count()  # total number of accelerator devices in the cluster"
   ]
  },
  {
   "cell_type": "code",
   "execution_count": 2,
   "outputs": [],
   "source": [
    "from jax_smi import initialise_tracking\n",
    "initialise_tracking()\n",
    "# some computation..."
   ],
   "metadata": {
    "collapsed": false
   }
  },
  {
   "cell_type": "code",
   "execution_count": 3,
   "outputs": [
    {
     "data": {
      "text/plain": "[StreamExecutorGpuDevice(id=0, process_index=0, slice_index=0),\n StreamExecutorGpuDevice(id=1, process_index=0, slice_index=0),\n StreamExecutorGpuDevice(id=2, process_index=0, slice_index=0)]"
     },
     "execution_count": 3,
     "metadata": {},
     "output_type": "execute_result"
    }
   ],
   "source": [
    "jax.devices()"
   ],
   "metadata": {
    "collapsed": false
   }
  },
  {
   "cell_type": "code",
   "execution_count": 18,
   "outputs": [],
   "source": [
    "import numpy as np\n",
    "import jax.numpy as jnp\n",
    "\n",
    "size1 = 30000\n",
    "size2 = 2+101\n",
    "\n",
    "x = np.arange(size1)\n",
    "w = np.arange(2, size2, 1)\n",
    "# w = np.array([2., 3., 4.])\n",
    "\n",
    "def convolve(x, w):\n",
    "  output = []\n",
    "  for i in range(size2//2, len(x)-size2//2):\n",
    "    output.append(jnp.dot(x[i-size2//2:i+size2//2-1], w))\n",
    "  return jnp.array(output)\n",
    "\n",
    "# convolve(x, w)"
   ],
   "metadata": {
    "collapsed": false
   }
  },
  {
   "cell_type": "code",
   "execution_count": 19,
   "outputs": [],
   "source": [
    "n_devices = jax.local_device_count()\n",
    "xs = np.arange(size1 * n_devices).reshape(-1, size1)\n",
    "ws = np.stack([w] * n_devices)"
   ],
   "metadata": {
    "collapsed": false
   }
  },
  {
   "cell_type": "code",
   "execution_count": 8,
   "outputs": [
    {
     "name": "stdout",
     "output_type": "stream",
     "text": [
      "CPU times: user 7min 3s, sys: 5.38 s, total: 7min 8s\n",
      "Wall time: 5min 11s\n"
     ]
    },
    {
     "data": {
      "text/plain": "Array([[   348450,    353702,    358954, ...,  52316990,  52322242,\n         52327494],\n       [ 52868450,  52873702,  52878954, ..., 104836990, 104842242,\n        104847494],\n       [105388450, 105393702, 105398954, ..., 157356990, 157362242,\n        157367494]], dtype=int32)"
     },
     "execution_count": 8,
     "metadata": {},
     "output_type": "execute_result"
    }
   ],
   "source": [
    "%time jax.vmap(jax.jit(convolve))(xs, ws)"
   ],
   "metadata": {
    "collapsed": false
   }
  },
  {
   "cell_type": "code",
   "execution_count": 9,
   "outputs": [
    {
     "name": "stdout",
     "output_type": "stream",
     "text": [
      "5.6 ms ± 140 µs per loop (mean ± std. dev. of 7 runs, 100 loops each)\n"
     ]
    }
   ],
   "source": [
    "%timeit jax.vmap(jax.jit(convolve))(xs, ws)"
   ],
   "metadata": {
    "collapsed": false
   }
  },
  {
   "cell_type": "code",
   "execution_count": 18,
   "outputs": [
    {
     "name": "stdout",
     "output_type": "stream",
     "text": [
      "CPU times: user 3.32 s, sys: 415 ms, total: 3.73 s\n",
      "Wall time: 2.76 s\n"
     ]
    },
    {
     "data": {
      "text/plain": "Array([[  348450,   353702,   358954, ...,  5048990,  5054242,  5059494],\n       [ 5600450,  5605702,  5610954, ..., 10300990, 10306242, 10311494],\n       [10852450, 10857702, 10862954, ..., 15552990, 15558242, 15563494]],      dtype=int32)"
     },
     "execution_count": 18,
     "metadata": {},
     "output_type": "execute_result"
    }
   ],
   "source": [
    "%time jax.vmap(convolve)(xs, ws)"
   ],
   "metadata": {
    "collapsed": false
   }
  },
  {
   "cell_type": "code",
   "execution_count": 19,
   "outputs": [
    {
     "name": "stdout",
     "output_type": "stream",
     "text": [
      "2.58 s ± 20.1 ms per loop (mean ± std. dev. of 7 runs, 1 loop each)\n"
     ]
    }
   ],
   "source": [
    "%timeit jax.vmap(convolve)(xs, ws)"
   ],
   "metadata": {
    "collapsed": false
   }
  },
  {
   "cell_type": "code",
   "execution_count": 6,
   "outputs": [
    {
     "name": "stdout",
     "output_type": "stream",
     "text": [
      "CPU times: user 6min 2s, sys: 8.53 s, total: 6min 10s\n",
      "Wall time: 4min 17s\n"
     ]
    },
    {
     "data": {
      "text/plain": "Array([[   348450,    353702,    358954, ...,  52316990,  52322242,\n         52327494],\n       [ 52868450,  52873702,  52878954, ..., 104836990, 104842242,\n        104847494],\n       [105388450, 105393702, 105398954, ..., 157356990, 157362242,\n        157367494]], dtype=int32)"
     },
     "execution_count": 6,
     "metadata": {},
     "output_type": "execute_result"
    }
   ],
   "source": [
    "%time jax.pmap(convolve)(xs, ws)"
   ],
   "metadata": {
    "collapsed": false
   }
  },
  {
   "cell_type": "code",
   "execution_count": 7,
   "outputs": [
    {
     "name": "stdout",
     "output_type": "stream",
     "text": [
      "6.32 ms ± 364 µs per loop (mean ± std. dev. of 7 runs, 100 loops each)\n"
     ]
    }
   ],
   "source": [
    "%timeit jax.pmap(convolve)(xs, ws)\n"
   ],
   "metadata": {
    "collapsed": false
   }
  },
  {
   "cell_type": "code",
   "execution_count": 17,
   "outputs": [
    {
     "name": "stdout",
     "output_type": "stream",
     "text": [
      "CPU times: user 18.3 ms, sys: 3.89 ms, total: 22.2 ms\n",
      "Wall time: 19.4 ms\n",
      "CPU times: user 34.1 ms, sys: 43 µs, total: 34.2 ms\n",
      "Wall time: 13 ms\n",
      "5.27 ms ± 364 µs per loop (mean ± std. dev. of 7 runs, 100 loops each)\n",
      "6.14 ms ± 171 µs per loop (mean ± std. dev. of 7 runs, 100 loops each)\n"
     ]
    }
   ],
   "source": [
    "%time jax.vmap(jax.jit(convolve))(xs, ws)\n",
    "%time jax.pmap(convolve)(xs, ws)\n",
    "\n",
    "%timeit jax.vmap(jax.jit(convolve))(xs, ws)\n",
    "%timeit jax.pmap(convolve)(xs, ws)\n"
   ],
   "metadata": {
    "collapsed": false
   }
  },
  {
   "cell_type": "code",
   "execution_count": 20,
   "outputs": [
    {
     "name": "stderr",
     "output_type": "stream",
     "text": [
      "2023-01-28 21:01:34.568619: E external/org_tensorflow/tensorflow/compiler/xla/service/slow_operation_alarm.cc:65] \n",
      "********************************\n",
      "[Compiling module jit_convolve] Very slow compile?  If you want to file a bug, run with envvar XLA_FLAGS=--xla_dump_to=/tmp/foo and attach the results.\n",
      "********************************\n",
      "2023-01-28 21:01:46.953251: E external/org_tensorflow/tensorflow/compiler/xla/service/slow_operation_alarm.cc:133] The operation took 2m12.380533367s\n",
      "\n",
      "********************************\n",
      "[Compiling module jit_convolve] Very slow compile?  If you want to file a bug, run with envvar XLA_FLAGS=--xla_dump_to=/tmp/foo and attach the results.\n",
      "********************************\n"
     ]
    },
    {
     "name": "stdout",
     "output_type": "stream",
     "text": [
      "CPU times: user 1h 17min 5s, sys: 56.1 s, total: 1h 18min 1s\n",
      "Wall time: 1h 12min 1s\n"
     ]
    },
    {
     "name": "stderr",
     "output_type": "stream",
     "text": [
      "2023-01-28 22:11:19.419497: E external/org_tensorflow/tensorflow/compiler/xla/service/slow_operation_alarm.cc:133] The operation took 2m12.614540417s\n",
      "\n",
      "********************************\n",
      "[Compiling module pmap_convolve] Very slow compile?  If you want to file a bug, run with envvar XLA_FLAGS=--xla_dump_to=/tmp/foo and attach the results.\n",
      "********************************\n"
     ]
    },
    {
     "name": "stdout",
     "output_type": "stream",
     "text": [
      "CPU times: user 1h 14min 24s, sys: 41.7 s, total: 1h 15min 6s\n",
      "Wall time: 1h 9min 33s\n",
      "14.5 ms ± 138 µs per loop (mean ± std. dev. of 7 runs, 100 loops each)\n",
      "22.3 ms ± 983 µs per loop (mean ± std. dev. of 7 runs, 10 loops each)\n"
     ]
    }
   ],
   "source": [
    "%time jax.vmap(jax.jit(convolve))(xs, ws)\n",
    "%time jax.pmap(convolve)(xs, ws)\n",
    "\n",
    "%timeit jax.vmap(jax.jit(convolve))(xs, ws)\n",
    "%timeit jax.pmap(convolve)(xs, ws)\n"
   ],
   "metadata": {
    "collapsed": false
   }
  },
  {
   "cell_type": "code",
   "execution_count": 22,
   "outputs": [
    {
     "name": "stdout",
     "output_type": "stream",
     "text": [
      "CPU times: user 37.1 ms, sys: 4.01 ms, total: 41.1 ms\n",
      "Wall time: 38.1 ms\n",
      "CPU times: user 85.4 ms, sys: 7.97 ms, total: 93.3 ms\n",
      "Wall time: 41.3 ms\n",
      "16.1 ms ± 1.21 ms per loop (mean ± std. dev. of 7 runs, 100 loops each)\n",
      "24.3 ms ± 1.81 ms per loop (mean ± std. dev. of 7 runs, 10 loops each)\n"
     ]
    }
   ],
   "source": [
    "%time jax.vmap(jax.jit(convolve))(xs, ws)\n",
    "%time jax.pmap(convolve)(xs, ws)\n",
    "\n",
    "%timeit jax.vmap(jax.jit(convolve))(xs, ws)\n",
    "%timeit jax.pmap(convolve)(xs, ws)\n"
   ],
   "metadata": {
    "collapsed": false
   }
  },
  {
   "cell_type": "code",
   "execution_count": null,
   "outputs": [],
   "source": [],
   "metadata": {
    "collapsed": false
   }
  }
 ],
 "metadata": {
  "kernelspec": {
   "display_name": "Python 3",
   "language": "python",
   "name": "python3"
  },
  "language_info": {
   "codemirror_mode": {
    "name": "ipython",
    "version": 2
   },
   "file_extension": ".py",
   "mimetype": "text/x-python",
   "name": "python",
   "nbconvert_exporter": "python",
   "pygments_lexer": "ipython2",
   "version": "2.7.6"
  }
 },
 "nbformat": 4,
 "nbformat_minor": 0
}
