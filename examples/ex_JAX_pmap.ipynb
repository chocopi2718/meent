{
 "cells": [
  {
   "cell_type": "markdown",
   "source": [
    "import os\n",
    "os.environ[\"CUDA_DEVICE_ORDER\"] = \"PCI_BUS_ID\"\n",
    "os.environ[\"CUDA_VISIBLE_DEVICES\"] = '1,2,3'\n",
    "\n",
    "\n",
    "# The following is run in parallel on each host on a GPU cluster or TPU pod slice.\n",
    "import jax\n",
    "# jax.distributed.initialize()  # On GPU, see above for the necessary arguments.\n",
    "jax.device_count()  # total number of accelerator devices in the cluster"
   ],
   "metadata": {
    "collapsed": false
   }
  },
  {
   "cell_type": "code",
   "execution_count": 3,
   "outputs": [
    {
     "data": {
      "text/plain": "3"
     },
     "execution_count": 3,
     "metadata": {},
     "output_type": "execute_result"
    }
   ],
   "source": [
    "jax.local_device_count()  # number of accelerator devices attached to this host"
   ],
   "metadata": {
    "collapsed": false
   }
  },
  {
   "cell_type": "code",
   "execution_count": 4,
   "outputs": [
    {
     "data": {
      "text/plain": "Array([3., 3., 3.], dtype=float32)"
     },
     "execution_count": 4,
     "metadata": {},
     "output_type": "execute_result"
    }
   ],
   "source": [
    "# The psum is performed over all mapped devices across the pod slice\n",
    "xs = jax.numpy.ones(jax.local_device_count())\n",
    "jax.pmap(lambda x: jax.lax.psum(x, 'i'), axis_name='i')(xs)\n",
    "# ShardedDeviceArray([32., 32., 32., 32., 32., 32., 32., 32.], dtype=float32)"
   ],
   "metadata": {
    "collapsed": false
   }
  },
  {
   "cell_type": "code",
   "execution_count": 1,
   "outputs": [
    {
     "data": {
      "text/plain": "Array([11., 20., 29.], dtype=float32)"
     },
     "execution_count": 1,
     "metadata": {},
     "output_type": "execute_result"
    }
   ],
   "source": [
    "import jax\n",
    "import jax.numpy as jnp\n",
    "\n",
    "x = jnp.arange(5)\n",
    "w = jnp.array([2., 3., 4.])\n",
    "\n",
    "def convolve(x, w):\n",
    "  output = []\n",
    "  for i in range(1, len(x)-1):\n",
    "    output.append(jnp.dot(x[i-1:i+2], w))\n",
    "  return jnp.array(output)\n",
    "\n",
    "convolve(x, w)"
   ],
   "metadata": {
    "collapsed": false
   }
  },
  {
   "cell_type": "code",
   "execution_count": 1,
   "metadata": {
    "collapsed": true
   },
   "outputs": [],
   "source": [
    "import os\n",
    "os.environ[\"CUDA_DEVICE_ORDER\"] = \"PCI_BUS_ID\"\n",
    "os.environ[\"CUDA_VISIBLE_DEVICES\"] = '1,2,3'\n",
    "\n",
    "import jax\n",
    "\n",
    "import numpy as np\n",
    "import jax.numpy as jnp\n",
    "\n",
    "import time"
   ]
  },
  {
   "cell_type": "code",
   "execution_count": 2,
   "outputs": [],
   "source": [
    "\n",
    "size = 5\n",
    "x = jnp.arange(size)\n",
    "w = jnp.array([2., 3., 4.])\n",
    "\n",
    "\n",
    "def convolve(x, w):\n",
    "  output = []\n",
    "  for i in range(1, len(x)-1):\n",
    "    output.append(jnp.dot(x[i-1:i+2], w))\n",
    "  return jnp.array(output)\n",
    "\n",
    "iter = 2"
   ],
   "metadata": {
    "collapsed": false
   }
  },
  {
   "cell_type": "code",
   "execution_count": 3,
   "outputs": [
    {
     "name": "stdout",
     "output_type": "stream",
     "text": [
      "1.5886805057525635\n",
      "[  11.   20.   29.   38.   47.   56.   65.   74.   83.   92.  101.  110.\n",
      "  119.  128.  137.  146.  155.  164.  173.  182.  191.  200.  209.  218.\n",
      "  227.  236.  245.  254.  263.  272.  281.  290.  299.  308.  317.  326.\n",
      "  335.  344.  353.  362.  371.  380.  389.  398.  407.  416.  425.  434.\n",
      "  443.  452.  461.  470.  479.  488.  497.  506.  515.  524.  533.  542.\n",
      "  551.  560.  569.  578.  587.  596.  605.  614.  623.  632.  641.  650.\n",
      "  659.  668.  677.  686.  695.  704.  713.  722.  731.  740.  749.  758.\n",
      "  767.  776.  785.  794.  803.  812.  821.  830.  839.  848.  857.  866.\n",
      "  875.  884.  893.  902.  911.  920.  929.  938.  947.  956.  965.  974.\n",
      "  983.  992. 1001. 1010. 1019. 1028. 1037. 1046. 1055. 1064. 1073. 1082.\n",
      " 1091. 1100. 1109. 1118. 1127. 1136. 1145. 1154. 1163. 1172. 1181. 1190.\n",
      " 1199. 1208. 1217. 1226. 1235. 1244. 1253. 1262. 1271. 1280. 1289. 1298.\n",
      " 1307. 1316. 1325. 1334. 1343. 1352. 1361. 1370. 1379. 1388. 1397. 1406.\n",
      " 1415. 1424. 1433. 1442. 1451. 1460. 1469. 1478. 1487. 1496. 1505. 1514.\n",
      " 1523. 1532. 1541. 1550. 1559. 1568. 1577. 1586. 1595. 1604. 1613. 1622.\n",
      " 1631. 1640. 1649. 1658. 1667. 1676. 1685. 1694. 1703. 1712. 1721. 1730.\n",
      " 1739. 1748. 1757. 1766. 1775. 1784.]\n",
      "0.0011823177337646484\n",
      "[  11.   20.   29.   38.   47.   56.   65.   74.   83.   92.  101.  110.\n",
      "  119.  128.  137.  146.  155.  164.  173.  182.  191.  200.  209.  218.\n",
      "  227.  236.  245.  254.  263.  272.  281.  290.  299.  308.  317.  326.\n",
      "  335.  344.  353.  362.  371.  380.  389.  398.  407.  416.  425.  434.\n",
      "  443.  452.  461.  470.  479.  488.  497.  506.  515.  524.  533.  542.\n",
      "  551.  560.  569.  578.  587.  596.  605.  614.  623.  632.  641.  650.\n",
      "  659.  668.  677.  686.  695.  704.  713.  722.  731.  740.  749.  758.\n",
      "  767.  776.  785.  794.  803.  812.  821.  830.  839.  848.  857.  866.\n",
      "  875.  884.  893.  902.  911.  920.  929.  938.  947.  956.  965.  974.\n",
      "  983.  992. 1001. 1010. 1019. 1028. 1037. 1046. 1055. 1064. 1073. 1082.\n",
      " 1091. 1100. 1109. 1118. 1127. 1136. 1145. 1154. 1163. 1172. 1181. 1190.\n",
      " 1199. 1208. 1217. 1226. 1235. 1244. 1253. 1262. 1271. 1280. 1289. 1298.\n",
      " 1307. 1316. 1325. 1334. 1343. 1352. 1361. 1370. 1379. 1388. 1397. 1406.\n",
      " 1415. 1424. 1433. 1442. 1451. 1460. 1469. 1478. 1487. 1496. 1505. 1514.\n",
      " 1523. 1532. 1541. 1550. 1559. 1568. 1577. 1586. 1595. 1604. 1613. 1622.\n",
      " 1631. 1640. 1649. 1658. 1667. 1676. 1685. 1694. 1703. 1712. 1721. 1730.\n",
      " 1739. 1748. 1757. 1766. 1775. 1784.]\n"
     ]
    }
   ],
   "source": [
    "for _ in range(iter):\n",
    "  t0 = time.time()\n",
    "  a=jax.jit(convolve)(x, w)\n",
    "  print(time.time() - t0)\n"
   ],
   "metadata": {
    "collapsed": false
   }
  },
  {
   "cell_type": "code",
   "execution_count": null,
   "outputs": [],
   "source": [
    "n_devices = jax.local_device_count()\n",
    "xs = np.arange(size * n_devices).reshape(-1, size)\n",
    "ws = np.stack([w] * n_devices)\n"
   ],
   "metadata": {
    "collapsed": false
   }
  },
  {
   "cell_type": "code",
   "execution_count": null,
   "outputs": [],
   "source": [
    "for _ in range(iter):\n",
    "  t0 = time.time()\n",
    "  jax.vmap(convolve)(xs, ws)\n",
    "  print(time.time() - t0)\n"
   ],
   "metadata": {
    "collapsed": false
   }
  },
  {
   "cell_type": "code",
   "execution_count": null,
   "outputs": [],
   "source": [
    "for _ in range(iter):\n",
    "  t0 = time.time()\n",
    "  a = jax.pmap(convolve)(xs, ws).block_until_ready()\n",
    "  print(time.time() - t0)\n"
   ],
   "metadata": {
    "collapsed": false
   }
  },
  {
   "cell_type": "code",
   "execution_count": 1,
   "outputs": [],
   "source": [
    "import jax\n",
    "import jax.numpy as jnp\n",
    "import scipy.special\n",
    "\n",
    "def jv(v, z):\n",
    "  v, z = jnp.asarray(v), jnp.asarray(z)\n",
    "\n",
    "  # Require the order v to be integer type: this simplifies\n",
    "  # the JVP rule below.\n",
    "  assert jnp.issubdtype(v.dtype, jnp.integer)\n",
    "\n",
    "  # Promote the input to inexact (float/complex).\n",
    "  # Note that jnp.result_type() accounts for the enable_x64 flag.\n",
    "  z = z.astype(jnp.result_type(float, z.dtype))\n",
    "\n",
    "  # Wrap scipy function to return the expected dtype.\n",
    "  _scipy_jv = lambda v, z: scipy.special.jv(v, z).astype(z.dtype)\n",
    "\n",
    "  # Define the expected shape & dtype of output.\n",
    "  result_shape_dtype = jax.ShapeDtypeStruct(\n",
    "      shape=jnp.broadcast_shapes(v.shape, z.shape),\n",
    "      dtype=z.dtype)\n",
    "\n",
    "  # We use vectorize=True because scipy.special.jv handles broadcasted inputs.\n",
    "  return jax.pure_callback(_scipy_jv, result_shape_dtype, v, z, vectorized=True)"
   ],
   "metadata": {
    "collapsed": false
   }
  },
  {
   "cell_type": "code",
   "execution_count": 2,
   "outputs": [
    {
     "data": {
      "text/plain": "<function __main__.jv(v, z)>"
     },
     "execution_count": 2,
     "metadata": {},
     "output_type": "execute_result"
    }
   ],
   "source": [
    "jv"
   ],
   "metadata": {
    "collapsed": false
   }
  },
  {
   "cell_type": "code",
   "execution_count": 3,
   "outputs": [
    {
     "data": {
      "text/plain": "<function jax._src.numpy.linalg.eig(a: Union[jax.Array, numpy.ndarray, numpy.bool_, numpy.number, bool, int, float, complex]) -> Tuple[jax.Array, jax.Array]>"
     },
     "execution_count": 3,
     "metadata": {},
     "output_type": "execute_result"
    }
   ],
   "source": [
    "jnp.linalg.eig"
   ],
   "metadata": {
    "collapsed": false
   }
  },
  {
   "cell_type": "code",
   "execution_count": 10,
   "outputs": [
    {
     "ename": "TypeError",
     "evalue": "Shapes must be 1D sequences of concrete values of integer type, got ((1000,), (1000, 1000)).",
     "output_type": "error",
     "traceback": [
      "\u001B[0;31m---------------------------------------------------------------------------\u001B[0m",
      "\u001B[0;31mTypeError\u001B[0m                                 Traceback (most recent call last)",
      "Cell \u001B[0;32mIn[10], line 21\u001B[0m\n\u001B[1;32m     14\u001B[0m     result_shape_dtype \u001B[38;5;241m=\u001B[39m jax\u001B[38;5;241m.\u001B[39mShapeDtypeStruct(\n\u001B[1;32m     15\u001B[0m     shape\u001B[38;5;241m=\u001B[39m(eigenvalues_shape\u001B[38;5;241m.\u001B[39mshape, eigenvectors_shape\u001B[38;5;241m.\u001B[39mshape),\n\u001B[1;32m     16\u001B[0m     dtype\u001B[38;5;241m=\u001B[39mtype_complex\n\u001B[1;32m     17\u001B[0m     )\n\u001B[1;32m     19\u001B[0m     \u001B[38;5;28;01mreturn\u001B[39;00m jax\u001B[38;5;241m.\u001B[39mpure_callback(_eig, result_shape_dtype, X)\n\u001B[0;32m---> 21\u001B[0m \u001B[38;5;28mprint\u001B[39m(\u001B[43meig\u001B[49m\u001B[43m(\u001B[49m\u001B[43mX\u001B[49m\u001B[43m)\u001B[49m)\n",
      "Cell \u001B[0;32mIn[10], line 19\u001B[0m, in \u001B[0;36meig\u001B[0;34m(X)\u001B[0m\n\u001B[1;32m     12\u001B[0m eigenvectors_shape \u001B[38;5;241m=\u001B[39m jax\u001B[38;5;241m.\u001B[39mShapeDtypeStruct(X\u001B[38;5;241m.\u001B[39mshape, type_complex)\n\u001B[1;32m     14\u001B[0m result_shape_dtype \u001B[38;5;241m=\u001B[39m jax\u001B[38;5;241m.\u001B[39mShapeDtypeStruct(\n\u001B[1;32m     15\u001B[0m shape\u001B[38;5;241m=\u001B[39m(eigenvalues_shape\u001B[38;5;241m.\u001B[39mshape, eigenvectors_shape\u001B[38;5;241m.\u001B[39mshape),\n\u001B[1;32m     16\u001B[0m dtype\u001B[38;5;241m=\u001B[39mtype_complex\n\u001B[1;32m     17\u001B[0m )\n\u001B[0;32m---> 19\u001B[0m \u001B[38;5;28;01mreturn\u001B[39;00m \u001B[43mjax\u001B[49m\u001B[38;5;241;43m.\u001B[39;49m\u001B[43mpure_callback\u001B[49m\u001B[43m(\u001B[49m\u001B[43m_eig\u001B[49m\u001B[43m,\u001B[49m\u001B[43m \u001B[49m\u001B[43mresult_shape_dtype\u001B[49m\u001B[43m,\u001B[49m\u001B[43m \u001B[49m\u001B[43mX\u001B[49m\u001B[43m)\u001B[49m\n",
      "File \u001B[0;32m~/anaconda3/envs/meent/lib/python3.10/site-packages/jax/_src/api.py:3422\u001B[0m, in \u001B[0;36mpure_callback\u001B[0;34m(callback, result_shape_dtypes, *args, **kwargs)\u001B[0m\n\u001B[1;32m   3371\u001B[0m \u001B[38;5;28;01mdef\u001B[39;00m \u001B[38;5;21mpure_callback\u001B[39m(callback: Callable[\u001B[38;5;241m.\u001B[39m\u001B[38;5;241m.\u001B[39m\u001B[38;5;241m.\u001B[39m, Any], result_shape_dtypes: Any,\n\u001B[1;32m   3372\u001B[0m                   \u001B[38;5;241m*\u001B[39margs: Any, \u001B[38;5;241m*\u001B[39m\u001B[38;5;241m*\u001B[39mkwargs: Any):\n\u001B[1;32m   3373\u001B[0m   \u001B[38;5;124;03m\"\"\"Applies a functionally pure Python callable. Works under :func:`jit`/:func:`~pmap`/etc.\u001B[39;00m\n\u001B[1;32m   3374\u001B[0m \n\u001B[1;32m   3375\u001B[0m \u001B[38;5;124;03m  ``pure_callback`` enables calling a Python function in JIT-ed JAX functions.\u001B[39;00m\n\u001B[0;32m   (...)\u001B[0m\n\u001B[1;32m   3420\u001B[0m \u001B[38;5;124;03m    The value of ``callback(*args, **kwargs)``.\u001B[39;00m\n\u001B[1;32m   3421\u001B[0m \u001B[38;5;124;03m  \"\"\"\u001B[39;00m\n\u001B[0;32m-> 3422\u001B[0m   \u001B[38;5;28;01mreturn\u001B[39;00m \u001B[43mjcb\u001B[49m\u001B[38;5;241;43m.\u001B[39;49m\u001B[43mpure_callback\u001B[49m\u001B[43m(\u001B[49m\u001B[43mcallback\u001B[49m\u001B[43m,\u001B[49m\u001B[43m \u001B[49m\u001B[43mresult_shape_dtypes\u001B[49m\u001B[43m,\u001B[49m\u001B[43m \u001B[49m\u001B[38;5;241;43m*\u001B[39;49m\u001B[43margs\u001B[49m\u001B[43m,\u001B[49m\u001B[43m \u001B[49m\u001B[38;5;241;43m*\u001B[39;49m\u001B[38;5;241;43m*\u001B[39;49m\u001B[43mkwargs\u001B[49m\u001B[43m)\u001B[49m\n",
      "File \u001B[0;32m~/anaconda3/envs/meent/lib/python3.10/site-packages/jax/_src/callback.py:128\u001B[0m, in \u001B[0;36mpure_callback\u001B[0;34m(callback, result_shape_dtypes, vectorized, *args, **kwargs)\u001B[0m\n\u001B[1;32m    126\u001B[0m flat_args, in_tree \u001B[38;5;241m=\u001B[39m tree_util\u001B[38;5;241m.\u001B[39mtree_flatten((args, kwargs))\n\u001B[1;32m    127\u001B[0m tree_util\u001B[38;5;241m.\u001B[39mtree_map(_check_shape_dtype, result_shape_dtypes)\n\u001B[0;32m--> 128\u001B[0m result_avals \u001B[38;5;241m=\u001B[39m \u001B[43mtree_util\u001B[49m\u001B[38;5;241;43m.\u001B[39;49m\u001B[43mtree_map\u001B[49m\u001B[43m(\u001B[49m\n\u001B[1;32m    129\u001B[0m \u001B[43m    \u001B[49m\u001B[38;5;28;43;01mlambda\u001B[39;49;00m\u001B[43m \u001B[49m\u001B[43mx\u001B[49m\u001B[43m:\u001B[49m\u001B[43m \u001B[49m\u001B[43mcore\u001B[49m\u001B[38;5;241;43m.\u001B[39;49m\u001B[43mShapedArray\u001B[49m\u001B[43m(\u001B[49m\u001B[43mx\u001B[49m\u001B[38;5;241;43m.\u001B[39;49m\u001B[43mshape\u001B[49m\u001B[43m,\u001B[49m\u001B[43m \u001B[49m\u001B[43mx\u001B[49m\u001B[38;5;241;43m.\u001B[39;49m\u001B[43mdtype\u001B[49m\u001B[43m)\u001B[49m\u001B[43m,\u001B[49m\u001B[43m \u001B[49m\u001B[43mresult_shape_dtypes\u001B[49m\u001B[43m)\u001B[49m\n\u001B[1;32m    130\u001B[0m flat_result_avals, out_tree \u001B[38;5;241m=\u001B[39m tree_util\u001B[38;5;241m.\u001B[39mtree_flatten(result_avals)\n\u001B[1;32m    131\u001B[0m out_flat \u001B[38;5;241m=\u001B[39m pure_callback_p\u001B[38;5;241m.\u001B[39mbind(\n\u001B[1;32m    132\u001B[0m     \u001B[38;5;241m*\u001B[39mflat_args, callback\u001B[38;5;241m=\u001B[39m_flat_callback,\n\u001B[1;32m    133\u001B[0m     result_avals\u001B[38;5;241m=\u001B[39m\u001B[38;5;28mtuple\u001B[39m(flat_result_avals), vectorized\u001B[38;5;241m=\u001B[39mvectorized)\n",
      "File \u001B[0;32m~/anaconda3/envs/meent/lib/python3.10/site-packages/jax/_src/tree_util.py:207\u001B[0m, in \u001B[0;36mtree_map\u001B[0;34m(f, tree, is_leaf, *rest)\u001B[0m\n\u001B[1;32m    205\u001B[0m leaves, treedef \u001B[38;5;241m=\u001B[39m tree_flatten(tree, is_leaf)\n\u001B[1;32m    206\u001B[0m all_leaves \u001B[38;5;241m=\u001B[39m [leaves] \u001B[38;5;241m+\u001B[39m [treedef\u001B[38;5;241m.\u001B[39mflatten_up_to(r) \u001B[38;5;28;01mfor\u001B[39;00m r \u001B[38;5;129;01min\u001B[39;00m rest]\n\u001B[0;32m--> 207\u001B[0m \u001B[38;5;28;01mreturn\u001B[39;00m \u001B[43mtreedef\u001B[49m\u001B[38;5;241;43m.\u001B[39;49m\u001B[43munflatten\u001B[49m\u001B[43m(\u001B[49m\u001B[43mf\u001B[49m\u001B[43m(\u001B[49m\u001B[38;5;241;43m*\u001B[39;49m\u001B[43mxs\u001B[49m\u001B[43m)\u001B[49m\u001B[43m \u001B[49m\u001B[38;5;28;43;01mfor\u001B[39;49;00m\u001B[43m \u001B[49m\u001B[43mxs\u001B[49m\u001B[43m \u001B[49m\u001B[38;5;129;43;01min\u001B[39;49;00m\u001B[43m \u001B[49m\u001B[38;5;28;43mzip\u001B[39;49m\u001B[43m(\u001B[49m\u001B[38;5;241;43m*\u001B[39;49m\u001B[43mall_leaves\u001B[49m\u001B[43m)\u001B[49m\u001B[43m)\u001B[49m\n",
      "File \u001B[0;32m~/anaconda3/envs/meent/lib/python3.10/site-packages/jax/_src/tree_util.py:207\u001B[0m, in \u001B[0;36m<genexpr>\u001B[0;34m(.0)\u001B[0m\n\u001B[1;32m    205\u001B[0m leaves, treedef \u001B[38;5;241m=\u001B[39m tree_flatten(tree, is_leaf)\n\u001B[1;32m    206\u001B[0m all_leaves \u001B[38;5;241m=\u001B[39m [leaves] \u001B[38;5;241m+\u001B[39m [treedef\u001B[38;5;241m.\u001B[39mflatten_up_to(r) \u001B[38;5;28;01mfor\u001B[39;00m r \u001B[38;5;129;01min\u001B[39;00m rest]\n\u001B[0;32m--> 207\u001B[0m \u001B[38;5;28;01mreturn\u001B[39;00m treedef\u001B[38;5;241m.\u001B[39munflatten(\u001B[43mf\u001B[49m\u001B[43m(\u001B[49m\u001B[38;5;241;43m*\u001B[39;49m\u001B[43mxs\u001B[49m\u001B[43m)\u001B[49m \u001B[38;5;28;01mfor\u001B[39;00m xs \u001B[38;5;129;01min\u001B[39;00m \u001B[38;5;28mzip\u001B[39m(\u001B[38;5;241m*\u001B[39mall_leaves))\n",
      "File \u001B[0;32m~/anaconda3/envs/meent/lib/python3.10/site-packages/jax/_src/callback.py:129\u001B[0m, in \u001B[0;36mpure_callback.<locals>.<lambda>\u001B[0;34m(x)\u001B[0m\n\u001B[1;32m    126\u001B[0m flat_args, in_tree \u001B[38;5;241m=\u001B[39m tree_util\u001B[38;5;241m.\u001B[39mtree_flatten((args, kwargs))\n\u001B[1;32m    127\u001B[0m tree_util\u001B[38;5;241m.\u001B[39mtree_map(_check_shape_dtype, result_shape_dtypes)\n\u001B[1;32m    128\u001B[0m result_avals \u001B[38;5;241m=\u001B[39m tree_util\u001B[38;5;241m.\u001B[39mtree_map(\n\u001B[0;32m--> 129\u001B[0m     \u001B[38;5;28;01mlambda\u001B[39;00m x: \u001B[43mcore\u001B[49m\u001B[38;5;241;43m.\u001B[39;49m\u001B[43mShapedArray\u001B[49m\u001B[43m(\u001B[49m\u001B[43mx\u001B[49m\u001B[38;5;241;43m.\u001B[39;49m\u001B[43mshape\u001B[49m\u001B[43m,\u001B[49m\u001B[43m \u001B[49m\u001B[43mx\u001B[49m\u001B[38;5;241;43m.\u001B[39;49m\u001B[43mdtype\u001B[49m\u001B[43m)\u001B[49m, result_shape_dtypes)\n\u001B[1;32m    130\u001B[0m flat_result_avals, out_tree \u001B[38;5;241m=\u001B[39m tree_util\u001B[38;5;241m.\u001B[39mtree_flatten(result_avals)\n\u001B[1;32m    131\u001B[0m out_flat \u001B[38;5;241m=\u001B[39m pure_callback_p\u001B[38;5;241m.\u001B[39mbind(\n\u001B[1;32m    132\u001B[0m     \u001B[38;5;241m*\u001B[39mflat_args, callback\u001B[38;5;241m=\u001B[39m_flat_callback,\n\u001B[1;32m    133\u001B[0m     result_avals\u001B[38;5;241m=\u001B[39m\u001B[38;5;28mtuple\u001B[39m(flat_result_avals), vectorized\u001B[38;5;241m=\u001B[39mvectorized)\n",
      "File \u001B[0;32m~/anaconda3/envs/meent/lib/python3.10/site-packages/jax/core.py:1372\u001B[0m, in \u001B[0;36mShapedArray.__init__\u001B[0;34m(self, shape, dtype, weak_type, named_shape)\u001B[0m\n\u001B[1;32m   1371\u001B[0m \u001B[38;5;28;01mdef\u001B[39;00m \u001B[38;5;21m__init__\u001B[39m(\u001B[38;5;28mself\u001B[39m, shape, dtype, weak_type\u001B[38;5;241m=\u001B[39m\u001B[38;5;28;01mFalse\u001B[39;00m, named_shape\u001B[38;5;241m=\u001B[39m\u001B[38;5;28;01mNone\u001B[39;00m):\n\u001B[0;32m-> 1372\u001B[0m   \u001B[38;5;28mself\u001B[39m\u001B[38;5;241m.\u001B[39mshape \u001B[38;5;241m=\u001B[39m \u001B[43mcanonicalize_shape\u001B[49m\u001B[43m(\u001B[49m\u001B[43mshape\u001B[49m\u001B[43m)\u001B[49m\n\u001B[1;32m   1373\u001B[0m   \u001B[38;5;28mself\u001B[39m\u001B[38;5;241m.\u001B[39mdtype \u001B[38;5;241m=\u001B[39m _dtype_object(dtype)\n\u001B[1;32m   1374\u001B[0m   \u001B[38;5;28mself\u001B[39m\u001B[38;5;241m.\u001B[39mweak_type \u001B[38;5;241m=\u001B[39m weak_type\n",
      "File \u001B[0;32m~/anaconda3/envs/meent/lib/python3.10/site-packages/jax/core.py:1904\u001B[0m, in \u001B[0;36mcanonicalize_shape\u001B[0;34m(shape, context)\u001B[0m\n\u001B[1;32m   1902\u001B[0m \u001B[38;5;28;01mexcept\u001B[39;00m \u001B[38;5;167;01mTypeError\u001B[39;00m:\n\u001B[1;32m   1903\u001B[0m   \u001B[38;5;28;01mpass\u001B[39;00m\n\u001B[0;32m-> 1904\u001B[0m \u001B[38;5;28;01mraise\u001B[39;00m _invalid_shape_error(shape, context)\n",
      "\u001B[0;31mTypeError\u001B[0m: Shapes must be 1D sequences of concrete values of integer type, got ((1000,), (1000, 1000))."
     ]
    }
   ],
   "source": [
    "import numpy as np\n",
    "import jax.numpy as jnp\n",
    "\n",
    "\n",
    "X = jnp.arange(1000**2).reshape((1000,1000))\n",
    "\n",
    "def eig(X):\n",
    "    type_complex=jnp.complex64\n",
    "    _eig = lambda x: np.linalg.eig(x)\n",
    "\n",
    "    eigenvalues_shape = jax.ShapeDtypeStruct(X.shape[:-1], type_complex)\n",
    "    eigenvectors_shape = jax.ShapeDtypeStruct(X.shape, type_complex)\n",
    "\n",
    "    result_shape_dtype = jax.ShapeDtypeStruct(\n",
    "    shape=(eigenvalues_shape.shape, eigenvectors_shape.shape),\n",
    "    dtype=type_complex\n",
    "    )\n",
    "\n",
    "    return jax.pure_callback(_eig, result_shape_dtype, X)\n",
    "\n",
    "print(eig(X))"
   ],
   "metadata": {
    "collapsed": false
   }
  },
  {
   "cell_type": "code",
   "execution_count": null,
   "outputs": [],
   "source": [],
   "metadata": {
    "collapsed": false
   }
  }
 ],
 "metadata": {
  "kernelspec": {
   "display_name": "Python 3",
   "language": "python",
   "name": "python3"
  },
  "language_info": {
   "codemirror_mode": {
    "name": "ipython",
    "version": 2
   },
   "file_extension": ".py",
   "mimetype": "text/x-python",
   "name": "python",
   "nbconvert_exporter": "python",
   "pygments_lexer": "ipython2",
   "version": "2.7.6"
  }
 },
 "nbformat": 4,
 "nbformat_minor": 0
}
