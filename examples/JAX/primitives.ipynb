{
 "cells": [
  {
   "cell_type": "code",
   "execution_count": 2,
   "metadata": {
    "collapsed": true
   },
   "outputs": [],
   "source": [
    "from jax import core\n",
    "multiply_add_p = core.Primitive(\"multiply_add\")  # Create the primitive\n",
    "\n",
    "# @trace(\"multiply_add_prim\")\n",
    "def multiply_add_prim(x, y, z):\n",
    "  \"\"\"The JAX-traceable way to use the JAX primitive.\n",
    "\n",
    "  Note that the traced arguments must be passed as positional arguments\n",
    "  to `bind`.\n",
    "  \"\"\"\n",
    "  return multiply_add_p.bind(x, y, z)\n",
    "\n",
    "# @trace(\"square_add_prim\")\n",
    "def square_add_prim(a, b):\n",
    "  \"\"\"A square-add function implemented using the new JAX-primitive.\"\"\"\n",
    "  return multiply_add_prim(a, a, b)"
   ]
  },
  {
   "cell_type": "code",
   "execution_count": 4,
   "outputs": [
    {
     "ename": "NotImplementedError",
     "evalue": "Evaluation rule for 'multiply_add' not implemented",
     "output_type": "error",
     "traceback": [
      "\u001B[0;31m---------------------------------------------------------------------------\u001B[0m",
      "\u001B[0;31mNotImplementedError\u001B[0m                       Traceback (most recent call last)",
      "Cell \u001B[0;32mIn [4], line 1\u001B[0m\n\u001B[0;32m----> 1\u001B[0m square_add_prim(\u001B[38;5;241m2.\u001B[39m, \u001B[38;5;241m10.\u001B[39m)\n",
      "Cell \u001B[0;32mIn [2], line 16\u001B[0m, in \u001B[0;36msquare_add_prim\u001B[0;34m(a, b)\u001B[0m\n\u001B[1;32m     14\u001B[0m \u001B[38;5;28;01mdef\u001B[39;00m \u001B[38;5;21msquare_add_prim\u001B[39m(a, b):\n\u001B[1;32m     15\u001B[0m   \u001B[38;5;124;03m\"\"\"A square-add function implemented using the new JAX-primitive.\"\"\"\u001B[39;00m\n\u001B[0;32m---> 16\u001B[0m   \u001B[38;5;28;01mreturn\u001B[39;00m \u001B[43mmultiply_add_prim\u001B[49m\u001B[43m(\u001B[49m\u001B[43ma\u001B[49m\u001B[43m,\u001B[49m\u001B[43m \u001B[49m\u001B[43ma\u001B[49m\u001B[43m,\u001B[49m\u001B[43m \u001B[49m\u001B[43mb\u001B[49m\u001B[43m)\u001B[49m\n",
      "Cell \u001B[0;32mIn [2], line 11\u001B[0m, in \u001B[0;36mmultiply_add_prim\u001B[0;34m(x, y, z)\u001B[0m\n\u001B[1;32m      5\u001B[0m \u001B[38;5;28;01mdef\u001B[39;00m \u001B[38;5;21mmultiply_add_prim\u001B[39m(x, y, z):\n\u001B[1;32m      6\u001B[0m   \u001B[38;5;124;03m\"\"\"The JAX-traceable way to use the JAX primitive.\u001B[39;00m\n\u001B[1;32m      7\u001B[0m \n\u001B[1;32m      8\u001B[0m \u001B[38;5;124;03m  Note that the traced arguments must be passed as positional arguments\u001B[39;00m\n\u001B[1;32m      9\u001B[0m \u001B[38;5;124;03m  to `bind`.\u001B[39;00m\n\u001B[1;32m     10\u001B[0m \u001B[38;5;124;03m  \"\"\"\u001B[39;00m\n\u001B[0;32m---> 11\u001B[0m   \u001B[38;5;28;01mreturn\u001B[39;00m \u001B[43mmultiply_add_p\u001B[49m\u001B[38;5;241;43m.\u001B[39;49m\u001B[43mbind\u001B[49m\u001B[43m(\u001B[49m\u001B[43mx\u001B[49m\u001B[43m,\u001B[49m\u001B[43m \u001B[49m\u001B[43my\u001B[49m\u001B[43m,\u001B[49m\u001B[43m \u001B[49m\u001B[43mz\u001B[49m\u001B[43m)\u001B[49m\n",
      "File \u001B[0;32m~/miniforge3_m1/envs/rcwa/lib/python3.9/site-packages/jax/core.py:329\u001B[0m, in \u001B[0;36mPrimitive.bind\u001B[0;34m(self, *args, **params)\u001B[0m\n\u001B[1;32m    326\u001B[0m \u001B[38;5;28;01mdef\u001B[39;00m \u001B[38;5;21mbind\u001B[39m(\u001B[38;5;28mself\u001B[39m, \u001B[38;5;241m*\u001B[39margs, \u001B[38;5;241m*\u001B[39m\u001B[38;5;241m*\u001B[39mparams):\n\u001B[1;32m    327\u001B[0m   \u001B[38;5;28;01massert\u001B[39;00m (\u001B[38;5;129;01mnot\u001B[39;00m config\u001B[38;5;241m.\u001B[39mjax_enable_checks \u001B[38;5;129;01mor\u001B[39;00m\n\u001B[1;32m    328\u001B[0m           \u001B[38;5;28mall\u001B[39m(\u001B[38;5;28misinstance\u001B[39m(arg, Tracer) \u001B[38;5;129;01mor\u001B[39;00m valid_jaxtype(arg) \u001B[38;5;28;01mfor\u001B[39;00m arg \u001B[38;5;129;01min\u001B[39;00m args)), args\n\u001B[0;32m--> 329\u001B[0m   \u001B[38;5;28;01mreturn\u001B[39;00m \u001B[38;5;28;43mself\u001B[39;49m\u001B[38;5;241;43m.\u001B[39;49m\u001B[43mbind_with_trace\u001B[49m\u001B[43m(\u001B[49m\u001B[43mfind_top_trace\u001B[49m\u001B[43m(\u001B[49m\u001B[43margs\u001B[49m\u001B[43m)\u001B[49m\u001B[43m,\u001B[49m\u001B[43m \u001B[49m\u001B[43margs\u001B[49m\u001B[43m,\u001B[49m\u001B[43m \u001B[49m\u001B[43mparams\u001B[49m\u001B[43m)\u001B[49m\n",
      "File \u001B[0;32m~/miniforge3_m1/envs/rcwa/lib/python3.9/site-packages/jax/core.py:332\u001B[0m, in \u001B[0;36mPrimitive.bind_with_trace\u001B[0;34m(self, trace, args, params)\u001B[0m\n\u001B[1;32m    331\u001B[0m \u001B[38;5;28;01mdef\u001B[39;00m \u001B[38;5;21mbind_with_trace\u001B[39m(\u001B[38;5;28mself\u001B[39m, trace, args, params):\n\u001B[0;32m--> 332\u001B[0m   out \u001B[38;5;241m=\u001B[39m \u001B[43mtrace\u001B[49m\u001B[38;5;241;43m.\u001B[39;49m\u001B[43mprocess_primitive\u001B[49m\u001B[43m(\u001B[49m\u001B[38;5;28;43mself\u001B[39;49m\u001B[43m,\u001B[49m\u001B[43m \u001B[49m\u001B[38;5;28;43mmap\u001B[39;49m\u001B[43m(\u001B[49m\u001B[43mtrace\u001B[49m\u001B[38;5;241;43m.\u001B[39;49m\u001B[43mfull_raise\u001B[49m\u001B[43m,\u001B[49m\u001B[43m \u001B[49m\u001B[43margs\u001B[49m\u001B[43m)\u001B[49m\u001B[43m,\u001B[49m\u001B[43m \u001B[49m\u001B[43mparams\u001B[49m\u001B[43m)\u001B[49m\n\u001B[1;32m    333\u001B[0m   \u001B[38;5;28;01mreturn\u001B[39;00m \u001B[38;5;28mmap\u001B[39m(full_lower, out) \u001B[38;5;28;01mif\u001B[39;00m \u001B[38;5;28mself\u001B[39m\u001B[38;5;241m.\u001B[39mmultiple_results \u001B[38;5;28;01melse\u001B[39;00m full_lower(out)\n",
      "File \u001B[0;32m~/miniforge3_m1/envs/rcwa/lib/python3.9/site-packages/jax/core.py:712\u001B[0m, in \u001B[0;36mEvalTrace.process_primitive\u001B[0;34m(self, primitive, tracers, params)\u001B[0m\n\u001B[1;32m    711\u001B[0m \u001B[38;5;28;01mdef\u001B[39;00m \u001B[38;5;21mprocess_primitive\u001B[39m(\u001B[38;5;28mself\u001B[39m, primitive, tracers, params):\n\u001B[0;32m--> 712\u001B[0m   \u001B[38;5;28;01mreturn\u001B[39;00m \u001B[43mprimitive\u001B[49m\u001B[38;5;241;43m.\u001B[39;49m\u001B[43mimpl\u001B[49m\u001B[43m(\u001B[49m\u001B[38;5;241;43m*\u001B[39;49m\u001B[43mtracers\u001B[49m\u001B[43m,\u001B[49m\u001B[43m \u001B[49m\u001B[38;5;241;43m*\u001B[39;49m\u001B[38;5;241;43m*\u001B[39;49m\u001B[43mparams\u001B[49m\u001B[43m)\u001B[49m\n",
      "File \u001B[0;32m~/miniforge3_m1/envs/rcwa/lib/python3.9/site-packages/jax/core.py:352\u001B[0m, in \u001B[0;36mPrimitive.impl\u001B[0;34m(self, *args, **params)\u001B[0m\n\u001B[1;32m    351\u001B[0m \u001B[38;5;28;01mdef\u001B[39;00m \u001B[38;5;21mimpl\u001B[39m(\u001B[38;5;28mself\u001B[39m, \u001B[38;5;241m*\u001B[39margs, \u001B[38;5;241m*\u001B[39m\u001B[38;5;241m*\u001B[39mparams):\n\u001B[0;32m--> 352\u001B[0m   \u001B[38;5;28;01mraise\u001B[39;00m \u001B[38;5;167;01mNotImplementedError\u001B[39;00m(\u001B[38;5;124m\"\u001B[39m\u001B[38;5;124mEvaluation rule for \u001B[39m\u001B[38;5;124m'\u001B[39m\u001B[38;5;132;01m{}\u001B[39;00m\u001B[38;5;124m'\u001B[39m\u001B[38;5;124m not implemented\u001B[39m\u001B[38;5;124m\"\u001B[39m\n\u001B[1;32m    353\u001B[0m                             \u001B[38;5;241m.\u001B[39mformat(\u001B[38;5;28mself\u001B[39m\u001B[38;5;241m.\u001B[39mname))\n",
      "\u001B[0;31mNotImplementedError\u001B[0m: Evaluation rule for 'multiply_add' not implemented"
     ]
    }
   ],
   "source": [
    "square_add_prim(2., 10.)"
   ],
   "metadata": {
    "collapsed": false
   }
  },
  {
   "cell_type": "code",
   "execution_count": 6,
   "outputs": [],
   "source": [
    "import numpy as np"
   ],
   "metadata": {
    "collapsed": false
   }
  },
  {
   "cell_type": "code",
   "execution_count": 7,
   "outputs": [
    {
     "data": {
      "text/plain": "<function __main__.multiply_add_impl(x, y, z)>"
     },
     "execution_count": 7,
     "metadata": {},
     "output_type": "execute_result"
    }
   ],
   "source": [
    "def multiply_add_impl(x, y, z):\n",
    "  \"\"\"Concrete implementation of the primitive.\n",
    "\n",
    "  This function does not need to be JAX traceable.\n",
    "  Args:\n",
    "    x, y, z: the concrete arguments of the primitive. Will only be called with\n",
    "      concrete values.\n",
    "  Returns:\n",
    "    the concrete result of the primitive.\n",
    "  \"\"\"\n",
    "  # Note that we can use the original numpy, which is not JAX traceable\n",
    "  return np.add(np.multiply(x, y), z)\n",
    "\n",
    "# Now we register the primal implementation with JAX\n",
    "multiply_add_p.def_impl(multiply_add_impl)"
   ],
   "metadata": {
    "collapsed": false
   }
  },
  {
   "cell_type": "code",
   "execution_count": 8,
   "outputs": [],
   "source": [
    "assert square_add_prim(2., 10.) == 14.\n"
   ],
   "metadata": {
    "collapsed": false
   }
  },
  {
   "cell_type": "code",
   "execution_count": 12,
   "outputs": [
    {
     "data": {
      "text/plain": "14.0"
     },
     "execution_count": 12,
     "metadata": {},
     "output_type": "execute_result"
    }
   ],
   "source": [
    "square_add_prim(2., 10.)"
   ],
   "metadata": {
    "collapsed": false
   }
  },
  {
   "cell_type": "code",
   "execution_count": 10,
   "outputs": [],
   "source": [
    "from jax._src import api\n"
   ],
   "metadata": {
    "collapsed": false
   }
  },
  {
   "cell_type": "code",
   "execution_count": 11,
   "outputs": [
    {
     "ename": "NotImplementedError",
     "evalue": "Abstract evaluation for 'multiply_add' not implemented",
     "output_type": "error",
     "traceback": [
      "\u001B[0;31m---------------------------------------------------------------------------\u001B[0m",
      "\u001B[0;31mNotImplementedError\u001B[0m                       Traceback (most recent call last)",
      "Cell \u001B[0;32mIn [11], line 1\u001B[0m\n\u001B[0;32m----> 1\u001B[0m api\u001B[38;5;241m.\u001B[39mjit(square_add_prim)(\u001B[38;5;241m2.\u001B[39m, \u001B[38;5;241m10.\u001B[39m)\n",
      "    \u001B[0;31m[... skipping hidden 12 frame]\u001B[0m\n",
      "Cell \u001B[0;32mIn [2], line 16\u001B[0m, in \u001B[0;36msquare_add_prim\u001B[0;34m(a, b)\u001B[0m\n\u001B[1;32m     14\u001B[0m \u001B[38;5;28;01mdef\u001B[39;00m \u001B[38;5;21msquare_add_prim\u001B[39m(a, b):\n\u001B[1;32m     15\u001B[0m   \u001B[38;5;124;03m\"\"\"A square-add function implemented using the new JAX-primitive.\"\"\"\u001B[39;00m\n\u001B[0;32m---> 16\u001B[0m   \u001B[38;5;28;01mreturn\u001B[39;00m \u001B[43mmultiply_add_prim\u001B[49m\u001B[43m(\u001B[49m\u001B[43ma\u001B[49m\u001B[43m,\u001B[49m\u001B[43m \u001B[49m\u001B[43ma\u001B[49m\u001B[43m,\u001B[49m\u001B[43m \u001B[49m\u001B[43mb\u001B[49m\u001B[43m)\u001B[49m\n",
      "Cell \u001B[0;32mIn [2], line 11\u001B[0m, in \u001B[0;36mmultiply_add_prim\u001B[0;34m(x, y, z)\u001B[0m\n\u001B[1;32m      5\u001B[0m \u001B[38;5;28;01mdef\u001B[39;00m \u001B[38;5;21mmultiply_add_prim\u001B[39m(x, y, z):\n\u001B[1;32m      6\u001B[0m   \u001B[38;5;124;03m\"\"\"The JAX-traceable way to use the JAX primitive.\u001B[39;00m\n\u001B[1;32m      7\u001B[0m \n\u001B[1;32m      8\u001B[0m \u001B[38;5;124;03m  Note that the traced arguments must be passed as positional arguments\u001B[39;00m\n\u001B[1;32m      9\u001B[0m \u001B[38;5;124;03m  to `bind`.\u001B[39;00m\n\u001B[1;32m     10\u001B[0m \u001B[38;5;124;03m  \"\"\"\u001B[39;00m\n\u001B[0;32m---> 11\u001B[0m   \u001B[38;5;28;01mreturn\u001B[39;00m \u001B[43mmultiply_add_p\u001B[49m\u001B[38;5;241;43m.\u001B[39;49m\u001B[43mbind\u001B[49m\u001B[43m(\u001B[49m\u001B[43mx\u001B[49m\u001B[43m,\u001B[49m\u001B[43m \u001B[49m\u001B[43my\u001B[49m\u001B[43m,\u001B[49m\u001B[43m \u001B[49m\u001B[43mz\u001B[49m\u001B[43m)\u001B[49m\n",
      "    \u001B[0;31m[... skipping hidden 4 frame]\u001B[0m\n",
      "File \u001B[0;32m~/miniforge3_m1/envs/rcwa/lib/python3.9/site-packages/jax/core.py:356\u001B[0m, in \u001B[0;36mPrimitive.abstract_eval\u001B[0;34m(self, *args, **params)\u001B[0m\n\u001B[1;32m    355\u001B[0m \u001B[38;5;28;01mdef\u001B[39;00m \u001B[38;5;21mabstract_eval\u001B[39m(\u001B[38;5;28mself\u001B[39m, \u001B[38;5;241m*\u001B[39margs, \u001B[38;5;241m*\u001B[39m\u001B[38;5;241m*\u001B[39mparams):\n\u001B[0;32m--> 356\u001B[0m   \u001B[38;5;28;01mraise\u001B[39;00m \u001B[38;5;167;01mNotImplementedError\u001B[39;00m(\u001B[38;5;124m\"\u001B[39m\u001B[38;5;124mAbstract evaluation for \u001B[39m\u001B[38;5;124m'\u001B[39m\u001B[38;5;132;01m{}\u001B[39;00m\u001B[38;5;124m'\u001B[39m\u001B[38;5;124m not implemented\u001B[39m\u001B[38;5;124m\"\u001B[39m\n\u001B[1;32m    357\u001B[0m                             \u001B[38;5;241m.\u001B[39mformat(\u001B[38;5;28mself\u001B[39m\u001B[38;5;241m.\u001B[39mname))\n",
      "\u001B[0;31mNotImplementedError\u001B[0m: Abstract evaluation for 'multiply_add' not implemented"
     ]
    }
   ],
   "source": [
    "api.jit(square_add_prim)(2., 10.)"
   ],
   "metadata": {
    "collapsed": false
   }
  },
  {
   "cell_type": "code",
   "execution_count": 13,
   "outputs": [
    {
     "data": {
      "text/plain": "<function __main__.multiply_add_abstract_eval(xs, ys, zs)>"
     },
     "execution_count": 13,
     "metadata": {},
     "output_type": "execute_result"
    }
   ],
   "source": [
    "from jax._src import abstract_arrays\n",
    "# @trace(\"multiply_add_abstract_eval\")\n",
    "def multiply_add_abstract_eval(xs, ys, zs):\n",
    "  \"\"\"Abstract evaluation of the primitive.\n",
    "\n",
    "  This function does not need to be JAX traceable. It will be invoked with\n",
    "  abstractions of the actual arguments.\n",
    "  Args:\n",
    "    xs, ys, zs: abstractions of the arguments.\n",
    "  Result:\n",
    "    a ShapedArray for the result of the primitive.\n",
    "  \"\"\"\n",
    "  assert xs.shape == ys.shape\n",
    "  assert xs.shape == zs.shape\n",
    "  return abstract_arrays.ShapedArray(xs.shape, xs.dtype)\n",
    "\n",
    "# Now we register the abstract evaluation with JAX\n",
    "multiply_add_p.def_abstract_eval(multiply_add_abstract_eval)"
   ],
   "metadata": {
    "collapsed": false
   }
  },
  {
   "cell_type": "code",
   "execution_count": 14,
   "outputs": [
    {
     "ename": "NotImplementedError",
     "evalue": "MLIR translation rule for primitive 'multiply_add' not found for platform cpu",
     "output_type": "error",
     "traceback": [
      "\u001B[0;31m---------------------------------------------------------------------------\u001B[0m",
      "\u001B[0;31mJaxStackTraceBeforeTransformation\u001B[0m         Traceback (most recent call last)",
      "File \u001B[0;32m~/miniforge3_m1/envs/rcwa/lib/python3.9/runpy.py:197\u001B[0m, in \u001B[0;36m_run_module_as_main\u001B[0;34m(***failed resolving arguments***)\u001B[0m\n\u001B[1;32m    196\u001B[0m     sys\u001B[38;5;241m.\u001B[39margv[\u001B[38;5;241m0\u001B[39m] \u001B[38;5;241m=\u001B[39m mod_spec\u001B[38;5;241m.\u001B[39morigin\n\u001B[0;32m--> 197\u001B[0m \u001B[38;5;28;01mreturn\u001B[39;00m _run_code(code, main_globals, \u001B[38;5;28;01mNone\u001B[39;00m,\n\u001B[1;32m    198\u001B[0m                  \u001B[38;5;124m\"\u001B[39m\u001B[38;5;124m__main__\u001B[39m\u001B[38;5;124m\"\u001B[39m, mod_spec)\n",
      "File \u001B[0;32m~/miniforge3_m1/envs/rcwa/lib/python3.9/runpy.py:87\u001B[0m, in \u001B[0;36m_run_code\u001B[0;34m(***failed resolving arguments***)\u001B[0m\n\u001B[1;32m     80\u001B[0m run_globals\u001B[38;5;241m.\u001B[39mupdate(\u001B[38;5;18m__name__\u001B[39m \u001B[38;5;241m=\u001B[39m mod_name,\n\u001B[1;32m     81\u001B[0m                    \u001B[38;5;18m__file__\u001B[39m \u001B[38;5;241m=\u001B[39m fname,\n\u001B[1;32m     82\u001B[0m                    __cached__ \u001B[38;5;241m=\u001B[39m cached,\n\u001B[0;32m   (...)\u001B[0m\n\u001B[1;32m     85\u001B[0m                    __package__ \u001B[38;5;241m=\u001B[39m pkg_name,\n\u001B[1;32m     86\u001B[0m                    __spec__ \u001B[38;5;241m=\u001B[39m mod_spec)\n\u001B[0;32m---> 87\u001B[0m exec(code, run_globals)\n\u001B[1;32m     88\u001B[0m \u001B[38;5;28;01mreturn\u001B[39;00m run_globals\n",
      "File \u001B[0;32m~/miniforge3_m1/envs/rcwa/lib/python3.9/site-packages/ipykernel_launcher.py:17\u001B[0m\n\u001B[1;32m     15\u001B[0m \u001B[38;5;28;01mfrom\u001B[39;00m \u001B[38;5;21;01mipykernel\u001B[39;00m \u001B[38;5;28;01mimport\u001B[39;00m kernelapp \u001B[38;5;28;01mas\u001B[39;00m app\n\u001B[0;32m---> 17\u001B[0m app\u001B[38;5;241m.\u001B[39mlaunch_new_instance()\n",
      "File \u001B[0;32m~/miniforge3_m1/envs/rcwa/lib/python3.9/site-packages/traitlets/config/application.py:978\u001B[0m, in \u001B[0;36mApplication.launch_instance\u001B[0;34m(***failed resolving arguments***)\u001B[0m\n\u001B[1;32m    977\u001B[0m app\u001B[38;5;241m.\u001B[39minitialize(argv)\n\u001B[0;32m--> 978\u001B[0m app\u001B[38;5;241m.\u001B[39mstart()\n",
      "File \u001B[0;32m~/miniforge3_m1/envs/rcwa/lib/python3.9/site-packages/ipykernel/kernelapp.py:712\u001B[0m, in \u001B[0;36mIPKernelApp.start\u001B[0;34m(***failed resolving arguments***)\u001B[0m\n\u001B[1;32m    711\u001B[0m \u001B[38;5;28;01mtry\u001B[39;00m:\n\u001B[0;32m--> 712\u001B[0m     \u001B[38;5;28mself\u001B[39m\u001B[38;5;241m.\u001B[39mio_loop\u001B[38;5;241m.\u001B[39mstart()\n\u001B[1;32m    713\u001B[0m \u001B[38;5;28;01mexcept\u001B[39;00m \u001B[38;5;167;01mKeyboardInterrupt\u001B[39;00m:\n",
      "File \u001B[0;32m~/miniforge3_m1/envs/rcwa/lib/python3.9/site-packages/tornado/platform/asyncio.py:215\u001B[0m, in \u001B[0;36mBaseAsyncIOLoop.start\u001B[0;34m(***failed resolving arguments***)\u001B[0m\n\u001B[1;32m    214\u001B[0m     asyncio\u001B[38;5;241m.\u001B[39mset_event_loop(\u001B[38;5;28mself\u001B[39m\u001B[38;5;241m.\u001B[39masyncio_loop)\n\u001B[0;32m--> 215\u001B[0m     \u001B[38;5;28mself\u001B[39m\u001B[38;5;241m.\u001B[39masyncio_loop\u001B[38;5;241m.\u001B[39mrun_forever()\n\u001B[1;32m    216\u001B[0m \u001B[38;5;28;01mfinally\u001B[39;00m:\n",
      "File \u001B[0;32m~/miniforge3_m1/envs/rcwa/lib/python3.9/asyncio/base_events.py:596\u001B[0m, in \u001B[0;36mBaseEventLoop.run_forever\u001B[0;34m(***failed resolving arguments***)\u001B[0m\n\u001B[1;32m    595\u001B[0m \u001B[38;5;28;01mwhile\u001B[39;00m \u001B[38;5;28;01mTrue\u001B[39;00m:\n\u001B[0;32m--> 596\u001B[0m     \u001B[38;5;28mself\u001B[39m\u001B[38;5;241m.\u001B[39m_run_once()\n\u001B[1;32m    597\u001B[0m     \u001B[38;5;28;01mif\u001B[39;00m \u001B[38;5;28mself\u001B[39m\u001B[38;5;241m.\u001B[39m_stopping:\n",
      "File \u001B[0;32m~/miniforge3_m1/envs/rcwa/lib/python3.9/asyncio/base_events.py:1890\u001B[0m, in \u001B[0;36mBaseEventLoop._run_once\u001B[0;34m(***failed resolving arguments***)\u001B[0m\n\u001B[1;32m   1889\u001B[0m     \u001B[38;5;28;01melse\u001B[39;00m:\n\u001B[0;32m-> 1890\u001B[0m         handle\u001B[38;5;241m.\u001B[39m_run()\n\u001B[1;32m   1891\u001B[0m handle \u001B[38;5;241m=\u001B[39m \u001B[38;5;28;01mNone\u001B[39;00m\n",
      "File \u001B[0;32m~/miniforge3_m1/envs/rcwa/lib/python3.9/asyncio/events.py:80\u001B[0m, in \u001B[0;36mHandle._run\u001B[0;34m(***failed resolving arguments***)\u001B[0m\n\u001B[1;32m     79\u001B[0m \u001B[38;5;28;01mtry\u001B[39;00m:\n\u001B[0;32m---> 80\u001B[0m     \u001B[38;5;28mself\u001B[39m\u001B[38;5;241m.\u001B[39m_context\u001B[38;5;241m.\u001B[39mrun(\u001B[38;5;28mself\u001B[39m\u001B[38;5;241m.\u001B[39m_callback, \u001B[38;5;241m*\u001B[39m\u001B[38;5;28mself\u001B[39m\u001B[38;5;241m.\u001B[39m_args)\n\u001B[1;32m     81\u001B[0m \u001B[38;5;28;01mexcept\u001B[39;00m (\u001B[38;5;167;01mSystemExit\u001B[39;00m, \u001B[38;5;167;01mKeyboardInterrupt\u001B[39;00m):\n",
      "File \u001B[0;32m~/miniforge3_m1/envs/rcwa/lib/python3.9/site-packages/ipykernel/kernelbase.py:510\u001B[0m, in \u001B[0;36mKernel.dispatch_queue\u001B[0;34m(***failed resolving arguments***)\u001B[0m\n\u001B[1;32m    509\u001B[0m \u001B[38;5;28;01mtry\u001B[39;00m:\n\u001B[0;32m--> 510\u001B[0m     \u001B[38;5;28;01mawait\u001B[39;00m \u001B[38;5;28mself\u001B[39m\u001B[38;5;241m.\u001B[39mprocess_one()\n\u001B[1;32m    511\u001B[0m \u001B[38;5;28;01mexcept\u001B[39;00m \u001B[38;5;167;01mException\u001B[39;00m:\n",
      "File \u001B[0;32m~/miniforge3_m1/envs/rcwa/lib/python3.9/site-packages/ipykernel/kernelbase.py:499\u001B[0m, in \u001B[0;36mKernel.process_one\u001B[0;34m(***failed resolving arguments***)\u001B[0m\n\u001B[1;32m    498\u001B[0m         \u001B[38;5;28;01mreturn\u001B[39;00m \u001B[38;5;28;01mNone\u001B[39;00m\n\u001B[0;32m--> 499\u001B[0m \u001B[38;5;28;01mawait\u001B[39;00m dispatch(\u001B[38;5;241m*\u001B[39margs)\n",
      "File \u001B[0;32m~/miniforge3_m1/envs/rcwa/lib/python3.9/site-packages/ipykernel/kernelbase.py:406\u001B[0m, in \u001B[0;36mKernel.dispatch_shell\u001B[0;34m(***failed resolving arguments***)\u001B[0m\n\u001B[1;32m    405\u001B[0m     \u001B[38;5;28;01mif\u001B[39;00m inspect\u001B[38;5;241m.\u001B[39misawaitable(result):\n\u001B[0;32m--> 406\u001B[0m         \u001B[38;5;28;01mawait\u001B[39;00m result\n\u001B[1;32m    407\u001B[0m \u001B[38;5;28;01mexcept\u001B[39;00m \u001B[38;5;167;01mException\u001B[39;00m:\n",
      "File \u001B[0;32m~/miniforge3_m1/envs/rcwa/lib/python3.9/site-packages/ipykernel/kernelbase.py:730\u001B[0m, in \u001B[0;36mKernel.execute_request\u001B[0;34m(***failed resolving arguments***)\u001B[0m\n\u001B[1;32m    729\u001B[0m \u001B[38;5;28;01mif\u001B[39;00m inspect\u001B[38;5;241m.\u001B[39misawaitable(reply_content):\n\u001B[0;32m--> 730\u001B[0m     reply_content \u001B[38;5;241m=\u001B[39m \u001B[38;5;28;01mawait\u001B[39;00m reply_content\n\u001B[1;32m    732\u001B[0m \u001B[38;5;66;03m# Flush output before sending the reply.\u001B[39;00m\n",
      "File \u001B[0;32m~/miniforge3_m1/envs/rcwa/lib/python3.9/site-packages/ipykernel/ipkernel.py:383\u001B[0m, in \u001B[0;36mIPythonKernel.do_execute\u001B[0;34m(***failed resolving arguments***)\u001B[0m\n\u001B[1;32m    382\u001B[0m \u001B[38;5;28;01mif\u001B[39;00m with_cell_id:\n\u001B[0;32m--> 383\u001B[0m     res \u001B[38;5;241m=\u001B[39m shell\u001B[38;5;241m.\u001B[39mrun_cell(\n\u001B[1;32m    384\u001B[0m         code,\n\u001B[1;32m    385\u001B[0m         store_history\u001B[38;5;241m=\u001B[39mstore_history,\n\u001B[1;32m    386\u001B[0m         silent\u001B[38;5;241m=\u001B[39msilent,\n\u001B[1;32m    387\u001B[0m         cell_id\u001B[38;5;241m=\u001B[39mcell_id,\n\u001B[1;32m    388\u001B[0m     )\n\u001B[1;32m    389\u001B[0m \u001B[38;5;28;01melse\u001B[39;00m:\n",
      "File \u001B[0;32m~/miniforge3_m1/envs/rcwa/lib/python3.9/site-packages/ipykernel/zmqshell.py:528\u001B[0m, in \u001B[0;36mZMQInteractiveShell.run_cell\u001B[0;34m(***failed resolving arguments***)\u001B[0m\n\u001B[1;32m    527\u001B[0m \u001B[38;5;28mself\u001B[39m\u001B[38;5;241m.\u001B[39m_last_traceback \u001B[38;5;241m=\u001B[39m \u001B[38;5;28;01mNone\u001B[39;00m\n\u001B[0;32m--> 528\u001B[0m \u001B[38;5;28;01mreturn\u001B[39;00m \u001B[38;5;28msuper\u001B[39m()\u001B[38;5;241m.\u001B[39mrun_cell(\u001B[38;5;241m*\u001B[39margs, \u001B[38;5;241m*\u001B[39m\u001B[38;5;241m*\u001B[39mkwargs)\n",
      "File \u001B[0;32m~/miniforge3_m1/envs/rcwa/lib/python3.9/site-packages/IPython/core/interactiveshell.py:2885\u001B[0m, in \u001B[0;36mInteractiveShell.run_cell\u001B[0;34m(***failed resolving arguments***)\u001B[0m\n\u001B[1;32m   2884\u001B[0m \u001B[38;5;28;01mtry\u001B[39;00m:\n\u001B[0;32m-> 2885\u001B[0m     result \u001B[38;5;241m=\u001B[39m \u001B[38;5;28mself\u001B[39m\u001B[38;5;241m.\u001B[39m_run_cell(\n\u001B[1;32m   2886\u001B[0m         raw_cell, store_history, silent, shell_futures, cell_id\n\u001B[1;32m   2887\u001B[0m     )\n\u001B[1;32m   2888\u001B[0m \u001B[38;5;28;01mfinally\u001B[39;00m:\n",
      "File \u001B[0;32m~/miniforge3_m1/envs/rcwa/lib/python3.9/site-packages/IPython/core/interactiveshell.py:2940\u001B[0m, in \u001B[0;36mInteractiveShell._run_cell\u001B[0;34m(***failed resolving arguments***)\u001B[0m\n\u001B[1;32m   2939\u001B[0m \u001B[38;5;28;01mtry\u001B[39;00m:\n\u001B[0;32m-> 2940\u001B[0m     \u001B[38;5;28;01mreturn\u001B[39;00m runner(coro)\n\u001B[1;32m   2941\u001B[0m \u001B[38;5;28;01mexcept\u001B[39;00m \u001B[38;5;167;01mBaseException\u001B[39;00m \u001B[38;5;28;01mas\u001B[39;00m e:\n",
      "File \u001B[0;32m~/miniforge3_m1/envs/rcwa/lib/python3.9/site-packages/IPython/core/async_helpers.py:129\u001B[0m, in \u001B[0;36m_pseudo_sync_runner\u001B[0;34m(***failed resolving arguments***)\u001B[0m\n\u001B[1;32m    128\u001B[0m \u001B[38;5;28;01mtry\u001B[39;00m:\n\u001B[0;32m--> 129\u001B[0m     coro\u001B[38;5;241m.\u001B[39msend(\u001B[38;5;28;01mNone\u001B[39;00m)\n\u001B[1;32m    130\u001B[0m \u001B[38;5;28;01mexcept\u001B[39;00m \u001B[38;5;167;01mStopIteration\u001B[39;00m \u001B[38;5;28;01mas\u001B[39;00m exc:\n",
      "File \u001B[0;32m~/miniforge3_m1/envs/rcwa/lib/python3.9/site-packages/IPython/core/interactiveshell.py:3139\u001B[0m, in \u001B[0;36mInteractiveShell.run_cell_async\u001B[0;34m(***failed resolving arguments***)\u001B[0m\n\u001B[1;32m   3137\u001B[0m interactivity \u001B[38;5;241m=\u001B[39m \u001B[38;5;124m\"\u001B[39m\u001B[38;5;124mnone\u001B[39m\u001B[38;5;124m\"\u001B[39m \u001B[38;5;28;01mif\u001B[39;00m silent \u001B[38;5;28;01melse\u001B[39;00m \u001B[38;5;28mself\u001B[39m\u001B[38;5;241m.\u001B[39mast_node_interactivity\n\u001B[0;32m-> 3139\u001B[0m has_raised \u001B[38;5;241m=\u001B[39m \u001B[38;5;28;01mawait\u001B[39;00m \u001B[38;5;28mself\u001B[39m\u001B[38;5;241m.\u001B[39mrun_ast_nodes(code_ast\u001B[38;5;241m.\u001B[39mbody, cell_name,\n\u001B[1;32m   3140\u001B[0m        interactivity\u001B[38;5;241m=\u001B[39minteractivity, compiler\u001B[38;5;241m=\u001B[39mcompiler, result\u001B[38;5;241m=\u001B[39mresult)\n\u001B[1;32m   3142\u001B[0m \u001B[38;5;28mself\u001B[39m\u001B[38;5;241m.\u001B[39mlast_execution_succeeded \u001B[38;5;241m=\u001B[39m \u001B[38;5;129;01mnot\u001B[39;00m has_raised\n",
      "File \u001B[0;32m~/miniforge3_m1/envs/rcwa/lib/python3.9/site-packages/IPython/core/interactiveshell.py:3318\u001B[0m, in \u001B[0;36mInteractiveShell.run_ast_nodes\u001B[0;34m(***failed resolving arguments***)\u001B[0m\n\u001B[1;32m   3317\u001B[0m     asy \u001B[38;5;241m=\u001B[39m compare(code)\n\u001B[0;32m-> 3318\u001B[0m \u001B[38;5;28;01mif\u001B[39;00m \u001B[38;5;28;01mawait\u001B[39;00m \u001B[38;5;28mself\u001B[39m\u001B[38;5;241m.\u001B[39mrun_code(code, result, async_\u001B[38;5;241m=\u001B[39masy):\n\u001B[1;32m   3319\u001B[0m     \u001B[38;5;28;01mreturn\u001B[39;00m \u001B[38;5;28;01mTrue\u001B[39;00m\n",
      "File \u001B[0;32m~/miniforge3_m1/envs/rcwa/lib/python3.9/site-packages/IPython/core/interactiveshell.py:3378\u001B[0m, in \u001B[0;36mInteractiveShell.run_code\u001B[0;34m(***failed resolving arguments***)\u001B[0m\n\u001B[1;32m   3377\u001B[0m     \u001B[38;5;28;01melse\u001B[39;00m:\n\u001B[0;32m-> 3378\u001B[0m         exec(code_obj, \u001B[38;5;28mself\u001B[39m\u001B[38;5;241m.\u001B[39muser_global_ns, \u001B[38;5;28mself\u001B[39m\u001B[38;5;241m.\u001B[39muser_ns)\n\u001B[1;32m   3379\u001B[0m \u001B[38;5;28;01mfinally\u001B[39;00m:\n\u001B[1;32m   3380\u001B[0m     \u001B[38;5;66;03m# Reset our crash handler in place\u001B[39;00m\n",
      "Cell \u001B[0;32mIn [14], line 1\u001B[0m\n\u001B[0;32m----> 1\u001B[0m api\u001B[38;5;241m.\u001B[39mjit(square_add_prim)(\u001B[38;5;241m2.\u001B[39m, \u001B[38;5;241m10.\u001B[39m)\n",
      "Cell \u001B[0;32mIn [2], line 16\u001B[0m, in \u001B[0;36msquare_add_prim\u001B[0;34m(***failed resolving arguments***)\u001B[0m\n\u001B[1;32m     15\u001B[0m \u001B[38;5;124;03m\"\"\"A square-add function implemented using the new JAX-primitive.\"\"\"\u001B[39;00m\n\u001B[0;32m---> 16\u001B[0m \u001B[38;5;28;01mreturn\u001B[39;00m multiply_add_prim(a, a, b)\n",
      "Cell \u001B[0;32mIn [2], line 11\u001B[0m, in \u001B[0;36mmultiply_add_prim\u001B[0;34m(***failed resolving arguments***)\u001B[0m\n\u001B[1;32m      6\u001B[0m \u001B[38;5;124;03m\"\"\"The JAX-traceable way to use the JAX primitive.\u001B[39;00m\n\u001B[1;32m      7\u001B[0m \n\u001B[1;32m      8\u001B[0m \u001B[38;5;124;03mNote that the traced arguments must be passed as positional arguments\u001B[39;00m\n\u001B[1;32m      9\u001B[0m \u001B[38;5;124;03mto `bind`.\u001B[39;00m\n\u001B[1;32m     10\u001B[0m \u001B[38;5;124;03m\"\"\"\u001B[39;00m\n\u001B[0;32m---> 11\u001B[0m \u001B[38;5;28;01mreturn\u001B[39;00m multiply_add_p\u001B[38;5;241m.\u001B[39mbind(x, y, z)\n",
      "\u001B[0;31mJaxStackTraceBeforeTransformation\u001B[0m: NotImplementedError: MLIR translation rule for primitive 'multiply_add' not found for platform cpu\n\nThe preceding stack trace is the source of the JAX operation that, once transformed by JAX, triggered the following exception.\n\n--------------------",
      "\nThe above exception was the direct cause of the following exception:\n",
      "\u001B[0;31mNotImplementedError\u001B[0m                       Traceback (most recent call last)",
      "Cell \u001B[0;32mIn [14], line 1\u001B[0m\n\u001B[0;32m----> 1\u001B[0m api\u001B[38;5;241m.\u001B[39mjit(square_add_prim)(\u001B[38;5;241m2.\u001B[39m, \u001B[38;5;241m10.\u001B[39m)\n",
      "    \u001B[0;31m[... skipping hidden 10 frame]\u001B[0m\n",
      "File \u001B[0;32m~/miniforge3_m1/envs/rcwa/lib/python3.9/site-packages/jax/interpreters/mlir.py:1105\u001B[0m, in \u001B[0;36mjaxpr_subcomp\u001B[0;34m(ctx, jaxpr, tokens, consts, dim_var_values, *args)\u001B[0m\n\u001B[1;32m   1103\u001B[0m   rule \u001B[38;5;241m=\u001B[39m xla_fallback_lowering(eqn\u001B[38;5;241m.\u001B[39mprimitive)\n\u001B[1;32m   1104\u001B[0m \u001B[38;5;28;01melse\u001B[39;00m:\n\u001B[0;32m-> 1105\u001B[0m   \u001B[38;5;28;01mraise\u001B[39;00m \u001B[38;5;167;01mNotImplementedError\u001B[39;00m(\n\u001B[1;32m   1106\u001B[0m       \u001B[38;5;124mf\u001B[39m\u001B[38;5;124m\"\u001B[39m\u001B[38;5;124mMLIR translation rule for primitive \u001B[39m\u001B[38;5;124m'\u001B[39m\u001B[38;5;132;01m{\u001B[39;00meqn\u001B[38;5;241m.\u001B[39mprimitive\u001B[38;5;241m.\u001B[39mname\u001B[38;5;132;01m}\u001B[39;00m\u001B[38;5;124m'\u001B[39m\u001B[38;5;124m not \u001B[39m\u001B[38;5;124m\"\u001B[39m\n\u001B[1;32m   1107\u001B[0m       \u001B[38;5;124mf\u001B[39m\u001B[38;5;124m\"\u001B[39m\u001B[38;5;124mfound for platform \u001B[39m\u001B[38;5;132;01m{\u001B[39;00mctx\u001B[38;5;241m.\u001B[39mplatform\u001B[38;5;132;01m}\u001B[39;00m\u001B[38;5;124m\"\u001B[39m)\n\u001B[1;32m   1109\u001B[0m eqn_ctx \u001B[38;5;241m=\u001B[39m ctx\u001B[38;5;241m.\u001B[39mreplace(name_stack\u001B[38;5;241m=\u001B[39msource_info\u001B[38;5;241m.\u001B[39mname_stack)\n\u001B[1;32m   1110\u001B[0m effects \u001B[38;5;241m=\u001B[39m [eff \u001B[38;5;28;01mfor\u001B[39;00m eff \u001B[38;5;129;01min\u001B[39;00m eqn\u001B[38;5;241m.\u001B[39meffects \u001B[38;5;28;01mif\u001B[39;00m eff \u001B[38;5;129;01min\u001B[39;00m core\u001B[38;5;241m.\u001B[39mordered_effects]\n",
      "\u001B[0;31mNotImplementedError\u001B[0m: MLIR translation rule for primitive 'multiply_add' not found for platform cpu"
     ]
    }
   ],
   "source": [
    "api.jit(square_add_prim)(2., 10.)"
   ],
   "metadata": {
    "collapsed": false
   }
  },
  {
   "cell_type": "code",
   "execution_count": 15,
   "outputs": [],
   "source": [
    "from jax._src.lib import xla_client\n",
    "# @trace(\"multiply_add_xla_translation\")\n",
    "def multiply_add_xla_translation(ctx, avals_in, avals_out, xc, yc, zc):\n",
    "  \"\"\"The compilation to XLA of the primitive.\n",
    "\n",
    "  Given an XlaBuilder and XlaOps for each argument, return the XlaOp for the\n",
    "  result of the function.\n",
    "\n",
    "  Does not need to be a JAX-traceable function.\n",
    "  \"\"\"\n",
    "  return [xla_client.ops.Add(xla_client.ops.Mul(xc, yc), zc)]\n",
    "\n",
    "# Now we register the XLA compilation rule with JAX\n",
    "# TODO: for GPU? and TPU?\n",
    "from jax.interpreters import xla\n",
    "xla.register_translation(multiply_add_p, multiply_add_xla_translation, platform='cpu')"
   ],
   "metadata": {
    "collapsed": false
   }
  },
  {
   "cell_type": "code",
   "execution_count": 16,
   "outputs": [],
   "source": [
    "assert api.jit(lambda x, y: square_add_prim(x, y))(2., 10.) == 14."
   ],
   "metadata": {
    "collapsed": false
   }
  },
  {
   "cell_type": "code",
   "execution_count": 17,
   "outputs": [
    {
     "ename": "NotImplementedError",
     "evalue": "Differentiation rule for 'multiply_add' not implemented",
     "output_type": "error",
     "traceback": [
      "\u001B[0;31m---------------------------------------------------------------------------\u001B[0m",
      "\u001B[0;31mNotImplementedError\u001B[0m                       Traceback (most recent call last)",
      "Cell \u001B[0;32mIn [17], line 1\u001B[0m\n\u001B[0;32m----> 1\u001B[0m api\u001B[38;5;241m.\u001B[39mjvp(square_add_prim, (\u001B[38;5;241m2.\u001B[39m, \u001B[38;5;241m10.\u001B[39m), (\u001B[38;5;241m1.\u001B[39m, \u001B[38;5;241m1.\u001B[39m))\n",
      "File \u001B[0;32m~/miniforge3_m1/envs/rcwa/lib/python3.9/site-packages/jax/_src/api.py:2406\u001B[0m, in \u001B[0;36mjvp\u001B[0;34m(fun, primals, tangents, has_aux)\u001B[0m\n\u001B[1;32m   2368\u001B[0m \u001B[38;5;124;03m\"\"\"Computes a (forward-mode) Jacobian-vector product of ``fun``.\u001B[39;00m\n\u001B[1;32m   2369\u001B[0m \n\u001B[1;32m   2370\u001B[0m \u001B[38;5;124;03mArgs:\u001B[39;00m\n\u001B[0;32m   (...)\u001B[0m\n\u001B[1;32m   2403\u001B[0m \u001B[38;5;124;03m0.19900084\u001B[39;00m\n\u001B[1;32m   2404\u001B[0m \u001B[38;5;124;03m\"\"\"\u001B[39;00m\n\u001B[1;32m   2405\u001B[0m _check_callable(fun)\n\u001B[0;32m-> 2406\u001B[0m \u001B[38;5;28;01mreturn\u001B[39;00m \u001B[43m_jvp\u001B[49m\u001B[43m(\u001B[49m\u001B[43mlu\u001B[49m\u001B[38;5;241;43m.\u001B[39;49m\u001B[43mwrap_init\u001B[49m\u001B[43m(\u001B[49m\u001B[43mfun\u001B[49m\u001B[43m)\u001B[49m\u001B[43m,\u001B[49m\u001B[43m \u001B[49m\u001B[43mprimals\u001B[49m\u001B[43m,\u001B[49m\u001B[43m \u001B[49m\u001B[43mtangents\u001B[49m\u001B[43m,\u001B[49m\u001B[43m \u001B[49m\u001B[43mhas_aux\u001B[49m\u001B[38;5;241;43m=\u001B[39;49m\u001B[43mhas_aux\u001B[49m\u001B[43m)\u001B[49m\n",
      "File \u001B[0;32m~/miniforge3_m1/envs/rcwa/lib/python3.9/site-packages/jax/_src/api.py:2435\u001B[0m, in \u001B[0;36m_jvp\u001B[0;34m(fun, primals, tangents, has_aux)\u001B[0m\n\u001B[1;32m   2433\u001B[0m \u001B[38;5;28;01mif\u001B[39;00m \u001B[38;5;129;01mnot\u001B[39;00m has_aux:\n\u001B[1;32m   2434\u001B[0m   flat_fun, out_tree \u001B[38;5;241m=\u001B[39m flatten_fun_nokwargs(fun, tree_def)\n\u001B[0;32m-> 2435\u001B[0m   out_primals, out_tangents \u001B[38;5;241m=\u001B[39m \u001B[43mad\u001B[49m\u001B[38;5;241;43m.\u001B[39;49m\u001B[43mjvp\u001B[49m\u001B[43m(\u001B[49m\u001B[43mflat_fun\u001B[49m\u001B[43m)\u001B[49m\u001B[38;5;241;43m.\u001B[39;49m\u001B[43mcall_wrapped\u001B[49m\u001B[43m(\u001B[49m\u001B[43mps_flat\u001B[49m\u001B[43m,\u001B[49m\u001B[43m \u001B[49m\u001B[43mts_flat\u001B[49m\u001B[43m)\u001B[49m\n\u001B[1;32m   2436\u001B[0m   out_tree \u001B[38;5;241m=\u001B[39m out_tree()\n\u001B[1;32m   2437\u001B[0m   \u001B[38;5;28;01mreturn\u001B[39;00m (tree_unflatten(out_tree, out_primals),\n\u001B[1;32m   2438\u001B[0m           tree_unflatten(out_tree, out_tangents))\n",
      "File \u001B[0;32m~/miniforge3_m1/envs/rcwa/lib/python3.9/site-packages/jax/linear_util.py:167\u001B[0m, in \u001B[0;36mWrappedFun.call_wrapped\u001B[0;34m(self, *args, **kwargs)\u001B[0m\n\u001B[1;32m    164\u001B[0m gen \u001B[38;5;241m=\u001B[39m gen_static_args \u001B[38;5;241m=\u001B[39m out_store \u001B[38;5;241m=\u001B[39m \u001B[38;5;28;01mNone\u001B[39;00m\n\u001B[1;32m    166\u001B[0m \u001B[38;5;28;01mtry\u001B[39;00m:\n\u001B[0;32m--> 167\u001B[0m   ans \u001B[38;5;241m=\u001B[39m \u001B[38;5;28;43mself\u001B[39;49m\u001B[38;5;241;43m.\u001B[39;49m\u001B[43mf\u001B[49m\u001B[43m(\u001B[49m\u001B[38;5;241;43m*\u001B[39;49m\u001B[43margs\u001B[49m\u001B[43m,\u001B[49m\u001B[43m \u001B[49m\u001B[38;5;241;43m*\u001B[39;49m\u001B[38;5;241;43m*\u001B[39;49m\u001B[38;5;28;43mdict\u001B[39;49m\u001B[43m(\u001B[49m\u001B[38;5;28;43mself\u001B[39;49m\u001B[38;5;241;43m.\u001B[39;49m\u001B[43mparams\u001B[49m\u001B[43m,\u001B[49m\u001B[43m \u001B[49m\u001B[38;5;241;43m*\u001B[39;49m\u001B[38;5;241;43m*\u001B[39;49m\u001B[43mkwargs\u001B[49m\u001B[43m)\u001B[49m\u001B[43m)\u001B[49m\n\u001B[1;32m    168\u001B[0m \u001B[38;5;28;01mexcept\u001B[39;00m:\n\u001B[1;32m    169\u001B[0m   \u001B[38;5;66;03m# Some transformations yield from inside context managers, so we have to\u001B[39;00m\n\u001B[1;32m    170\u001B[0m   \u001B[38;5;66;03m# interrupt them before reraising the exception. Otherwise they will only\u001B[39;00m\n\u001B[1;32m    171\u001B[0m   \u001B[38;5;66;03m# get garbage-collected at some later time, running their cleanup tasks\u001B[39;00m\n\u001B[1;32m    172\u001B[0m   \u001B[38;5;66;03m# only after this exception is handled, which can corrupt the global\u001B[39;00m\n\u001B[1;32m    173\u001B[0m   \u001B[38;5;66;03m# state.\u001B[39;00m\n\u001B[1;32m    174\u001B[0m   \u001B[38;5;28;01mwhile\u001B[39;00m stack:\n",
      "Cell \u001B[0;32mIn [2], line 16\u001B[0m, in \u001B[0;36msquare_add_prim\u001B[0;34m(a, b)\u001B[0m\n\u001B[1;32m     14\u001B[0m \u001B[38;5;28;01mdef\u001B[39;00m \u001B[38;5;21msquare_add_prim\u001B[39m(a, b):\n\u001B[1;32m     15\u001B[0m   \u001B[38;5;124;03m\"\"\"A square-add function implemented using the new JAX-primitive.\"\"\"\u001B[39;00m\n\u001B[0;32m---> 16\u001B[0m   \u001B[38;5;28;01mreturn\u001B[39;00m \u001B[43mmultiply_add_prim\u001B[49m\u001B[43m(\u001B[49m\u001B[43ma\u001B[49m\u001B[43m,\u001B[49m\u001B[43m \u001B[49m\u001B[43ma\u001B[49m\u001B[43m,\u001B[49m\u001B[43m \u001B[49m\u001B[43mb\u001B[49m\u001B[43m)\u001B[49m\n",
      "Cell \u001B[0;32mIn [2], line 11\u001B[0m, in \u001B[0;36mmultiply_add_prim\u001B[0;34m(x, y, z)\u001B[0m\n\u001B[1;32m      5\u001B[0m \u001B[38;5;28;01mdef\u001B[39;00m \u001B[38;5;21mmultiply_add_prim\u001B[39m(x, y, z):\n\u001B[1;32m      6\u001B[0m   \u001B[38;5;124;03m\"\"\"The JAX-traceable way to use the JAX primitive.\u001B[39;00m\n\u001B[1;32m      7\u001B[0m \n\u001B[1;32m      8\u001B[0m \u001B[38;5;124;03m  Note that the traced arguments must be passed as positional arguments\u001B[39;00m\n\u001B[1;32m      9\u001B[0m \u001B[38;5;124;03m  to `bind`.\u001B[39;00m\n\u001B[1;32m     10\u001B[0m \u001B[38;5;124;03m  \"\"\"\u001B[39;00m\n\u001B[0;32m---> 11\u001B[0m   \u001B[38;5;28;01mreturn\u001B[39;00m \u001B[43mmultiply_add_p\u001B[49m\u001B[38;5;241;43m.\u001B[39;49m\u001B[43mbind\u001B[49m\u001B[43m(\u001B[49m\u001B[43mx\u001B[49m\u001B[43m,\u001B[49m\u001B[43m \u001B[49m\u001B[43my\u001B[49m\u001B[43m,\u001B[49m\u001B[43m \u001B[49m\u001B[43mz\u001B[49m\u001B[43m)\u001B[49m\n",
      "File \u001B[0;32m~/miniforge3_m1/envs/rcwa/lib/python3.9/site-packages/jax/core.py:329\u001B[0m, in \u001B[0;36mPrimitive.bind\u001B[0;34m(self, *args, **params)\u001B[0m\n\u001B[1;32m    326\u001B[0m \u001B[38;5;28;01mdef\u001B[39;00m \u001B[38;5;21mbind\u001B[39m(\u001B[38;5;28mself\u001B[39m, \u001B[38;5;241m*\u001B[39margs, \u001B[38;5;241m*\u001B[39m\u001B[38;5;241m*\u001B[39mparams):\n\u001B[1;32m    327\u001B[0m   \u001B[38;5;28;01massert\u001B[39;00m (\u001B[38;5;129;01mnot\u001B[39;00m config\u001B[38;5;241m.\u001B[39mjax_enable_checks \u001B[38;5;129;01mor\u001B[39;00m\n\u001B[1;32m    328\u001B[0m           \u001B[38;5;28mall\u001B[39m(\u001B[38;5;28misinstance\u001B[39m(arg, Tracer) \u001B[38;5;129;01mor\u001B[39;00m valid_jaxtype(arg) \u001B[38;5;28;01mfor\u001B[39;00m arg \u001B[38;5;129;01min\u001B[39;00m args)), args\n\u001B[0;32m--> 329\u001B[0m   \u001B[38;5;28;01mreturn\u001B[39;00m \u001B[38;5;28;43mself\u001B[39;49m\u001B[38;5;241;43m.\u001B[39;49m\u001B[43mbind_with_trace\u001B[49m\u001B[43m(\u001B[49m\u001B[43mfind_top_trace\u001B[49m\u001B[43m(\u001B[49m\u001B[43margs\u001B[49m\u001B[43m)\u001B[49m\u001B[43m,\u001B[49m\u001B[43m \u001B[49m\u001B[43margs\u001B[49m\u001B[43m,\u001B[49m\u001B[43m \u001B[49m\u001B[43mparams\u001B[49m\u001B[43m)\u001B[49m\n",
      "File \u001B[0;32m~/miniforge3_m1/envs/rcwa/lib/python3.9/site-packages/jax/core.py:332\u001B[0m, in \u001B[0;36mPrimitive.bind_with_trace\u001B[0;34m(self, trace, args, params)\u001B[0m\n\u001B[1;32m    331\u001B[0m \u001B[38;5;28;01mdef\u001B[39;00m \u001B[38;5;21mbind_with_trace\u001B[39m(\u001B[38;5;28mself\u001B[39m, trace, args, params):\n\u001B[0;32m--> 332\u001B[0m   out \u001B[38;5;241m=\u001B[39m \u001B[43mtrace\u001B[49m\u001B[38;5;241;43m.\u001B[39;49m\u001B[43mprocess_primitive\u001B[49m\u001B[43m(\u001B[49m\u001B[38;5;28;43mself\u001B[39;49m\u001B[43m,\u001B[49m\u001B[43m \u001B[49m\u001B[38;5;28;43mmap\u001B[39;49m\u001B[43m(\u001B[49m\u001B[43mtrace\u001B[49m\u001B[38;5;241;43m.\u001B[39;49m\u001B[43mfull_raise\u001B[49m\u001B[43m,\u001B[49m\u001B[43m \u001B[49m\u001B[43margs\u001B[49m\u001B[43m)\u001B[49m\u001B[43m,\u001B[49m\u001B[43m \u001B[49m\u001B[43mparams\u001B[49m\u001B[43m)\u001B[49m\n\u001B[1;32m    333\u001B[0m   \u001B[38;5;28;01mreturn\u001B[39;00m \u001B[38;5;28mmap\u001B[39m(full_lower, out) \u001B[38;5;28;01mif\u001B[39;00m \u001B[38;5;28mself\u001B[39m\u001B[38;5;241m.\u001B[39mmultiple_results \u001B[38;5;28;01melse\u001B[39;00m full_lower(out)\n",
      "File \u001B[0;32m~/miniforge3_m1/envs/rcwa/lib/python3.9/site-packages/jax/interpreters/ad.py:309\u001B[0m, in \u001B[0;36mJVPTrace.process_primitive\u001B[0;34m(self, primitive, tracers, params)\u001B[0m\n\u001B[1;32m    307\u001B[0m \u001B[38;5;28;01mif\u001B[39;00m \u001B[38;5;129;01mnot\u001B[39;00m jvp:\n\u001B[1;32m    308\u001B[0m   msg \u001B[38;5;241m=\u001B[39m \u001B[38;5;124mf\u001B[39m\u001B[38;5;124m\"\u001B[39m\u001B[38;5;124mDifferentiation rule for \u001B[39m\u001B[38;5;124m'\u001B[39m\u001B[38;5;132;01m{\u001B[39;00mprimitive\u001B[38;5;132;01m}\u001B[39;00m\u001B[38;5;124m'\u001B[39m\u001B[38;5;124m not implemented\u001B[39m\u001B[38;5;124m\"\u001B[39m\n\u001B[0;32m--> 309\u001B[0m   \u001B[38;5;28;01mraise\u001B[39;00m \u001B[38;5;167;01mNotImplementedError\u001B[39;00m(msg)\n\u001B[1;32m    310\u001B[0m primal_out, tangent_out \u001B[38;5;241m=\u001B[39m jvp(primals_in, tangents_in, \u001B[38;5;241m*\u001B[39m\u001B[38;5;241m*\u001B[39mparams)\n\u001B[1;32m    311\u001B[0m \u001B[38;5;28;01mif\u001B[39;00m primitive\u001B[38;5;241m.\u001B[39mmultiple_results:\n",
      "\u001B[0;31mNotImplementedError\u001B[0m: Differentiation rule for 'multiply_add' not implemented"
     ]
    }
   ],
   "source": [
    "api.jvp(square_add_prim, (2., 10.), (1., 1.))"
   ],
   "metadata": {
    "collapsed": false
   }
  },
  {
   "cell_type": "code",
   "execution_count": 18,
   "outputs": [],
   "source": [
    "from jax import lax\n"
   ],
   "metadata": {
    "collapsed": false
   }
  },
  {
   "cell_type": "code",
   "execution_count": 32,
   "outputs": [],
   "source": [
    "from jax.interpreters import ad\n",
    "\n",
    "\n",
    "# @trace(\"multiply_add_value_and_jvp\")\n",
    "def multiply_add_value_and_jvp(arg_values, arg_tangents):\n",
    "  \"\"\"Evaluates the primal output and the tangents (Jacobian-vector product).\n",
    "\n",
    "  Given values of the arguments and perturbation of the arguments (tangents),\n",
    "  compute the output of the primitive and the perturbation of the output.\n",
    "\n",
    "  This method must be JAX-traceable. JAX may invoke it with abstract values\n",
    "  for the arguments and tangents.\n",
    "\n",
    "  Args:\n",
    "    arg_values: a tuple of arguments\n",
    "    arg_tangents: a tuple with the tangents of the arguments. The tuple has\n",
    "      the same length as the arg_values. Some of the tangents may also be the\n",
    "      special value ad.Zero to specify a zero tangent.\n",
    "  Returns:\n",
    "     a pair of the primal output and the tangent.\n",
    "  \"\"\"\n",
    "  x, y, z = arg_values\n",
    "  xt, yt, zt = arg_tangents\n",
    "  # _trace(\"Primal evaluation:\")\n",
    "  # Now we have a JAX-traceable computation of the output.\n",
    "  # Normally, we can use the ma primtive itself to compute the primal output.\n",
    "  primal_out = multiply_add_prim(x, y, z)\n",
    "\n",
    "  # _trace(\"Tangent evaluation:\")\n",
    "  # We must use a JAX-traceable way to compute the tangent. It turns out that\n",
    "  # the output tangent can be computed as (xt * y + x * yt + zt),\n",
    "  # which we can implement in a JAX-traceable way using the same \"multiply_add_prim\" primitive.\n",
    "\n",
    "  # We do need to deal specially with Zero. Here we just turn it into a\n",
    "  # proper tensor of 0s (of the same shape as 'x').\n",
    "  # An alternative would be to check for Zero and perform algebraic\n",
    "  # simplification of the output tangent computation.\n",
    "  def make_zero(tan):\n",
    "    return lax.zeros_like_array(x) if type(tan) is ad.Zero else tan\n",
    "  print(xt, yt, zt)\n",
    "  print(make_zero(xt))\n",
    "  output_tangent = multiply_add_prim(make_zero(xt), y, multiply_add_prim(x, make_zero(yt), make_zero(zt)))\n",
    "  return (primal_out, output_tangent)\n",
    "\n",
    "# Register the forward differentiation rule with JAX\n",
    "ad.primitive_jvps[multiply_add_p] = multiply_add_value_and_jvp"
   ],
   "metadata": {
    "collapsed": false
   }
  },
  {
   "cell_type": "code",
   "execution_count": 34,
   "outputs": [
    {
     "name": "stdout",
     "output_type": "stream",
     "text": [
      "1.0 1.0 2.0\n",
      "1.0\n"
     ]
    },
    {
     "ename": "AssertionError",
     "evalue": "",
     "output_type": "error",
     "traceback": [
      "\u001B[0;31m---------------------------------------------------------------------------\u001B[0m",
      "\u001B[0;31mAssertionError\u001B[0m                            Traceback (most recent call last)",
      "Cell \u001B[0;32mIn [34], line 2\u001B[0m\n\u001B[1;32m      1\u001B[0m \u001B[38;5;66;03m# Tangent is: xt*y + x*yt + zt = 1.*2. + 2.*1. + 1. = 5.\u001B[39;00m\n\u001B[0;32m----> 2\u001B[0m \u001B[38;5;28;01massert\u001B[39;00m api\u001B[38;5;241m.\u001B[39mjvp(square_add_prim, (\u001B[38;5;241m2.\u001B[39m, \u001B[38;5;241m10.\u001B[39m), (\u001B[38;5;241m1.\u001B[39m, \u001B[38;5;241m2.\u001B[39m)) \u001B[38;5;241m==\u001B[39m (\u001B[38;5;241m14.\u001B[39m, \u001B[38;5;241m5.\u001B[39m)\n",
      "\u001B[0;31mAssertionError\u001B[0m: "
     ]
    }
   ],
   "source": [
    "# Tangent is: xt*y + x*yt + zt = 1.*2. + 2.*1. + 1. = 5.\n",
    "assert api.jvp(square_add_prim, (2., 10.), (1., 2.)) == (14., 5.)"
   ],
   "metadata": {
    "collapsed": false
   }
  },
  {
   "cell_type": "code",
   "execution_count": 25,
   "outputs": [
    {
     "name": "stdout",
     "output_type": "stream",
     "text": [
      "2.0\n",
      "2.0\n"
     ]
    },
    {
     "data": {
      "text/plain": "(14.0, 9.0)"
     },
     "execution_count": 25,
     "metadata": {},
     "output_type": "execute_result"
    }
   ],
   "source": [
    "# Tangent is: xt*y + x*yt + zt = 1.*2. + 2.*1. + 1. = 5.\n",
    "api.jvp(square_add_prim, (2., 10.), (2., 1.))"
   ],
   "metadata": {
    "collapsed": false
   }
  },
  {
   "cell_type": "code",
   "execution_count": 31,
   "outputs": [
    {
     "data": {
      "text/plain": "Zero(2)"
     },
     "execution_count": 31,
     "metadata": {},
     "output_type": "execute_result"
    }
   ],
   "source": [
    "ad.Zero()\n"
   ],
   "metadata": {
    "collapsed": false
   }
  },
  {
   "cell_type": "code",
   "execution_count": null,
   "outputs": [],
   "source": [],
   "metadata": {
    "collapsed": false
   }
  }
 ],
 "metadata": {
  "kernelspec": {
   "display_name": "Python 3",
   "language": "python",
   "name": "python3"
  },
  "language_info": {
   "codemirror_mode": {
    "name": "ipython",
    "version": 2
   },
   "file_extension": ".py",
   "mimetype": "text/x-python",
   "name": "python",
   "nbconvert_exporter": "python",
   "pygments_lexer": "ipython2",
   "version": "2.7.6"
  }
 },
 "nbformat": 4,
 "nbformat_minor": 0
}
