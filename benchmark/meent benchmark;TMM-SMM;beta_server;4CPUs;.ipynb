{
 "cells": [
  {
   "cell_type": "code",
   "execution_count": 90,
   "id": "be4dd126",
   "metadata": {},
   "outputs": [],
   "source": [
    "import pandas as pd\n",
    "import numpy as np\n",
    "import matplotlib.pyplot as plt"
   ]
  },
  {
   "cell_type": "code",
   "execution_count": 91,
   "id": "c669254c",
   "metadata": {},
   "outputs": [],
   "source": [
    "import matplotlib.pylab as pylab\n",
    "params = {'legend.fontsize': 'x-large',\n",
    "          'figure.figsize': (15, 5),\n",
    "         'axes.labelsize': 'xx-large',\n",
    "         'axes.titlesize':'xx-large',\n",
    "         'xtick.labelsize':'xx-large',\n",
    "         'ytick.labelsize':'xx-large'}\n",
    "pylab.rcParams.update(params)"
   ]
  },
  {
   "cell_type": "code",
   "execution_count": 92,
   "id": "e0eaf6c4",
   "metadata": {},
   "outputs": [],
   "source": [
    "# 4 CPUs\n",
    "file = '/home/yongha/mcwa/1DFreeFormDQN/experiments/DQN/2022_09_16_14_07_47/wl900.0_angle60.0_ncells64/comp_table.csv'\n",
    "df = pd.read_csv(file)\n",
    "df.drop('Unnamed: 0', axis=1, inplace=True)"
   ]
  },
  {
   "cell_type": "markdown",
   "id": "e3020e6a",
   "metadata": {},
   "source": [
    "# TMM to SMM"
   ]
  },
  {
   "cell_type": "code",
   "execution_count": 93,
   "id": "ac352e88",
   "metadata": {},
   "outputs": [],
   "source": [
    "df['gap-1'] = df['mcwat-1'] - df['mcwas-1']\n",
    "df['gap0'] = df.mcwat0 - df.mcwas0\n",
    "df['gap+1'] = df['mcwat+1'] - df['mcwas+1']\n",
    "df['t_gap'] = df.t_mcwat - df.t_mcwas\n",
    "df['tpr_gap'] = df.tpr_mcwat - df.tpr_mcwas\n"
   ]
  },
  {
   "cell_type": "markdown",
   "id": "7254e794",
   "metadata": {},
   "source": [
    "# Benchmark"
   ]
  },
  {
   "cell_type": "markdown",
   "id": "5f188f36",
   "metadata": {},
   "source": [
    "## abs(difference in transmittance)"
   ]
  },
  {
   "cell_type": "code",
   "execution_count": 94,
   "id": "18ba2600",
   "metadata": {},
   "outputs": [
    {
     "data": {
      "image/png": "[encoded data removed]",
      "text/plain": [
       "<Figure size 1440x360 with 2 Axes>"
      ]
     },
     "metadata": {
      "needs_background": "light"
     },
     "output_type": "display_data"
    }
   ],
   "source": [
    "fig, axes = plt.subplots(1,2, figsize=(20,5))\n",
    "axes[0].hist([df['gap-1'], df['gap0'], df['gap+1']], bins=100)\n",
    "axes[1].hist([df['gap-1'], df['gap0'], df['gap+1']], bins=100)\n",
    "axes[1].set_yscale('log')\n",
    "plt.show()"
   ]
  },
  {
   "cell_type": "markdown",
   "id": "bcd36ccf",
   "metadata": {},
   "source": [
    "## Normalized abs(difference in transmittance) "
   ]
  },
  {
   "cell_type": "code",
   "execution_count": 95,
   "id": "e1ea0306",
   "metadata": {},
   "outputs": [
    {
     "data": {
      "image/png": "[encoded data removed]",
      "text/plain": [
       "<Figure size 1440x360 with 2 Axes>"
      ]
     },
     "metadata": {
      "needs_background": "light"
     },
     "output_type": "display_data"
    }
   ],
   "source": [
    "fig, axes = plt.subplots(1,2, figsize=(20,5))\n",
    "axes[0].axvline(0.001, c='r')\n",
    "axes[1].axvline(0.001, c='r')\n",
    "\n",
    "axes[0].hist([abs(df['gap-1']/df['mcwat-1']), abs(df['gap0']/df['mcwat0']), abs(df['gap+1']/df['mcwat+1'])], bins=np.logspace(np.log10(1E-20), np.log10(20),100))\n",
    "axes[0].set_xscale('log')\n",
    "\n",
    "axes[1].hist([abs(df['gap-1']/df['mcwat-1']), abs(df['gap0']/df['mcwat0']), abs(df['gap+1']/df['mcwat+1'])], bins=np.logspace(np.log10(1E-20), np.log10(20),100))\n",
    "axes[1].set_xscale('log')\n",
    "axes[1].set_yscale('log')\n",
    "\n",
    "plt.show()"
   ]
  },
  {
   "cell_type": "markdown",
   "id": "f8eafbfd",
   "metadata": {},
   "source": [
    "right side of vertical red line: normalized error >= 0.1 %\n",
    "\n",
    "orange is 0th order"
   ]
  },
  {
   "cell_type": "code",
   "execution_count": 96,
   "id": "eb759049",
   "metadata": {},
   "outputs": [
    {
     "data": {
      "text/html": [
       "<div>\n",
       "<style scoped>\n",
       "    .dataframe tbody tr th:only-of-type {\n",
       "        vertical-align: middle;\n",
       "    }\n",
       "\n",
       "    .dataframe tbody tr th {\n",
       "        vertical-align: top;\n",
       "    }\n",
       "\n",
       "    .dataframe thead th {\n",
       "        text-align: right;\n",
       "    }\n",
       "</style>\n",
       "<table border=\"1\" class=\"dataframe\">\n",
       "  <thead>\n",
       "    <tr style=\"text-align: right;\">\n",
       "      <th></th>\n",
       "      <th>mcwat-1</th>\n",
       "      <th>mcwas-1</th>\n",
       "      <th>gap-1</th>\n",
       "    </tr>\n",
       "  </thead>\n",
       "  <tbody>\n",
       "    <tr>\n",
       "      <th>3105</th>\n",
       "      <td>2.062383e-31</td>\n",
       "      <td>7.328936e-31</td>\n",
       "      <td>-5.266554e-31</td>\n",
       "    </tr>\n",
       "    <tr>\n",
       "      <th>6223</th>\n",
       "      <td>1.258185e-31</td>\n",
       "      <td>6.481429e-31</td>\n",
       "      <td>-5.223243e-31</td>\n",
       "    </tr>\n",
       "    <tr>\n",
       "      <th>7226</th>\n",
       "      <td>4.596980e-30</td>\n",
       "      <td>1.816898e-31</td>\n",
       "      <td>4.415290e-30</td>\n",
       "    </tr>\n",
       "    <tr>\n",
       "      <th>7475</th>\n",
       "      <td>4.287140e-31</td>\n",
       "      <td>5.349227e-31</td>\n",
       "      <td>-1.062087e-31</td>\n",
       "    </tr>\n",
       "    <tr>\n",
       "      <th>8472</th>\n",
       "      <td>2.514653e-32</td>\n",
       "      <td>4.611096e-30</td>\n",
       "      <td>-4.585950e-30</td>\n",
       "    </tr>\n",
       "    <tr>\n",
       "      <th>10575</th>\n",
       "      <td>3.172932e-31</td>\n",
       "      <td>3.696333e-31</td>\n",
       "      <td>-5.234004e-32</td>\n",
       "    </tr>\n",
       "    <tr>\n",
       "      <th>15408</th>\n",
       "      <td>2.123246e-28</td>\n",
       "      <td>2.616370e-28</td>\n",
       "      <td>-4.931233e-29</td>\n",
       "    </tr>\n",
       "    <tr>\n",
       "      <th>16394</th>\n",
       "      <td>1.054765e-30</td>\n",
       "      <td>9.806301e-31</td>\n",
       "      <td>7.413443e-32</td>\n",
       "    </tr>\n",
       "    <tr>\n",
       "      <th>21469</th>\n",
       "      <td>1.882113e-31</td>\n",
       "      <td>2.080262e-30</td>\n",
       "      <td>-1.892051e-30</td>\n",
       "    </tr>\n",
       "    <tr>\n",
       "      <th>79794</th>\n",
       "      <td>4.287140e-31</td>\n",
       "      <td>5.349227e-31</td>\n",
       "      <td>-1.062087e-31</td>\n",
       "    </tr>\n",
       "    <tr>\n",
       "      <th>82242</th>\n",
       "      <td>6.023164e-31</td>\n",
       "      <td>9.440379e-31</td>\n",
       "      <td>-3.417215e-31</td>\n",
       "    </tr>\n",
       "    <tr>\n",
       "      <th>82988</th>\n",
       "      <td>1.662338e-31</td>\n",
       "      <td>2.028611e-30</td>\n",
       "      <td>-1.862378e-30</td>\n",
       "    </tr>\n",
       "    <tr>\n",
       "      <th>186659</th>\n",
       "      <td>1.054765e-30</td>\n",
       "      <td>9.806301e-31</td>\n",
       "      <td>7.413443e-32</td>\n",
       "    </tr>\n",
       "    <tr>\n",
       "      <th>187144</th>\n",
       "      <td>2.514653e-32</td>\n",
       "      <td>4.611096e-30</td>\n",
       "      <td>-4.585950e-30</td>\n",
       "    </tr>\n",
       "    <tr>\n",
       "      <th>211535</th>\n",
       "      <td>5.233428e-31</td>\n",
       "      <td>2.394893e-30</td>\n",
       "      <td>-1.871550e-30</td>\n",
       "    </tr>\n",
       "    <tr>\n",
       "      <th>263149</th>\n",
       "      <td>4.410890e-31</td>\n",
       "      <td>1.295928e-30</td>\n",
       "      <td>-8.548389e-31</td>\n",
       "    </tr>\n",
       "    <tr>\n",
       "      <th>297570</th>\n",
       "      <td>1.926582e-29</td>\n",
       "      <td>1.411984e-29</td>\n",
       "      <td>5.145981e-30</td>\n",
       "    </tr>\n",
       "    <tr>\n",
       "      <th>363501</th>\n",
       "      <td>1.662338e-31</td>\n",
       "      <td>2.028611e-30</td>\n",
       "      <td>-1.862378e-30</td>\n",
       "    </tr>\n",
       "    <tr>\n",
       "      <th>367359</th>\n",
       "      <td>2.514878e-31</td>\n",
       "      <td>5.797769e-31</td>\n",
       "      <td>-3.282891e-31</td>\n",
       "    </tr>\n",
       "    <tr>\n",
       "      <th>370407</th>\n",
       "      <td>1.882113e-31</td>\n",
       "      <td>2.080262e-30</td>\n",
       "      <td>-1.892051e-30</td>\n",
       "    </tr>\n",
       "    <tr>\n",
       "      <th>379535</th>\n",
       "      <td>1.922641e-30</td>\n",
       "      <td>1.133604e-30</td>\n",
       "      <td>7.890369e-31</td>\n",
       "    </tr>\n",
       "    <tr>\n",
       "      <th>397025</th>\n",
       "      <td>4.608935e-30</td>\n",
       "      <td>3.878159e-29</td>\n",
       "      <td>-3.417266e-29</td>\n",
       "    </tr>\n",
       "    <tr>\n",
       "      <th>409622</th>\n",
       "      <td>2.276992e-30</td>\n",
       "      <td>1.679564e-30</td>\n",
       "      <td>5.974282e-31</td>\n",
       "    </tr>\n",
       "    <tr>\n",
       "      <th>409624</th>\n",
       "      <td>1.696826e-29</td>\n",
       "      <td>3.716373e-29</td>\n",
       "      <td>-2.019547e-29</td>\n",
       "    </tr>\n",
       "    <tr>\n",
       "      <th>435866</th>\n",
       "      <td>1.258185e-31</td>\n",
       "      <td>6.481429e-31</td>\n",
       "      <td>-5.223243e-31</td>\n",
       "    </tr>\n",
       "    <tr>\n",
       "      <th>496193</th>\n",
       "      <td>2.062383e-31</td>\n",
       "      <td>7.328936e-31</td>\n",
       "      <td>-5.266554e-31</td>\n",
       "    </tr>\n",
       "  </tbody>\n",
       "</table>\n",
       "</div>"
      ],
      "text/plain": [
       "             mcwat-1       mcwas-1         gap-1\n",
       "3105    2.062383e-31  7.328936e-31 -5.266554e-31\n",
       "6223    1.258185e-31  6.481429e-31 -5.223243e-31\n",
       "7226    4.596980e-30  1.816898e-31  4.415290e-30\n",
       "7475    4.287140e-31  5.349227e-31 -1.062087e-31\n",
       "8472    2.514653e-32  4.611096e-30 -4.585950e-30\n",
       "10575   3.172932e-31  3.696333e-31 -5.234004e-32\n",
       "15408   2.123246e-28  2.616370e-28 -4.931233e-29\n",
       "16394   1.054765e-30  9.806301e-31  7.413443e-32\n",
       "21469   1.882113e-31  2.080262e-30 -1.892051e-30\n",
       "79794   4.287140e-31  5.349227e-31 -1.062087e-31\n",
       "82242   6.023164e-31  9.440379e-31 -3.417215e-31\n",
       "82988   1.662338e-31  2.028611e-30 -1.862378e-30\n",
       "186659  1.054765e-30  9.806301e-31  7.413443e-32\n",
       "187144  2.514653e-32  4.611096e-30 -4.585950e-30\n",
       "211535  5.233428e-31  2.394893e-30 -1.871550e-30\n",
       "263149  4.410890e-31  1.295928e-30 -8.548389e-31\n",
       "297570  1.926582e-29  1.411984e-29  5.145981e-30\n",
       "363501  1.662338e-31  2.028611e-30 -1.862378e-30\n",
       "367359  2.514878e-31  5.797769e-31 -3.282891e-31\n",
       "370407  1.882113e-31  2.080262e-30 -1.892051e-30\n",
       "379535  1.922641e-30  1.133604e-30  7.890369e-31\n",
       "397025  4.608935e-30  3.878159e-29 -3.417266e-29\n",
       "409622  2.276992e-30  1.679564e-30  5.974282e-31\n",
       "409624  1.696826e-29  3.716373e-29 -2.019547e-29\n",
       "435866  1.258185e-31  6.481429e-31 -5.223243e-31\n",
       "496193  2.062383e-31  7.328936e-31 -5.266554e-31"
      ]
     },
     "execution_count": 96,
     "metadata": {},
     "output_type": "execute_result"
    }
   ],
   "source": [
    "df[abs(df['gap-1']/df['mcwat-1'])>0.001][['mcwat-1', 'mcwas-1', 'gap-1']]"
   ]
  },
  {
   "cell_type": "code",
   "execution_count": 97,
   "id": "444cc993",
   "metadata": {},
   "outputs": [
    {
     "data": {
      "text/html": [
       "<div>\n",
       "<style scoped>\n",
       "    .dataframe tbody tr th:only-of-type {\n",
       "        vertical-align: middle;\n",
       "    }\n",
       "\n",
       "    .dataframe tbody tr th {\n",
       "        vertical-align: top;\n",
       "    }\n",
       "\n",
       "    .dataframe thead th {\n",
       "        text-align: right;\n",
       "    }\n",
       "</style>\n",
       "<table border=\"1\" class=\"dataframe\">\n",
       "  <thead>\n",
       "    <tr style=\"text-align: right;\">\n",
       "      <th></th>\n",
       "      <th>mcwat0</th>\n",
       "      <th>mcwas0</th>\n",
       "      <th>gap0</th>\n",
       "    </tr>\n",
       "  </thead>\n",
       "  <tbody>\n",
       "  </tbody>\n",
       "</table>\n",
       "</div>"
      ],
      "text/plain": [
       "Empty DataFrame\n",
       "Columns: [mcwat0, mcwas0, gap0]\n",
       "Index: []"
      ]
     },
     "execution_count": 97,
     "metadata": {},
     "output_type": "execute_result"
    }
   ],
   "source": [
    "df[abs(df['gap0']/df['mcwat0'])>0.001][['mcwat0', 'mcwas0', 'gap0']]"
   ]
  },
  {
   "cell_type": "code",
   "execution_count": 98,
   "id": "463c8593",
   "metadata": {},
   "outputs": [
    {
     "data": {
      "text/html": [
       "<div>\n",
       "<style scoped>\n",
       "    .dataframe tbody tr th:only-of-type {\n",
       "        vertical-align: middle;\n",
       "    }\n",
       "\n",
       "    .dataframe tbody tr th {\n",
       "        vertical-align: top;\n",
       "    }\n",
       "\n",
       "    .dataframe thead th {\n",
       "        text-align: right;\n",
       "    }\n",
       "</style>\n",
       "<table border=\"1\" class=\"dataframe\">\n",
       "  <thead>\n",
       "    <tr style=\"text-align: right;\">\n",
       "      <th></th>\n",
       "      <th>mcwat+1</th>\n",
       "      <th>mcwas+1</th>\n",
       "      <th>gap+1</th>\n",
       "    </tr>\n",
       "  </thead>\n",
       "  <tbody>\n",
       "    <tr>\n",
       "      <th>3105</th>\n",
       "      <td>5.636041e-32</td>\n",
       "      <td>8.692807e-31</td>\n",
       "      <td>-8.129203e-31</td>\n",
       "    </tr>\n",
       "    <tr>\n",
       "      <th>6223</th>\n",
       "      <td>4.977607e-31</td>\n",
       "      <td>2.674493e-31</td>\n",
       "      <td>2.303114e-31</td>\n",
       "    </tr>\n",
       "    <tr>\n",
       "      <th>7226</th>\n",
       "      <td>3.598600e-30</td>\n",
       "      <td>2.285761e-31</td>\n",
       "      <td>3.370024e-30</td>\n",
       "    </tr>\n",
       "    <tr>\n",
       "      <th>7475</th>\n",
       "      <td>1.234651e-31</td>\n",
       "      <td>1.458717e-30</td>\n",
       "      <td>-1.335252e-30</td>\n",
       "    </tr>\n",
       "    <tr>\n",
       "      <th>8472</th>\n",
       "      <td>3.626643e-31</td>\n",
       "      <td>4.753130e-30</td>\n",
       "      <td>-4.390465e-30</td>\n",
       "    </tr>\n",
       "    <tr>\n",
       "      <th>10575</th>\n",
       "      <td>4.247095e-31</td>\n",
       "      <td>3.205230e-31</td>\n",
       "      <td>1.041865e-31</td>\n",
       "    </tr>\n",
       "    <tr>\n",
       "      <th>15408</th>\n",
       "      <td>5.874451e-28</td>\n",
       "      <td>4.514179e-28</td>\n",
       "      <td>1.360272e-28</td>\n",
       "    </tr>\n",
       "    <tr>\n",
       "      <th>16394</th>\n",
       "      <td>3.136694e-31</td>\n",
       "      <td>1.521044e-30</td>\n",
       "      <td>-1.207375e-30</td>\n",
       "    </tr>\n",
       "    <tr>\n",
       "      <th>21469</th>\n",
       "      <td>3.936793e-32</td>\n",
       "      <td>1.326363e-30</td>\n",
       "      <td>-1.286995e-30</td>\n",
       "    </tr>\n",
       "    <tr>\n",
       "      <th>79794</th>\n",
       "      <td>1.234651e-31</td>\n",
       "      <td>1.458717e-30</td>\n",
       "      <td>-1.335252e-30</td>\n",
       "    </tr>\n",
       "    <tr>\n",
       "      <th>82242</th>\n",
       "      <td>5.092136e-31</td>\n",
       "      <td>5.396045e-31</td>\n",
       "      <td>-3.039097e-32</td>\n",
       "    </tr>\n",
       "    <tr>\n",
       "      <th>82988</th>\n",
       "      <td>2.494161e-31</td>\n",
       "      <td>2.238260e-30</td>\n",
       "      <td>-1.988844e-30</td>\n",
       "    </tr>\n",
       "    <tr>\n",
       "      <th>186659</th>\n",
       "      <td>3.136694e-31</td>\n",
       "      <td>1.521044e-30</td>\n",
       "      <td>-1.207375e-30</td>\n",
       "    </tr>\n",
       "    <tr>\n",
       "      <th>187144</th>\n",
       "      <td>3.626643e-31</td>\n",
       "      <td>4.753130e-30</td>\n",
       "      <td>-4.390465e-30</td>\n",
       "    </tr>\n",
       "    <tr>\n",
       "      <th>211535</th>\n",
       "      <td>4.125377e-31</td>\n",
       "      <td>1.888210e-30</td>\n",
       "      <td>-1.475672e-30</td>\n",
       "    </tr>\n",
       "    <tr>\n",
       "      <th>263149</th>\n",
       "      <td>8.160898e-31</td>\n",
       "      <td>1.644837e-30</td>\n",
       "      <td>-8.287471e-31</td>\n",
       "    </tr>\n",
       "    <tr>\n",
       "      <th>297570</th>\n",
       "      <td>1.382635e-28</td>\n",
       "      <td>1.507796e-29</td>\n",
       "      <td>1.231855e-28</td>\n",
       "    </tr>\n",
       "    <tr>\n",
       "      <th>363501</th>\n",
       "      <td>2.494161e-31</td>\n",
       "      <td>2.238260e-30</td>\n",
       "      <td>-1.988844e-30</td>\n",
       "    </tr>\n",
       "    <tr>\n",
       "      <th>367359</th>\n",
       "      <td>1.217827e-31</td>\n",
       "      <td>1.085985e-30</td>\n",
       "      <td>-9.642020e-31</td>\n",
       "    </tr>\n",
       "    <tr>\n",
       "      <th>370407</th>\n",
       "      <td>3.936793e-32</td>\n",
       "      <td>1.326363e-30</td>\n",
       "      <td>-1.286995e-30</td>\n",
       "    </tr>\n",
       "    <tr>\n",
       "      <th>379535</th>\n",
       "      <td>2.730919e-30</td>\n",
       "      <td>1.734309e-30</td>\n",
       "      <td>9.966103e-31</td>\n",
       "    </tr>\n",
       "    <tr>\n",
       "      <th>397025</th>\n",
       "      <td>1.603381e-28</td>\n",
       "      <td>8.719050e-29</td>\n",
       "      <td>7.314755e-29</td>\n",
       "    </tr>\n",
       "    <tr>\n",
       "      <th>409622</th>\n",
       "      <td>1.612030e-30</td>\n",
       "      <td>1.348762e-30</td>\n",
       "      <td>2.632683e-31</td>\n",
       "    </tr>\n",
       "    <tr>\n",
       "      <th>409624</th>\n",
       "      <td>2.444636e-29</td>\n",
       "      <td>2.108036e-28</td>\n",
       "      <td>-1.863573e-28</td>\n",
       "    </tr>\n",
       "    <tr>\n",
       "      <th>435866</th>\n",
       "      <td>4.977607e-31</td>\n",
       "      <td>2.674493e-31</td>\n",
       "      <td>2.303114e-31</td>\n",
       "    </tr>\n",
       "    <tr>\n",
       "      <th>496193</th>\n",
       "      <td>5.636041e-32</td>\n",
       "      <td>8.692807e-31</td>\n",
       "      <td>-8.129203e-31</td>\n",
       "    </tr>\n",
       "  </tbody>\n",
       "</table>\n",
       "</div>"
      ],
      "text/plain": [
       "             mcwat+1       mcwas+1         gap+1\n",
       "3105    5.636041e-32  8.692807e-31 -8.129203e-31\n",
       "6223    4.977607e-31  2.674493e-31  2.303114e-31\n",
       "7226    3.598600e-30  2.285761e-31  3.370024e-30\n",
       "7475    1.234651e-31  1.458717e-30 -1.335252e-30\n",
       "8472    3.626643e-31  4.753130e-30 -4.390465e-30\n",
       "10575   4.247095e-31  3.205230e-31  1.041865e-31\n",
       "15408   5.874451e-28  4.514179e-28  1.360272e-28\n",
       "16394   3.136694e-31  1.521044e-30 -1.207375e-30\n",
       "21469   3.936793e-32  1.326363e-30 -1.286995e-30\n",
       "79794   1.234651e-31  1.458717e-30 -1.335252e-30\n",
       "82242   5.092136e-31  5.396045e-31 -3.039097e-32\n",
       "82988   2.494161e-31  2.238260e-30 -1.988844e-30\n",
       "186659  3.136694e-31  1.521044e-30 -1.207375e-30\n",
       "187144  3.626643e-31  4.753130e-30 -4.390465e-30\n",
       "211535  4.125377e-31  1.888210e-30 -1.475672e-30\n",
       "263149  8.160898e-31  1.644837e-30 -8.287471e-31\n",
       "297570  1.382635e-28  1.507796e-29  1.231855e-28\n",
       "363501  2.494161e-31  2.238260e-30 -1.988844e-30\n",
       "367359  1.217827e-31  1.085985e-30 -9.642020e-31\n",
       "370407  3.936793e-32  1.326363e-30 -1.286995e-30\n",
       "379535  2.730919e-30  1.734309e-30  9.966103e-31\n",
       "397025  1.603381e-28  8.719050e-29  7.314755e-29\n",
       "409622  1.612030e-30  1.348762e-30  2.632683e-31\n",
       "409624  2.444636e-29  2.108036e-28 -1.863573e-28\n",
       "435866  4.977607e-31  2.674493e-31  2.303114e-31\n",
       "496193  5.636041e-32  8.692807e-31 -8.129203e-31"
      ]
     },
     "execution_count": 98,
     "metadata": {},
     "output_type": "execute_result"
    }
   ],
   "source": [
    "df[abs(df['gap+1']/df['mcwat+1'])>0.001][['mcwat+1', 'mcwas+1', 'gap+1']]"
   ]
  },
  {
   "cell_type": "markdown",
   "id": "a30a9365",
   "metadata": {},
   "source": [
    "Big errors are coming from sub modes which have very small values so normalization harm result."
   ]
  },
  {
   "cell_type": "markdown",
   "id": "648d88ee",
   "metadata": {},
   "source": [
    "# benchmark - simulation time"
   ]
  },
  {
   "cell_type": "markdown",
   "id": "cede83a9",
   "metadata": {},
   "source": [
    "## run time by time.time()"
   ]
  },
  {
   "cell_type": "code",
   "execution_count": 99,
   "id": "25a72d12",
   "metadata": {},
   "outputs": [
    {
     "data": {
      "image/png": "[encoded data removed]",
      "text/plain": [
       "<Figure size 1440x360 with 2 Axes>"
      ]
     },
     "metadata": {
      "needs_background": "light"
     },
     "output_type": "display_data"
    }
   ],
   "source": [
    "fig, axes = plt.subplots(1,2, figsize=(20,5))\n",
    "axes[0].hist([df['t_mcwat'],df['t_mcwas']], bins=100)\n",
    "# axes[0].hist(df['t_mcwas'], bins=100)\n",
    "axes[1].hist([df['t_mcwat'],df['t_mcwas']], bins=100, log=True)\n",
    "# axes[1].hist(df['t_mcwas'], bins=100, log=True)\n",
    "# plt.xscale('log')\n",
    "plt.show()"
   ]
  },
  {
   "cell_type": "markdown",
   "id": "7fa5d789",
   "metadata": {},
   "source": [
    "Blue is  meent with TMM, Oragne is meent with SMM"
   ]
  },
  {
   "cell_type": "markdown",
   "id": "3a2ab4cf",
   "metadata": {},
   "source": [
    "## SMM time / TMM time"
   ]
  },
  {
   "cell_type": "code",
   "execution_count": 100,
   "id": "11ea8ef4",
   "metadata": {},
   "outputs": [
    {
     "data": {
      "image/png": "[encoded data removed]",
      "text/plain": [
       "<Figure size 1440x360 with 2 Axes>"
      ]
     },
     "metadata": {
      "needs_background": "light"
     },
     "output_type": "display_data"
    }
   ],
   "source": [
    "fig, axes = plt.subplots(1,2, figsize=(20,5))\n",
    "axes[0].axvline(1, c='r')\n",
    "axes[1].axvline(1, c='r')\n",
    "axes[0].hist((df['t_mcwas'])/df['t_mcwat'], bins=100)\n",
    "axes[1].hist((df['t_mcwas'])/df['t_mcwat'], bins=100)\n",
    "axes[1].set_yscale('log')\n",
    "plt.show()"
   ]
  },
  {
   "cell_type": "code",
   "execution_count": 101,
   "id": "dc535e44",
   "metadata": {},
   "outputs": [
    {
     "data": {
      "text/html": [
       "<div>\n",
       "<style scoped>\n",
       "    .dataframe tbody tr th:only-of-type {\n",
       "        vertical-align: middle;\n",
       "    }\n",
       "\n",
       "    .dataframe tbody tr th {\n",
       "        vertical-align: top;\n",
       "    }\n",
       "\n",
       "    .dataframe thead th {\n",
       "        text-align: right;\n",
       "    }\n",
       "</style>\n",
       "<table border=\"1\" class=\"dataframe\">\n",
       "  <thead>\n",
       "    <tr style=\"text-align: right;\">\n",
       "      <th></th>\n",
       "      <th>count</th>\n",
       "      <th>mean</th>\n",
       "      <th>std</th>\n",
       "      <th>min</th>\n",
       "      <th>25%</th>\n",
       "      <th>50%</th>\n",
       "      <th>75%</th>\n",
       "      <th>max</th>\n",
       "    </tr>\n",
       "  </thead>\n",
       "  <tbody>\n",
       "    <tr>\n",
       "      <th>0</th>\n",
       "      <td>594421.0</td>\n",
       "      <td>1.611731</td>\n",
       "      <td>0.198503</td>\n",
       "      <td>0.567782</td>\n",
       "      <td>1.464564</td>\n",
       "      <td>1.572947</td>\n",
       "      <td>1.747113</td>\n",
       "      <td>4.066429</td>\n",
       "    </tr>\n",
       "  </tbody>\n",
       "</table>\n",
       "</div>"
      ],
      "text/plain": [
       "      count      mean       std       min       25%       50%       75%  \\\n",
       "0  594421.0  1.611731  0.198503  0.567782  1.464564  1.572947  1.747113   \n",
       "\n",
       "        max  \n",
       "0  4.066429  "
      ]
     },
     "execution_count": 101,
     "metadata": {},
     "output_type": "execute_result"
    }
   ],
   "source": [
    "pd.DataFrame((df['t_mcwas']/df['t_mcwat']).describe()).T"
   ]
  },
  {
   "cell_type": "markdown",
   "id": "cff0acb6",
   "metadata": {},
   "source": [
    "TMM is faster 1.6 times than SMM.\n",
    "\n",
    "right side of red line: TMM is faster\n"
   ]
  },
  {
   "cell_type": "markdown",
   "id": "6bb674a5",
   "metadata": {},
   "source": [
    "## time.process_time()"
   ]
  },
  {
   "cell_type": "code",
   "execution_count": 102,
   "id": "9f95ac32",
   "metadata": {},
   "outputs": [
    {
     "data": {
      "image/png": "[encoded data removed]",
      "text/plain": [
       "<Figure size 1440x360 with 2 Axes>"
      ]
     },
     "metadata": {
      "needs_background": "light"
     },
     "output_type": "display_data"
    }
   ],
   "source": [
    "fig, axes = plt.subplots(1,2, figsize=(20,5))\n",
    "axes[0].hist([df['tpr_mcwat'],df['tpr_mcwas']], bins=100)\n",
    "# axes[0].hist(df['t_mcwas'], bins=100)\n",
    "axes[1].hist([df['tpr_mcwat'],df['tpr_mcwas']], bins=100, log=True)\n",
    "# axes[1].hist(df['t_mcwas'], bins=100, log=True)\n",
    "# plt.xscale('log')\n",
    "plt.show()"
   ]
  },
  {
   "cell_type": "code",
   "execution_count": 103,
   "id": "78e0d498",
   "metadata": {},
   "outputs": [
    {
     "data": {
      "image/png": "[encoded data removed]",
      "text/plain": [
       "<Figure size 1440x360 with 2 Axes>"
      ]
     },
     "metadata": {
      "needs_background": "light"
     },
     "output_type": "display_data"
    }
   ],
   "source": [
    "fig, axes = plt.subplots(1,2, figsize=(20,5))\n",
    "axes[0].axvline(1, c='r')\n",
    "axes[1].axvline(1, c='r')\n",
    "axes[0].hist((df['tpr_mcwas'])/df['tpr_mcwat'], bins=100)\n",
    "axes[1].hist((df['tpr_mcwas'])/df['tpr_mcwat'], bins=100)\n",
    "axes[1].set_yscale('log')\n",
    "plt.show()"
   ]
  },
  {
   "cell_type": "code",
   "execution_count": 104,
   "id": "dff088ff",
   "metadata": {},
   "outputs": [
    {
     "data": {
      "text/html": [
       "<div>\n",
       "<style scoped>\n",
       "    .dataframe tbody tr th:only-of-type {\n",
       "        vertical-align: middle;\n",
       "    }\n",
       "\n",
       "    .dataframe tbody tr th {\n",
       "        vertical-align: top;\n",
       "    }\n",
       "\n",
       "    .dataframe thead th {\n",
       "        text-align: right;\n",
       "    }\n",
       "</style>\n",
       "<table border=\"1\" class=\"dataframe\">\n",
       "  <thead>\n",
       "    <tr style=\"text-align: right;\">\n",
       "      <th></th>\n",
       "      <th>count</th>\n",
       "      <th>mean</th>\n",
       "      <th>std</th>\n",
       "      <th>min</th>\n",
       "      <th>25%</th>\n",
       "      <th>50%</th>\n",
       "      <th>75%</th>\n",
       "      <th>max</th>\n",
       "    </tr>\n",
       "  </thead>\n",
       "  <tbody>\n",
       "    <tr>\n",
       "      <th>0</th>\n",
       "      <td>594421.0</td>\n",
       "      <td>1.834857</td>\n",
       "      <td>0.207524</td>\n",
       "      <td>0.749124</td>\n",
       "      <td>1.689048</td>\n",
       "      <td>1.822139</td>\n",
       "      <td>1.955127</td>\n",
       "      <td>4.260806</td>\n",
       "    </tr>\n",
       "  </tbody>\n",
       "</table>\n",
       "</div>"
      ],
      "text/plain": [
       "      count      mean       std       min       25%       50%       75%  \\\n",
       "0  594421.0  1.834857  0.207524  0.749124  1.689048  1.822139  1.955127   \n",
       "\n",
       "        max  \n",
       "0  4.260806  "
      ]
     },
     "execution_count": 104,
     "metadata": {},
     "output_type": "execute_result"
    }
   ],
   "source": [
    "pd.DataFrame((df['tpr_mcwas']/df['tpr_mcwat']).describe()).T"
   ]
  }
 ],
 "metadata": {
  "kernelspec": {
   "display_name": "Python 3 (ipykernel)",
   "language": "python",
   "name": "python3"
  },
  "language_info": {
   "codemirror_mode": {
    "name": "ipython",
    "version": 3
   },
   "file_extension": ".py",
   "mimetype": "text/x-python",
   "name": "python",
   "nbconvert_exporter": "python",
   "pygments_lexer": "ipython3",
   "version": "3.9.12"
  }
 },
 "nbformat": 4,
 "nbformat_minor": 5
}
