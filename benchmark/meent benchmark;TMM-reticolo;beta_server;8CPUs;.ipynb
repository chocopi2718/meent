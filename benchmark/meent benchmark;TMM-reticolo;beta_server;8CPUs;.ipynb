{
 "cells": [
  {
   "cell_type": "code",
   "execution_count": 64,
   "id": "be4dd126",
   "metadata": {},
   "outputs": [],
   "source": [
    "import pandas as pd\n",
    "import numpy as np\n",
    "import matplotlib.pyplot as plt"
   ]
  },
  {
   "cell_type": "code",
   "execution_count": 65,
   "id": "e59f8007",
   "metadata": {},
   "outputs": [],
   "source": [
    "import matplotlib.pylab as pylab\n",
    "params = {'legend.fontsize': 'x-large',\n",
    "          'figure.figsize': (15, 5),\n",
    "         'axes.labelsize': 'xx-large',\n",
    "         'axes.titlesize':'xx-large',\n",
    "         'xtick.labelsize':'xx-large',\n",
    "         'ytick.labelsize':'xx-large'}\n",
    "pylab.rcParams.update(params)"
   ]
  },
  {
   "cell_type": "code",
   "execution_count": 66,
   "id": "e0eaf6c4",
   "metadata": {},
   "outputs": [],
   "source": [
    "# 8 CPUs\n",
    "file = '/home/yongha/mcwa/1DFreeFormDQN/experiments/DQN/2022_09_16_14_07_55/wl900.0_angle60.0_ncells64/comp_table.csv'\n",
    "df = pd.read_csv(file)\n",
    "df.drop('Unnamed: 0', axis=1, inplace=True)"
   ]
  },
  {
   "cell_type": "markdown",
   "id": "451e4637",
   "metadata": {},
   "source": [
    "# TMM to reticolo"
   ]
  },
  {
   "cell_type": "code",
   "execution_count": 67,
   "id": "ef7f19d5",
   "metadata": {},
   "outputs": [],
   "source": [
    "A, B = 'mcwat', 'reti'"
   ]
  },
  {
   "cell_type": "code",
   "execution_count": 68,
   "id": "ac352e88",
   "metadata": {},
   "outputs": [],
   "source": [
    "df['gap-1'] = df[f'{A}-1'] - df[f'{B}-1']\n",
    "df['gap0'] = df[f'{A}0'] - df[f'{B}0']\n",
    "df['gap+1'] = df[f'{A}+1'] - df[f'{B}+1']\n",
    "df['t_gap'] = df[f't_{A}'] - df[f't_{B}']\n",
    "df['tpr_gap'] = df[f'tpr_{A}'] - df[f'tpr_{B}']"
   ]
  },
  {
   "cell_type": "markdown",
   "id": "7254e794",
   "metadata": {},
   "source": [
    "# Benchmark"
   ]
  },
  {
   "cell_type": "markdown",
   "id": "5f188f36",
   "metadata": {},
   "source": [
    "## abs(difference in transmittance)"
   ]
  },
  {
   "cell_type": "code",
   "execution_count": 69,
   "id": "18ba2600",
   "metadata": {},
   "outputs": [
    {
     "data": {
      "image/png": "[encoded data removed]",
      "text/plain": [
       "<Figure size 1440x360 with 2 Axes>"
      ]
     },
     "metadata": {
      "needs_background": "light"
     },
     "output_type": "display_data"
    }
   ],
   "source": [
    "fig, axes = plt.subplots(1,2, figsize=(20,5))\n",
    "axes[0].hist([df['gap-1'], df['gap0'], df['gap+1']], bins=100)\n",
    "axes[1].hist([df['gap-1'], df['gap0'], df['gap+1']], bins=100)\n",
    "axes[1].set_yscale('log')\n",
    "plt.show()"
   ]
  },
  {
   "cell_type": "code",
   "execution_count": 70,
   "id": "9b61f4e9",
   "metadata": {},
   "outputs": [
    {
     "data": {
      "text/html": [
       "<div>\n",
       "<style scoped>\n",
       "    .dataframe tbody tr th:only-of-type {\n",
       "        vertical-align: middle;\n",
       "    }\n",
       "\n",
       "    .dataframe tbody tr th {\n",
       "        vertical-align: top;\n",
       "    }\n",
       "\n",
       "    .dataframe thead th {\n",
       "        text-align: right;\n",
       "    }\n",
       "</style>\n",
       "<table border=\"1\" class=\"dataframe\">\n",
       "  <thead>\n",
       "    <tr style=\"text-align: right;\">\n",
       "      <th></th>\n",
       "      <th>mcwat-1</th>\n",
       "      <th>reti-1</th>\n",
       "      <th>gap-1</th>\n",
       "    </tr>\n",
       "  </thead>\n",
       "  <tbody>\n",
       "    <tr>\n",
       "      <th>241525</th>\n",
       "      <td>0.075502</td>\n",
       "      <td>0.263434</td>\n",
       "      <td>-0.187932</td>\n",
       "    </tr>\n",
       "    <tr>\n",
       "      <th>362868</th>\n",
       "      <td>0.032820</td>\n",
       "      <td>0.157709</td>\n",
       "      <td>-0.124889</td>\n",
       "    </tr>\n",
       "    <tr>\n",
       "      <th>8598</th>\n",
       "      <td>0.194691</td>\n",
       "      <td>0.296532</td>\n",
       "      <td>-0.101841</td>\n",
       "    </tr>\n",
       "    <tr>\n",
       "      <th>94343</th>\n",
       "      <td>0.160148</td>\n",
       "      <td>0.222406</td>\n",
       "      <td>-0.062258</td>\n",
       "    </tr>\n",
       "    <tr>\n",
       "      <th>182526</th>\n",
       "      <td>0.132600</td>\n",
       "      <td>0.193139</td>\n",
       "      <td>-0.060539</td>\n",
       "    </tr>\n",
       "    <tr>\n",
       "      <th>...</th>\n",
       "      <td>...</td>\n",
       "      <td>...</td>\n",
       "      <td>...</td>\n",
       "    </tr>\n",
       "    <tr>\n",
       "      <th>290407</th>\n",
       "      <td>0.091234</td>\n",
       "      <td>0.029890</td>\n",
       "      <td>0.061344</td>\n",
       "    </tr>\n",
       "    <tr>\n",
       "      <th>297665</th>\n",
       "      <td>0.367187</td>\n",
       "      <td>0.299073</td>\n",
       "      <td>0.068114</td>\n",
       "    </tr>\n",
       "    <tr>\n",
       "      <th>371226</th>\n",
       "      <td>0.239978</td>\n",
       "      <td>0.159604</td>\n",
       "      <td>0.080373</td>\n",
       "    </tr>\n",
       "    <tr>\n",
       "      <th>340653</th>\n",
       "      <td>0.391709</td>\n",
       "      <td>0.308912</td>\n",
       "      <td>0.082797</td>\n",
       "    </tr>\n",
       "    <tr>\n",
       "      <th>14545</th>\n",
       "      <td>0.339909</td>\n",
       "      <td>0.171175</td>\n",
       "      <td>0.168734</td>\n",
       "    </tr>\n",
       "  </tbody>\n",
       "</table>\n",
       "<p>564 rows × 3 columns</p>\n",
       "</div>"
      ],
      "text/plain": [
       "         mcwat-1    reti-1     gap-1\n",
       "241525  0.075502  0.263434 -0.187932\n",
       "362868  0.032820  0.157709 -0.124889\n",
       "8598    0.194691  0.296532 -0.101841\n",
       "94343   0.160148  0.222406 -0.062258\n",
       "182526  0.132600  0.193139 -0.060539\n",
       "...          ...       ...       ...\n",
       "290407  0.091234  0.029890  0.061344\n",
       "297665  0.367187  0.299073  0.068114\n",
       "371226  0.239978  0.159604  0.080373\n",
       "340653  0.391709  0.308912  0.082797\n",
       "14545   0.339909  0.171175  0.168734\n",
       "\n",
       "[564 rows x 3 columns]"
      ]
     },
     "execution_count": 70,
     "metadata": {},
     "output_type": "execute_result"
    }
   ],
   "source": [
    "df[abs(df['gap-1'])>0.01][[f'{A}-1', f'{B}-1', 'gap-1']].sort_values('gap-1')"
   ]
  },
  {
   "cell_type": "code",
   "execution_count": 71,
   "id": "82b16cf1",
   "metadata": {},
   "outputs": [
    {
     "data": {
      "text/html": [
       "<div>\n",
       "<style scoped>\n",
       "    .dataframe tbody tr th:only-of-type {\n",
       "        vertical-align: middle;\n",
       "    }\n",
       "\n",
       "    .dataframe tbody tr th {\n",
       "        vertical-align: top;\n",
       "    }\n",
       "\n",
       "    .dataframe thead th {\n",
       "        text-align: right;\n",
       "    }\n",
       "</style>\n",
       "<table border=\"1\" class=\"dataframe\">\n",
       "  <thead>\n",
       "    <tr style=\"text-align: right;\">\n",
       "      <th></th>\n",
       "      <th>mcwat0</th>\n",
       "      <th>reti0</th>\n",
       "      <th>gap0</th>\n",
       "    </tr>\n",
       "  </thead>\n",
       "  <tbody>\n",
       "    <tr>\n",
       "      <th>433783</th>\n",
       "      <td>0.409047</td>\n",
       "      <td>0.671978</td>\n",
       "      <td>-0.262931</td>\n",
       "    </tr>\n",
       "    <tr>\n",
       "      <th>91477</th>\n",
       "      <td>0.321987</td>\n",
       "      <td>0.559847</td>\n",
       "      <td>-0.237859</td>\n",
       "    </tr>\n",
       "    <tr>\n",
       "      <th>126418</th>\n",
       "      <td>0.339299</td>\n",
       "      <td>0.467182</td>\n",
       "      <td>-0.127883</td>\n",
       "    </tr>\n",
       "    <tr>\n",
       "      <th>35117</th>\n",
       "      <td>0.447913</td>\n",
       "      <td>0.575617</td>\n",
       "      <td>-0.127704</td>\n",
       "    </tr>\n",
       "    <tr>\n",
       "      <th>2262</th>\n",
       "      <td>0.291351</td>\n",
       "      <td>0.410486</td>\n",
       "      <td>-0.119135</td>\n",
       "    </tr>\n",
       "    <tr>\n",
       "      <th>...</th>\n",
       "      <td>...</td>\n",
       "      <td>...</td>\n",
       "      <td>...</td>\n",
       "    </tr>\n",
       "    <tr>\n",
       "      <th>84244</th>\n",
       "      <td>0.606643</td>\n",
       "      <td>0.453331</td>\n",
       "      <td>0.153312</td>\n",
       "    </tr>\n",
       "    <tr>\n",
       "      <th>47133</th>\n",
       "      <td>0.386221</td>\n",
       "      <td>0.185373</td>\n",
       "      <td>0.200848</td>\n",
       "    </tr>\n",
       "    <tr>\n",
       "      <th>182526</th>\n",
       "      <td>0.266695</td>\n",
       "      <td>0.056015</td>\n",
       "      <td>0.210680</td>\n",
       "    </tr>\n",
       "    <tr>\n",
       "      <th>365886</th>\n",
       "      <td>0.524767</td>\n",
       "      <td>0.247758</td>\n",
       "      <td>0.277008</td>\n",
       "    </tr>\n",
       "    <tr>\n",
       "      <th>61715</th>\n",
       "      <td>0.594596</td>\n",
       "      <td>0.309072</td>\n",
       "      <td>0.285523</td>\n",
       "    </tr>\n",
       "  </tbody>\n",
       "</table>\n",
       "<p>2601 rows × 3 columns</p>\n",
       "</div>"
      ],
      "text/plain": [
       "          mcwat0     reti0      gap0\n",
       "433783  0.409047  0.671978 -0.262931\n",
       "91477   0.321987  0.559847 -0.237859\n",
       "126418  0.339299  0.467182 -0.127883\n",
       "35117   0.447913  0.575617 -0.127704\n",
       "2262    0.291351  0.410486 -0.119135\n",
       "...          ...       ...       ...\n",
       "84244   0.606643  0.453331  0.153312\n",
       "47133   0.386221  0.185373  0.200848\n",
       "182526  0.266695  0.056015  0.210680\n",
       "365886  0.524767  0.247758  0.277008\n",
       "61715   0.594596  0.309072  0.285523\n",
       "\n",
       "[2601 rows x 3 columns]"
      ]
     },
     "execution_count": 71,
     "metadata": {},
     "output_type": "execute_result"
    }
   ],
   "source": [
    "df[abs(df['gap0'])>0.01][[f'{A}0', f'{B}0', 'gap0']].sort_values('gap0')"
   ]
  },
  {
   "cell_type": "code",
   "execution_count": 72,
   "id": "e36fa230",
   "metadata": {},
   "outputs": [
    {
     "data": {
      "text/html": [
       "<div>\n",
       "<style scoped>\n",
       "    .dataframe tbody tr th:only-of-type {\n",
       "        vertical-align: middle;\n",
       "    }\n",
       "\n",
       "    .dataframe tbody tr th {\n",
       "        vertical-align: top;\n",
       "    }\n",
       "\n",
       "    .dataframe thead th {\n",
       "        text-align: right;\n",
       "    }\n",
       "</style>\n",
       "<table border=\"1\" class=\"dataframe\">\n",
       "  <thead>\n",
       "    <tr style=\"text-align: right;\">\n",
       "      <th></th>\n",
       "      <th>mcwat+1</th>\n",
       "      <th>reti+1</th>\n",
       "      <th>gap+1</th>\n",
       "    </tr>\n",
       "  </thead>\n",
       "  <tbody>\n",
       "    <tr>\n",
       "      <th>61715</th>\n",
       "      <td>0.127966</td>\n",
       "      <td>0.252517</td>\n",
       "      <td>-0.124551</td>\n",
       "    </tr>\n",
       "    <tr>\n",
       "      <th>362868</th>\n",
       "      <td>0.117850</td>\n",
       "      <td>0.223635</td>\n",
       "      <td>-0.105785</td>\n",
       "    </tr>\n",
       "    <tr>\n",
       "      <th>337372</th>\n",
       "      <td>0.118047</td>\n",
       "      <td>0.221387</td>\n",
       "      <td>-0.103340</td>\n",
       "    </tr>\n",
       "    <tr>\n",
       "      <th>241525</th>\n",
       "      <td>0.279980</td>\n",
       "      <td>0.382212</td>\n",
       "      <td>-0.102233</td>\n",
       "    </tr>\n",
       "    <tr>\n",
       "      <th>340653</th>\n",
       "      <td>0.219399</td>\n",
       "      <td>0.317528</td>\n",
       "      <td>-0.098129</td>\n",
       "    </tr>\n",
       "    <tr>\n",
       "      <th>...</th>\n",
       "      <td>...</td>\n",
       "      <td>...</td>\n",
       "      <td>...</td>\n",
       "    </tr>\n",
       "    <tr>\n",
       "      <th>438910</th>\n",
       "      <td>0.173615</td>\n",
       "      <td>0.130012</td>\n",
       "      <td>0.043604</td>\n",
       "    </tr>\n",
       "    <tr>\n",
       "      <th>447745</th>\n",
       "      <td>0.493311</td>\n",
       "      <td>0.448048</td>\n",
       "      <td>0.045263</td>\n",
       "    </tr>\n",
       "    <tr>\n",
       "      <th>299633</th>\n",
       "      <td>0.431886</td>\n",
       "      <td>0.367173</td>\n",
       "      <td>0.064713</td>\n",
       "    </tr>\n",
       "    <tr>\n",
       "      <th>36752</th>\n",
       "      <td>0.656827</td>\n",
       "      <td>0.585366</td>\n",
       "      <td>0.071461</td>\n",
       "    </tr>\n",
       "    <tr>\n",
       "      <th>126418</th>\n",
       "      <td>0.240599</td>\n",
       "      <td>0.163585</td>\n",
       "      <td>0.077014</td>\n",
       "    </tr>\n",
       "  </tbody>\n",
       "</table>\n",
       "<p>569 rows × 3 columns</p>\n",
       "</div>"
      ],
      "text/plain": [
       "         mcwat+1    reti+1     gap+1\n",
       "61715   0.127966  0.252517 -0.124551\n",
       "362868  0.117850  0.223635 -0.105785\n",
       "337372  0.118047  0.221387 -0.103340\n",
       "241525  0.279980  0.382212 -0.102233\n",
       "340653  0.219399  0.317528 -0.098129\n",
       "...          ...       ...       ...\n",
       "438910  0.173615  0.130012  0.043604\n",
       "447745  0.493311  0.448048  0.045263\n",
       "299633  0.431886  0.367173  0.064713\n",
       "36752   0.656827  0.585366  0.071461\n",
       "126418  0.240599  0.163585  0.077014\n",
       "\n",
       "[569 rows x 3 columns]"
      ]
     },
     "execution_count": 72,
     "metadata": {},
     "output_type": "execute_result"
    }
   ],
   "source": [
    "df[abs(df['gap+1'])>0.01][[f'{A}+1', f'{B}+1', 'gap+1']].sort_values('gap+1')"
   ]
  },
  {
   "cell_type": "markdown",
   "id": "91daac1a",
   "metadata": {},
   "source": [
    "결과 값 차이.\n",
    "\n",
    "대충 평균 0에서 가우시안 분포.\n",
    "말 그대로 결과값 사이의 차이."
   ]
  },
  {
   "cell_type": "markdown",
   "id": "bcd36ccf",
   "metadata": {},
   "source": [
    "## Normalized abs(difference in transmittance) "
   ]
  },
  {
   "cell_type": "code",
   "execution_count": 73,
   "id": "e1ea0306",
   "metadata": {},
   "outputs": [
    {
     "data": {
      "image/png": "[encoded data removed]",
      "text/plain": [
       "<Figure size 1440x360 with 2 Axes>"
      ]
     },
     "metadata": {
      "needs_background": "light"
     },
     "output_type": "display_data"
    }
   ],
   "source": [
    "fig, axes = plt.subplots(1,2, figsize=(20,5))\n",
    "axes[0].axvline(0.01, c='r')\n",
    "axes[1].axvline(0.01, c='r')\n",
    "\n",
    "axes[0].hist([abs(df['gap-1']/df[f'{A}-1']), abs(df['gap0']/df[f'{A}0']), abs(df['gap+1']/df[f'{A}+1'])], bins=np.logspace(np.log10(1E-16), np.log10(20),100))\n",
    "axes[0].set_xscale('log')\n",
    "\n",
    "axes[1].hist([abs(df['gap-1']/df[f'{A}-1']), abs(df['gap0']/df[f'{A}0']), abs(df['gap+1']/df[f'{A}+1'])], bins=np.logspace(np.log10(1E-16), np.log10(20),100))\n",
    "axes[1].set_xscale('log')\n",
    "axes[1].set_yscale('log')\n",
    "\n",
    "plt.show()"
   ]
  },
  {
   "cell_type": "markdown",
   "id": "f8eafbfd",
   "metadata": {},
   "source": [
    "right side of vertical red line: normalized error >= 1 %\n",
    "\n",
    "orange is 0th order"
   ]
  },
  {
   "cell_type": "code",
   "execution_count": 74,
   "id": "eb759049",
   "metadata": {},
   "outputs": [
    {
     "data": {
      "text/html": [
       "<div>\n",
       "<style scoped>\n",
       "    .dataframe tbody tr th:only-of-type {\n",
       "        vertical-align: middle;\n",
       "    }\n",
       "\n",
       "    .dataframe tbody tr th {\n",
       "        vertical-align: top;\n",
       "    }\n",
       "\n",
       "    .dataframe thead th {\n",
       "        text-align: right;\n",
       "    }\n",
       "</style>\n",
       "<table border=\"1\" class=\"dataframe\">\n",
       "  <thead>\n",
       "    <tr style=\"text-align: right;\">\n",
       "      <th></th>\n",
       "      <th>mcwat-1</th>\n",
       "      <th>reti-1</th>\n",
       "      <th>gap-1</th>\n",
       "    </tr>\n",
       "  </thead>\n",
       "  <tbody>\n",
       "    <tr>\n",
       "      <th>241525</th>\n",
       "      <td>0.075502</td>\n",
       "      <td>0.263434</td>\n",
       "      <td>-0.187932</td>\n",
       "    </tr>\n",
       "    <tr>\n",
       "      <th>362868</th>\n",
       "      <td>0.032820</td>\n",
       "      <td>0.157709</td>\n",
       "      <td>-0.124889</td>\n",
       "    </tr>\n",
       "    <tr>\n",
       "      <th>8598</th>\n",
       "      <td>0.194691</td>\n",
       "      <td>0.296532</td>\n",
       "      <td>-0.101841</td>\n",
       "    </tr>\n",
       "    <tr>\n",
       "      <th>94343</th>\n",
       "      <td>0.160148</td>\n",
       "      <td>0.222406</td>\n",
       "      <td>-0.062258</td>\n",
       "    </tr>\n",
       "    <tr>\n",
       "      <th>182526</th>\n",
       "      <td>0.132600</td>\n",
       "      <td>0.193139</td>\n",
       "      <td>-0.060539</td>\n",
       "    </tr>\n",
       "    <tr>\n",
       "      <th>...</th>\n",
       "      <td>...</td>\n",
       "      <td>...</td>\n",
       "      <td>...</td>\n",
       "    </tr>\n",
       "    <tr>\n",
       "      <th>290407</th>\n",
       "      <td>0.091234</td>\n",
       "      <td>0.029890</td>\n",
       "      <td>0.061344</td>\n",
       "    </tr>\n",
       "    <tr>\n",
       "      <th>297665</th>\n",
       "      <td>0.367187</td>\n",
       "      <td>0.299073</td>\n",
       "      <td>0.068114</td>\n",
       "    </tr>\n",
       "    <tr>\n",
       "      <th>371226</th>\n",
       "      <td>0.239978</td>\n",
       "      <td>0.159604</td>\n",
       "      <td>0.080373</td>\n",
       "    </tr>\n",
       "    <tr>\n",
       "      <th>340653</th>\n",
       "      <td>0.391709</td>\n",
       "      <td>0.308912</td>\n",
       "      <td>0.082797</td>\n",
       "    </tr>\n",
       "    <tr>\n",
       "      <th>14545</th>\n",
       "      <td>0.339909</td>\n",
       "      <td>0.171175</td>\n",
       "      <td>0.168734</td>\n",
       "    </tr>\n",
       "  </tbody>\n",
       "</table>\n",
       "<p>48850 rows × 3 columns</p>\n",
       "</div>"
      ],
      "text/plain": [
       "         mcwat-1    reti-1     gap-1\n",
       "241525  0.075502  0.263434 -0.187932\n",
       "362868  0.032820  0.157709 -0.124889\n",
       "8598    0.194691  0.296532 -0.101841\n",
       "94343   0.160148  0.222406 -0.062258\n",
       "182526  0.132600  0.193139 -0.060539\n",
       "...          ...       ...       ...\n",
       "290407  0.091234  0.029890  0.061344\n",
       "297665  0.367187  0.299073  0.068114\n",
       "371226  0.239978  0.159604  0.080373\n",
       "340653  0.391709  0.308912  0.082797\n",
       "14545   0.339909  0.171175  0.168734\n",
       "\n",
       "[48850 rows x 3 columns]"
      ]
     },
     "execution_count": 74,
     "metadata": {},
     "output_type": "execute_result"
    }
   ],
   "source": [
    "df[abs(df['gap-1']/df[f'{A}-1'])>0.01][[f'{A}-1', f'{B}-1', 'gap-1']].sort_values('gap-1')"
   ]
  },
  {
   "cell_type": "code",
   "execution_count": 75,
   "id": "708847ad",
   "metadata": {},
   "outputs": [
    {
     "data": {
      "text/html": [
       "<div>\n",
       "<style scoped>\n",
       "    .dataframe tbody tr th:only-of-type {\n",
       "        vertical-align: middle;\n",
       "    }\n",
       "\n",
       "    .dataframe tbody tr th {\n",
       "        vertical-align: top;\n",
       "    }\n",
       "\n",
       "    .dataframe thead th {\n",
       "        text-align: right;\n",
       "    }\n",
       "</style>\n",
       "<table border=\"1\" class=\"dataframe\">\n",
       "  <thead>\n",
       "    <tr style=\"text-align: right;\">\n",
       "      <th></th>\n",
       "      <th>mcwat0</th>\n",
       "      <th>reti0</th>\n",
       "      <th>gap0</th>\n",
       "    </tr>\n",
       "  </thead>\n",
       "  <tbody>\n",
       "    <tr>\n",
       "      <th>433783</th>\n",
       "      <td>0.409047</td>\n",
       "      <td>0.671978</td>\n",
       "      <td>-0.262931</td>\n",
       "    </tr>\n",
       "    <tr>\n",
       "      <th>91477</th>\n",
       "      <td>0.321987</td>\n",
       "      <td>0.559847</td>\n",
       "      <td>-0.237859</td>\n",
       "    </tr>\n",
       "    <tr>\n",
       "      <th>126418</th>\n",
       "      <td>0.339299</td>\n",
       "      <td>0.467182</td>\n",
       "      <td>-0.127883</td>\n",
       "    </tr>\n",
       "    <tr>\n",
       "      <th>35117</th>\n",
       "      <td>0.447913</td>\n",
       "      <td>0.575617</td>\n",
       "      <td>-0.127704</td>\n",
       "    </tr>\n",
       "    <tr>\n",
       "      <th>2262</th>\n",
       "      <td>0.291351</td>\n",
       "      <td>0.410486</td>\n",
       "      <td>-0.119135</td>\n",
       "    </tr>\n",
       "    <tr>\n",
       "      <th>...</th>\n",
       "      <td>...</td>\n",
       "      <td>...</td>\n",
       "      <td>...</td>\n",
       "    </tr>\n",
       "    <tr>\n",
       "      <th>84244</th>\n",
       "      <td>0.606643</td>\n",
       "      <td>0.453331</td>\n",
       "      <td>0.153312</td>\n",
       "    </tr>\n",
       "    <tr>\n",
       "      <th>47133</th>\n",
       "      <td>0.386221</td>\n",
       "      <td>0.185373</td>\n",
       "      <td>0.200848</td>\n",
       "    </tr>\n",
       "    <tr>\n",
       "      <th>182526</th>\n",
       "      <td>0.266695</td>\n",
       "      <td>0.056015</td>\n",
       "      <td>0.210680</td>\n",
       "    </tr>\n",
       "    <tr>\n",
       "      <th>365886</th>\n",
       "      <td>0.524767</td>\n",
       "      <td>0.247758</td>\n",
       "      <td>0.277008</td>\n",
       "    </tr>\n",
       "    <tr>\n",
       "      <th>61715</th>\n",
       "      <td>0.594596</td>\n",
       "      <td>0.309072</td>\n",
       "      <td>0.285523</td>\n",
       "    </tr>\n",
       "  </tbody>\n",
       "</table>\n",
       "<p>33626 rows × 3 columns</p>\n",
       "</div>"
      ],
      "text/plain": [
       "          mcwat0     reti0      gap0\n",
       "433783  0.409047  0.671978 -0.262931\n",
       "91477   0.321987  0.559847 -0.237859\n",
       "126418  0.339299  0.467182 -0.127883\n",
       "35117   0.447913  0.575617 -0.127704\n",
       "2262    0.291351  0.410486 -0.119135\n",
       "...          ...       ...       ...\n",
       "84244   0.606643  0.453331  0.153312\n",
       "47133   0.386221  0.185373  0.200848\n",
       "182526  0.266695  0.056015  0.210680\n",
       "365886  0.524767  0.247758  0.277008\n",
       "61715   0.594596  0.309072  0.285523\n",
       "\n",
       "[33626 rows x 3 columns]"
      ]
     },
     "execution_count": 75,
     "metadata": {},
     "output_type": "execute_result"
    }
   ],
   "source": [
    "df[abs(df['gap0']/df[f'{A}0'])>0.01][[f'{A}0', f'{B}0', 'gap0']].sort_values('gap0')"
   ]
  },
  {
   "cell_type": "code",
   "execution_count": 76,
   "id": "473d6247",
   "metadata": {},
   "outputs": [
    {
     "data": {
      "text/html": [
       "<div>\n",
       "<style scoped>\n",
       "    .dataframe tbody tr th:only-of-type {\n",
       "        vertical-align: middle;\n",
       "    }\n",
       "\n",
       "    .dataframe tbody tr th {\n",
       "        vertical-align: top;\n",
       "    }\n",
       "\n",
       "    .dataframe thead th {\n",
       "        text-align: right;\n",
       "    }\n",
       "</style>\n",
       "<table border=\"1\" class=\"dataframe\">\n",
       "  <thead>\n",
       "    <tr style=\"text-align: right;\">\n",
       "      <th></th>\n",
       "      <th>mcwat+1</th>\n",
       "      <th>reti+1</th>\n",
       "      <th>gap+1</th>\n",
       "    </tr>\n",
       "  </thead>\n",
       "  <tbody>\n",
       "    <tr>\n",
       "      <th>61715</th>\n",
       "      <td>0.127966</td>\n",
       "      <td>0.252517</td>\n",
       "      <td>-0.124551</td>\n",
       "    </tr>\n",
       "    <tr>\n",
       "      <th>362868</th>\n",
       "      <td>0.117850</td>\n",
       "      <td>0.223635</td>\n",
       "      <td>-0.105785</td>\n",
       "    </tr>\n",
       "    <tr>\n",
       "      <th>337372</th>\n",
       "      <td>0.118047</td>\n",
       "      <td>0.221387</td>\n",
       "      <td>-0.103340</td>\n",
       "    </tr>\n",
       "    <tr>\n",
       "      <th>241525</th>\n",
       "      <td>0.279980</td>\n",
       "      <td>0.382212</td>\n",
       "      <td>-0.102233</td>\n",
       "    </tr>\n",
       "    <tr>\n",
       "      <th>340653</th>\n",
       "      <td>0.219399</td>\n",
       "      <td>0.317528</td>\n",
       "      <td>-0.098129</td>\n",
       "    </tr>\n",
       "    <tr>\n",
       "      <th>...</th>\n",
       "      <td>...</td>\n",
       "      <td>...</td>\n",
       "      <td>...</td>\n",
       "    </tr>\n",
       "    <tr>\n",
       "      <th>438910</th>\n",
       "      <td>0.173615</td>\n",
       "      <td>0.130012</td>\n",
       "      <td>0.043604</td>\n",
       "    </tr>\n",
       "    <tr>\n",
       "      <th>447745</th>\n",
       "      <td>0.493311</td>\n",
       "      <td>0.448048</td>\n",
       "      <td>0.045263</td>\n",
       "    </tr>\n",
       "    <tr>\n",
       "      <th>299633</th>\n",
       "      <td>0.431886</td>\n",
       "      <td>0.367173</td>\n",
       "      <td>0.064713</td>\n",
       "    </tr>\n",
       "    <tr>\n",
       "      <th>36752</th>\n",
       "      <td>0.656827</td>\n",
       "      <td>0.585366</td>\n",
       "      <td>0.071461</td>\n",
       "    </tr>\n",
       "    <tr>\n",
       "      <th>126418</th>\n",
       "      <td>0.240599</td>\n",
       "      <td>0.163585</td>\n",
       "      <td>0.077014</td>\n",
       "    </tr>\n",
       "  </tbody>\n",
       "</table>\n",
       "<p>48435 rows × 3 columns</p>\n",
       "</div>"
      ],
      "text/plain": [
       "         mcwat+1    reti+1     gap+1\n",
       "61715   0.127966  0.252517 -0.124551\n",
       "362868  0.117850  0.223635 -0.105785\n",
       "337372  0.118047  0.221387 -0.103340\n",
       "241525  0.279980  0.382212 -0.102233\n",
       "340653  0.219399  0.317528 -0.098129\n",
       "...          ...       ...       ...\n",
       "438910  0.173615  0.130012  0.043604\n",
       "447745  0.493311  0.448048  0.045263\n",
       "299633  0.431886  0.367173  0.064713\n",
       "36752   0.656827  0.585366  0.071461\n",
       "126418  0.240599  0.163585  0.077014\n",
       "\n",
       "[48435 rows x 3 columns]"
      ]
     },
     "execution_count": 76,
     "metadata": {},
     "output_type": "execute_result"
    }
   ],
   "source": [
    "df[abs(df['gap+1']/df[f'{A}+1'])>0.01][[f'{A}+1', f'{B}+1', 'gap+1']].sort_values('gap+1')"
   ]
  },
  {
   "cell_type": "markdown",
   "id": "648d88ee",
   "metadata": {},
   "source": [
    "# benchmark - simulation time"
   ]
  },
  {
   "cell_type": "markdown",
   "id": "cede83a9",
   "metadata": {},
   "source": [
    "## run time by time.time()"
   ]
  },
  {
   "cell_type": "code",
   "execution_count": 77,
   "id": "25a72d12",
   "metadata": {},
   "outputs": [
    {
     "data": {
      "image/png": "[encoded data removed]",
      "text/plain": [
       "<Figure size 1440x360 with 2 Axes>"
      ]
     },
     "metadata": {
      "needs_background": "light"
     },
     "output_type": "display_data"
    }
   ],
   "source": [
    "fig, axes = plt.subplots(1,2, figsize=(20,5))\n",
    "axes[0].hist([df[f't_{A}'],df[f't_{B}']], bins=100)\n",
    "axes[1].hist([df[f't_{A}'],df[f't_{B}']], bins=100, log=True)\n",
    "plt.show()"
   ]
  },
  {
   "cell_type": "markdown",
   "id": "7fa5d789",
   "metadata": {},
   "source": [
    "Blue is  meent with TMM, Oragne is meent with reticolo"
   ]
  },
  {
   "cell_type": "markdown",
   "id": "3a2ab4cf",
   "metadata": {},
   "source": [
    "## reticolo time / meent time"
   ]
  },
  {
   "cell_type": "code",
   "execution_count": 78,
   "id": "11ea8ef4",
   "metadata": {},
   "outputs": [
    {
     "data": {
      "image/png": "[encoded data removed]",
      "text/plain": [
       "<Figure size 1440x360 with 2 Axes>"
      ]
     },
     "metadata": {
      "needs_background": "light"
     },
     "output_type": "display_data"
    }
   ],
   "source": [
    "fig, axes = plt.subplots(1,2, figsize=(20,5))\n",
    "axes[0].axvline(1, c='r')\n",
    "axes[1].axvline(1, c='r')\n",
    "axes[0].hist((df[f't_{B}'])/df[f't_{A}'], bins=100)\n",
    "axes[1].hist((df[f't_{B}'])/df[f't_{A}'], bins=100)\n",
    "axes[1].set_yscale('log')\n",
    "plt.show()"
   ]
  },
  {
   "cell_type": "code",
   "execution_count": 79,
   "id": "92fd0482",
   "metadata": {},
   "outputs": [
    {
     "data": {
      "text/html": [
       "<div>\n",
       "<style scoped>\n",
       "    .dataframe tbody tr th:only-of-type {\n",
       "        vertical-align: middle;\n",
       "    }\n",
       "\n",
       "    .dataframe tbody tr th {\n",
       "        vertical-align: top;\n",
       "    }\n",
       "\n",
       "    .dataframe thead th {\n",
       "        text-align: right;\n",
       "    }\n",
       "</style>\n",
       "<table border=\"1\" class=\"dataframe\">\n",
       "  <thead>\n",
       "    <tr style=\"text-align: right;\">\n",
       "      <th></th>\n",
       "      <th>count</th>\n",
       "      <th>mean</th>\n",
       "      <th>std</th>\n",
       "      <th>min</th>\n",
       "      <th>25%</th>\n",
       "      <th>50%</th>\n",
       "      <th>75%</th>\n",
       "      <th>max</th>\n",
       "    </tr>\n",
       "  </thead>\n",
       "  <tbody>\n",
       "    <tr>\n",
       "      <th>0</th>\n",
       "      <td>481647.0</td>\n",
       "      <td>4.362871</td>\n",
       "      <td>1.192919</td>\n",
       "      <td>1.575415</td>\n",
       "      <td>3.386782</td>\n",
       "      <td>4.164775</td>\n",
       "      <td>5.081397</td>\n",
       "      <td>19.231572</td>\n",
       "    </tr>\n",
       "  </tbody>\n",
       "</table>\n",
       "</div>"
      ],
      "text/plain": [
       "      count      mean       std       min       25%       50%       75%  \\\n",
       "0  481647.0  4.362871  1.192919  1.575415  3.386782  4.164775  5.081397   \n",
       "\n",
       "         max  \n",
       "0  19.231572  "
      ]
     },
     "execution_count": 79,
     "metadata": {},
     "output_type": "execute_result"
    }
   ],
   "source": [
    "pd.DataFrame((df[f't_{B}']/df[f't_{A}']).describe()).T"
   ]
  },
  {
   "cell_type": "markdown",
   "id": "e99f3aca",
   "metadata": {},
   "source": [
    "meent-TMM is faster 4.2 times than reticolo.\n",
    "\n",
    "right side of red line: TMM is faster\n"
   ]
  },
  {
   "cell_type": "markdown",
   "id": "6bb674a5",
   "metadata": {},
   "source": [
    "## time.process_time()"
   ]
  },
  {
   "cell_type": "code",
   "execution_count": 80,
   "id": "eaf44ce0",
   "metadata": {
    "scrolled": true
   },
   "outputs": [
    {
     "data": {
      "image/png": "[encoded data removed]",
      "text/plain": [
       "<Figure size 1440x360 with 2 Axes>"
      ]
     },
     "metadata": {
      "needs_background": "light"
     },
     "output_type": "display_data"
    }
   ],
   "source": [
    "fig, axes = plt.subplots(1,2, figsize=(20,5))\n",
    "axes[0].hist([df[f'tpr_{A}'],df[f'tpr_{B}']], bins=100)\n",
    "axes[1].hist([df[f'tpr_{A}'],df[f'tpr_{B}']], bins=100, log=True)\n",
    "plt.show()"
   ]
  },
  {
   "cell_type": "code",
   "execution_count": 81,
   "id": "78e0d498",
   "metadata": {
    "scrolled": true
   },
   "outputs": [
    {
     "data": {
      "image/png": "[encoded data removed]",
      "text/plain": [
       "<Figure size 1440x360 with 2 Axes>"
      ]
     },
     "metadata": {
      "needs_background": "light"
     },
     "output_type": "display_data"
    }
   ],
   "source": [
    "fig, axes = plt.subplots(1,2, figsize=(20,5))\n",
    "axes[0].axvline(1, c='r')\n",
    "axes[1].axvline(1, c='r')\n",
    "axes[0].hist((df[f'tpr_{B}'])/df[f'tpr_{A}'], bins=100)\n",
    "axes[1].hist((df[f'tpr_{B}'])/df[f'tpr_{A}'], bins=100)\n",
    "axes[1].set_yscale('log')\n",
    "plt.show()"
   ]
  },
  {
   "cell_type": "code",
   "execution_count": 82,
   "id": "4d06b75f",
   "metadata": {},
   "outputs": [
    {
     "data": {
      "text/html": [
       "<div>\n",
       "<style scoped>\n",
       "    .dataframe tbody tr th:only-of-type {\n",
       "        vertical-align: middle;\n",
       "    }\n",
       "\n",
       "    .dataframe tbody tr th {\n",
       "        vertical-align: top;\n",
       "    }\n",
       "\n",
       "    .dataframe thead th {\n",
       "        text-align: right;\n",
       "    }\n",
       "</style>\n",
       "<table border=\"1\" class=\"dataframe\">\n",
       "  <thead>\n",
       "    <tr style=\"text-align: right;\">\n",
       "      <th></th>\n",
       "      <th>count</th>\n",
       "      <th>mean</th>\n",
       "      <th>std</th>\n",
       "      <th>min</th>\n",
       "      <th>25%</th>\n",
       "      <th>50%</th>\n",
       "      <th>75%</th>\n",
       "      <th>max</th>\n",
       "    </tr>\n",
       "  </thead>\n",
       "  <tbody>\n",
       "    <tr>\n",
       "      <th>0</th>\n",
       "      <td>481647.0</td>\n",
       "      <td>1.981645</td>\n",
       "      <td>1.047852</td>\n",
       "      <td>0.003806</td>\n",
       "      <td>1.236863</td>\n",
       "      <td>2.210744</td>\n",
       "      <td>2.823286</td>\n",
       "      <td>4.501983</td>\n",
       "    </tr>\n",
       "  </tbody>\n",
       "</table>\n",
       "</div>"
      ],
      "text/plain": [
       "      count      mean       std       min       25%       50%       75%  \\\n",
       "0  481647.0  1.981645  1.047852  0.003806  1.236863  2.210744  2.823286   \n",
       "\n",
       "        max  \n",
       "0  4.501983  "
      ]
     },
     "execution_count": 82,
     "metadata": {},
     "output_type": "execute_result"
    }
   ],
   "source": [
    "pd.DataFrame((df[f'tpr_{B}']/df[f'tpr_{A}']).describe()).T"
   ]
  },
  {
   "cell_type": "markdown",
   "id": "3e5f99e0",
   "metadata": {},
   "source": [
    "Hard to tell..."
   ]
  }
 ],
 "metadata": {
  "kernelspec": {
   "display_name": "Python 3 (ipykernel)",
   "language": "python",
   "name": "python3"
  },
  "language_info": {
   "codemirror_mode": {
    "name": "ipython",
    "version": 3
   },
   "file_extension": ".py",
   "mimetype": "text/x-python",
   "name": "python",
   "nbconvert_exporter": "python",
   "pygments_lexer": "ipython3",
   "version": "3.9.12"
  }
 },
 "nbformat": 4,
 "nbformat_minor": 5
}
