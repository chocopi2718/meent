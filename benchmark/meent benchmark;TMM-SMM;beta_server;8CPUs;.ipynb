{
 "cells": [
  {
   "cell_type": "code",
   "execution_count": 55,
   "id": "be4dd126",
   "metadata": {},
   "outputs": [],
   "source": [
    "import pandas as pd\n",
    "import numpy as np\n",
    "import matplotlib.pyplot as plt"
   ]
  },
  {
   "cell_type": "code",
   "execution_count": 56,
   "id": "34950455",
   "metadata": {},
   "outputs": [],
   "source": [
    "import matplotlib.pylab as pylab\n",
    "params = {'legend.fontsize': 'x-large',\n",
    "          'figure.figsize': (15, 5),\n",
    "         'axes.labelsize': 'xx-large',\n",
    "         'axes.titlesize':'xx-large',\n",
    "         'xtick.labelsize':'xx-large',\n",
    "         'ytick.labelsize':'xx-large'}\n",
    "pylab.rcParams.update(params)"
   ]
  },
  {
   "cell_type": "code",
   "execution_count": 57,
   "id": "e0eaf6c4",
   "metadata": {},
   "outputs": [],
   "source": [
    "# 8 CPUs\n",
    "file = '/home/yongha/mcwa/1DFreeFormDQN/experiments/DQN/2022_09_16_14_07_55/wl900.0_angle60.0_ncells64/comp_table.csv'\n",
    "df = pd.read_csv(file)\n",
    "df.drop('Unnamed: 0', axis=1, inplace=True)"
   ]
  },
  {
   "cell_type": "markdown",
   "id": "c4d58ad7",
   "metadata": {},
   "source": [
    "# TMM to SMM"
   ]
  },
  {
   "cell_type": "code",
   "execution_count": 58,
   "id": "ac352e88",
   "metadata": {},
   "outputs": [],
   "source": [
    "df['gap-1'] = df['mcwat-1'] - df['mcwas-1']\n",
    "df['gap0'] = df.mcwat0 - df.mcwas0\n",
    "df['gap+1'] = df['mcwat+1'] - df['mcwas+1']\n",
    "df['t_gap'] = df.t_mcwat - df.t_mcwas\n",
    "df['tpr_gap'] = df.tpr_mcwat - df.tpr_mcwas"
   ]
  },
  {
   "cell_type": "markdown",
   "id": "7254e794",
   "metadata": {},
   "source": [
    "# Benchmark"
   ]
  },
  {
   "cell_type": "markdown",
   "id": "5f188f36",
   "metadata": {},
   "source": [
    "## abs(difference in transmittance)"
   ]
  },
  {
   "cell_type": "code",
   "execution_count": 59,
   "id": "18ba2600",
   "metadata": {},
   "outputs": [
    {
     "data": {
      "image/png": "[encoded data removed]",
      "text/plain": [
       "<Figure size 1440x360 with 2 Axes>"
      ]
     },
     "metadata": {
      "needs_background": "light"
     },
     "output_type": "display_data"
    }
   ],
   "source": [
    "fig, axes = plt.subplots(1,2, figsize=(20,5))\n",
    "axes[0].hist([df['gap-1'], df['gap0'], df['gap+1']], bins=100)\n",
    "axes[1].hist([df['gap-1'], df['gap0'], df['gap+1']], bins=100)\n",
    "axes[1].set_yscale('log')\n",
    "plt.show()"
   ]
  },
  {
   "cell_type": "markdown",
   "id": "a0888476",
   "metadata": {},
   "source": [
    "## Normalized abs(difference in transmittance) "
   ]
  },
  {
   "cell_type": "code",
   "execution_count": 60,
   "id": "e1ea0306",
   "metadata": {},
   "outputs": [
    {
     "data": {
      "image/png": "[encoded data removed]",
      "text/plain": [
       "<Figure size 1440x360 with 2 Axes>"
      ]
     },
     "metadata": {
      "needs_background": "light"
     },
     "output_type": "display_data"
    }
   ],
   "source": [
    "fig, axes = plt.subplots(1,2, figsize=(20,5))\n",
    "axes[0].axvline(0.001, c='r')\n",
    "axes[1].axvline(0.001, c='r')\n",
    "\n",
    "axes[0].hist([abs(df['gap-1']/df['mcwat-1']), abs(df['gap0']/df['mcwat0']), abs(df['gap+1']/df['mcwat+1'])], bins=np.logspace(np.log10(1E-20), np.log10(20),100))\n",
    "axes[0].set_xscale('log')\n",
    "\n",
    "axes[1].hist([abs(df['gap-1']/df['mcwat-1']), abs(df['gap0']/df['mcwat0']), abs(df['gap+1']/df['mcwat+1'])], bins=np.logspace(np.log10(1E-20), np.log10(20),100))\n",
    "axes[1].set_xscale('log')\n",
    "axes[1].set_yscale('log')\n",
    "\n",
    "plt.show()"
   ]
  },
  {
   "cell_type": "markdown",
   "id": "f8eafbfd",
   "metadata": {},
   "source": [
    "right side of vertical red line: normalized error >= 0.1 %\n",
    "\n",
    "orange is 0th order"
   ]
  },
  {
   "cell_type": "code",
   "execution_count": 61,
   "id": "eb759049",
   "metadata": {},
   "outputs": [
    {
     "data": {
      "text/html": [
       "<div>\n",
       "<style scoped>\n",
       "    .dataframe tbody tr th:only-of-type {\n",
       "        vertical-align: middle;\n",
       "    }\n",
       "\n",
       "    .dataframe tbody tr th {\n",
       "        vertical-align: top;\n",
       "    }\n",
       "\n",
       "    .dataframe thead th {\n",
       "        text-align: right;\n",
       "    }\n",
       "</style>\n",
       "<table border=\"1\" class=\"dataframe\">\n",
       "  <thead>\n",
       "    <tr style=\"text-align: right;\">\n",
       "      <th></th>\n",
       "      <th>mcwat-1</th>\n",
       "      <th>mcwas-1</th>\n",
       "      <th>gap-1</th>\n",
       "    </tr>\n",
       "  </thead>\n",
       "  <tbody>\n",
       "    <tr>\n",
       "      <th>1868</th>\n",
       "      <td>4.961964e-31</td>\n",
       "      <td>1.077038e-30</td>\n",
       "      <td>-5.808420e-31</td>\n",
       "    </tr>\n",
       "    <tr>\n",
       "      <th>6212</th>\n",
       "      <td>6.141080e-30</td>\n",
       "      <td>9.862220e-32</td>\n",
       "      <td>6.042457e-30</td>\n",
       "    </tr>\n",
       "    <tr>\n",
       "      <th>7958</th>\n",
       "      <td>2.302872e-31</td>\n",
       "      <td>2.758670e-30</td>\n",
       "      <td>-2.528382e-30</td>\n",
       "    </tr>\n",
       "    <tr>\n",
       "      <th>8453</th>\n",
       "      <td>1.745009e-30</td>\n",
       "      <td>4.306614e-31</td>\n",
       "      <td>1.314348e-30</td>\n",
       "    </tr>\n",
       "    <tr>\n",
       "      <th>15278</th>\n",
       "      <td>7.705386e-31</td>\n",
       "      <td>4.758377e-31</td>\n",
       "      <td>2.947010e-31</td>\n",
       "    </tr>\n",
       "    <tr>\n",
       "      <th>31535</th>\n",
       "      <td>1.301857e-30</td>\n",
       "      <td>5.706280e-31</td>\n",
       "      <td>7.312289e-31</td>\n",
       "    </tr>\n",
       "    <tr>\n",
       "      <th>48232</th>\n",
       "      <td>2.593114e-30</td>\n",
       "      <td>2.206789e-31</td>\n",
       "      <td>2.372435e-30</td>\n",
       "    </tr>\n",
       "    <tr>\n",
       "      <th>54531</th>\n",
       "      <td>2.302872e-31</td>\n",
       "      <td>2.758670e-30</td>\n",
       "      <td>-2.528382e-30</td>\n",
       "    </tr>\n",
       "    <tr>\n",
       "      <th>58869</th>\n",
       "      <td>1.958375e-31</td>\n",
       "      <td>9.283327e-31</td>\n",
       "      <td>-7.324952e-31</td>\n",
       "    </tr>\n",
       "    <tr>\n",
       "      <th>60851</th>\n",
       "      <td>1.491581e-30</td>\n",
       "      <td>1.730252e-30</td>\n",
       "      <td>-2.386711e-31</td>\n",
       "    </tr>\n",
       "    <tr>\n",
       "      <th>74521</th>\n",
       "      <td>3.196301e-31</td>\n",
       "      <td>7.786527e-31</td>\n",
       "      <td>-4.590226e-31</td>\n",
       "    </tr>\n",
       "    <tr>\n",
       "      <th>79807</th>\n",
       "      <td>4.203941e-31</td>\n",
       "      <td>1.173520e-30</td>\n",
       "      <td>-7.531262e-31</td>\n",
       "    </tr>\n",
       "    <tr>\n",
       "      <th>83007</th>\n",
       "      <td>4.203941e-31</td>\n",
       "      <td>1.173520e-30</td>\n",
       "      <td>-7.531262e-31</td>\n",
       "    </tr>\n",
       "    <tr>\n",
       "      <th>86937</th>\n",
       "      <td>1.955989e-31</td>\n",
       "      <td>2.637040e-31</td>\n",
       "      <td>-6.810507e-32</td>\n",
       "    </tr>\n",
       "    <tr>\n",
       "      <th>94327</th>\n",
       "      <td>3.196301e-31</td>\n",
       "      <td>7.786527e-31</td>\n",
       "      <td>-4.590226e-31</td>\n",
       "    </tr>\n",
       "    <tr>\n",
       "      <th>115727</th>\n",
       "      <td>1.491581e-30</td>\n",
       "      <td>1.730252e-30</td>\n",
       "      <td>-2.386711e-31</td>\n",
       "    </tr>\n",
       "    <tr>\n",
       "      <th>142465</th>\n",
       "      <td>1.899759e-30</td>\n",
       "      <td>9.818008e-31</td>\n",
       "      <td>9.179585e-31</td>\n",
       "    </tr>\n",
       "    <tr>\n",
       "      <th>157244</th>\n",
       "      <td>4.961964e-31</td>\n",
       "      <td>1.077038e-30</td>\n",
       "      <td>-5.808420e-31</td>\n",
       "    </tr>\n",
       "    <tr>\n",
       "      <th>164627</th>\n",
       "      <td>1.958375e-31</td>\n",
       "      <td>9.283327e-31</td>\n",
       "      <td>-7.324952e-31</td>\n",
       "    </tr>\n",
       "    <tr>\n",
       "      <th>166684</th>\n",
       "      <td>1.054626e-30</td>\n",
       "      <td>8.723291e-31</td>\n",
       "      <td>1.822973e-31</td>\n",
       "    </tr>\n",
       "    <tr>\n",
       "      <th>213230</th>\n",
       "      <td>2.300345e-30</td>\n",
       "      <td>2.243589e-30</td>\n",
       "      <td>5.675609e-32</td>\n",
       "    </tr>\n",
       "    <tr>\n",
       "      <th>238038</th>\n",
       "      <td>9.378739e-30</td>\n",
       "      <td>9.061853e-31</td>\n",
       "      <td>8.472554e-30</td>\n",
       "    </tr>\n",
       "    <tr>\n",
       "      <th>248417</th>\n",
       "      <td>1.301857e-30</td>\n",
       "      <td>5.706280e-31</td>\n",
       "      <td>7.312289e-31</td>\n",
       "    </tr>\n",
       "    <tr>\n",
       "      <th>329858</th>\n",
       "      <td>2.373935e-30</td>\n",
       "      <td>2.869381e-29</td>\n",
       "      <td>-2.631987e-29</td>\n",
       "    </tr>\n",
       "    <tr>\n",
       "      <th>377892</th>\n",
       "      <td>5.960797e-30</td>\n",
       "      <td>7.699900e-31</td>\n",
       "      <td>5.190807e-30</td>\n",
       "    </tr>\n",
       "    <tr>\n",
       "      <th>419123</th>\n",
       "      <td>4.475153e-30</td>\n",
       "      <td>3.594513e-30</td>\n",
       "      <td>8.806396e-31</td>\n",
       "    </tr>\n",
       "    <tr>\n",
       "      <th>452289</th>\n",
       "      <td>2.593114e-30</td>\n",
       "      <td>2.206789e-31</td>\n",
       "      <td>2.372435e-30</td>\n",
       "    </tr>\n",
       "  </tbody>\n",
       "</table>\n",
       "</div>"
      ],
      "text/plain": [
       "             mcwat-1       mcwas-1         gap-1\n",
       "1868    4.961964e-31  1.077038e-30 -5.808420e-31\n",
       "6212    6.141080e-30  9.862220e-32  6.042457e-30\n",
       "7958    2.302872e-31  2.758670e-30 -2.528382e-30\n",
       "8453    1.745009e-30  4.306614e-31  1.314348e-30\n",
       "15278   7.705386e-31  4.758377e-31  2.947010e-31\n",
       "31535   1.301857e-30  5.706280e-31  7.312289e-31\n",
       "48232   2.593114e-30  2.206789e-31  2.372435e-30\n",
       "54531   2.302872e-31  2.758670e-30 -2.528382e-30\n",
       "58869   1.958375e-31  9.283327e-31 -7.324952e-31\n",
       "60851   1.491581e-30  1.730252e-30 -2.386711e-31\n",
       "74521   3.196301e-31  7.786527e-31 -4.590226e-31\n",
       "79807   4.203941e-31  1.173520e-30 -7.531262e-31\n",
       "83007   4.203941e-31  1.173520e-30 -7.531262e-31\n",
       "86937   1.955989e-31  2.637040e-31 -6.810507e-32\n",
       "94327   3.196301e-31  7.786527e-31 -4.590226e-31\n",
       "115727  1.491581e-30  1.730252e-30 -2.386711e-31\n",
       "142465  1.899759e-30  9.818008e-31  9.179585e-31\n",
       "157244  4.961964e-31  1.077038e-30 -5.808420e-31\n",
       "164627  1.958375e-31  9.283327e-31 -7.324952e-31\n",
       "166684  1.054626e-30  8.723291e-31  1.822973e-31\n",
       "213230  2.300345e-30  2.243589e-30  5.675609e-32\n",
       "238038  9.378739e-30  9.061853e-31  8.472554e-30\n",
       "248417  1.301857e-30  5.706280e-31  7.312289e-31\n",
       "329858  2.373935e-30  2.869381e-29 -2.631987e-29\n",
       "377892  5.960797e-30  7.699900e-31  5.190807e-30\n",
       "419123  4.475153e-30  3.594513e-30  8.806396e-31\n",
       "452289  2.593114e-30  2.206789e-31  2.372435e-30"
      ]
     },
     "execution_count": 61,
     "metadata": {},
     "output_type": "execute_result"
    }
   ],
   "source": [
    "df[abs(df['gap-1']/df['mcwat-1'])>0.001][['mcwat-1', 'mcwas-1', 'gap-1']]"
   ]
  },
  {
   "cell_type": "code",
   "execution_count": 62,
   "id": "8ddd267e",
   "metadata": {},
   "outputs": [
    {
     "data": {
      "text/html": [
       "<div>\n",
       "<style scoped>\n",
       "    .dataframe tbody tr th:only-of-type {\n",
       "        vertical-align: middle;\n",
       "    }\n",
       "\n",
       "    .dataframe tbody tr th {\n",
       "        vertical-align: top;\n",
       "    }\n",
       "\n",
       "    .dataframe thead th {\n",
       "        text-align: right;\n",
       "    }\n",
       "</style>\n",
       "<table border=\"1\" class=\"dataframe\">\n",
       "  <thead>\n",
       "    <tr style=\"text-align: right;\">\n",
       "      <th></th>\n",
       "      <th>mcwat0</th>\n",
       "      <th>mcwas0</th>\n",
       "      <th>gap0</th>\n",
       "    </tr>\n",
       "  </thead>\n",
       "  <tbody>\n",
       "  </tbody>\n",
       "</table>\n",
       "</div>"
      ],
      "text/plain": [
       "Empty DataFrame\n",
       "Columns: [mcwat0, mcwas0, gap0]\n",
       "Index: []"
      ]
     },
     "execution_count": 62,
     "metadata": {},
     "output_type": "execute_result"
    }
   ],
   "source": [
    "df[abs(df['gap0']/df['mcwat0'])>0.001][['mcwat0', 'mcwas0', 'gap0']]"
   ]
  },
  {
   "cell_type": "code",
   "execution_count": 63,
   "id": "5df711be",
   "metadata": {},
   "outputs": [
    {
     "data": {
      "text/html": [
       "<div>\n",
       "<style scoped>\n",
       "    .dataframe tbody tr th:only-of-type {\n",
       "        vertical-align: middle;\n",
       "    }\n",
       "\n",
       "    .dataframe tbody tr th {\n",
       "        vertical-align: top;\n",
       "    }\n",
       "\n",
       "    .dataframe thead th {\n",
       "        text-align: right;\n",
       "    }\n",
       "</style>\n",
       "<table border=\"1\" class=\"dataframe\">\n",
       "  <thead>\n",
       "    <tr style=\"text-align: right;\">\n",
       "      <th></th>\n",
       "      <th>mcwat+1</th>\n",
       "      <th>mcwas+1</th>\n",
       "      <th>gap+1</th>\n",
       "    </tr>\n",
       "  </thead>\n",
       "  <tbody>\n",
       "    <tr>\n",
       "      <th>1868</th>\n",
       "      <td>1.700904e-31</td>\n",
       "      <td>4.174720e-31</td>\n",
       "      <td>-2.473816e-31</td>\n",
       "    </tr>\n",
       "    <tr>\n",
       "      <th>6212</th>\n",
       "      <td>6.682170e-30</td>\n",
       "      <td>2.357533e-32</td>\n",
       "      <td>6.658594e-30</td>\n",
       "    </tr>\n",
       "    <tr>\n",
       "      <th>7958</th>\n",
       "      <td>5.313359e-31</td>\n",
       "      <td>2.776086e-30</td>\n",
       "      <td>-2.244750e-30</td>\n",
       "    </tr>\n",
       "    <tr>\n",
       "      <th>8453</th>\n",
       "      <td>1.584302e-30</td>\n",
       "      <td>2.986411e-31</td>\n",
       "      <td>1.285661e-30</td>\n",
       "    </tr>\n",
       "    <tr>\n",
       "      <th>15278</th>\n",
       "      <td>6.526745e-31</td>\n",
       "      <td>8.500116e-32</td>\n",
       "      <td>5.676734e-31</td>\n",
       "    </tr>\n",
       "    <tr>\n",
       "      <th>31535</th>\n",
       "      <td>9.806826e-31</td>\n",
       "      <td>4.223764e-31</td>\n",
       "      <td>5.583062e-31</td>\n",
       "    </tr>\n",
       "    <tr>\n",
       "      <th>48232</th>\n",
       "      <td>5.582731e-31</td>\n",
       "      <td>3.335962e-32</td>\n",
       "      <td>5.249135e-31</td>\n",
       "    </tr>\n",
       "    <tr>\n",
       "      <th>54531</th>\n",
       "      <td>5.313359e-31</td>\n",
       "      <td>2.776086e-30</td>\n",
       "      <td>-2.244750e-30</td>\n",
       "    </tr>\n",
       "    <tr>\n",
       "      <th>58869</th>\n",
       "      <td>1.051158e-30</td>\n",
       "      <td>5.297572e-31</td>\n",
       "      <td>5.214007e-31</td>\n",
       "    </tr>\n",
       "    <tr>\n",
       "      <th>60851</th>\n",
       "      <td>1.740438e-30</td>\n",
       "      <td>1.157433e-30</td>\n",
       "      <td>5.830052e-31</td>\n",
       "    </tr>\n",
       "    <tr>\n",
       "      <th>74521</th>\n",
       "      <td>4.442361e-32</td>\n",
       "      <td>3.928026e-31</td>\n",
       "      <td>-3.483790e-31</td>\n",
       "    </tr>\n",
       "    <tr>\n",
       "      <th>79807</th>\n",
       "      <td>5.531235e-31</td>\n",
       "      <td>8.059506e-31</td>\n",
       "      <td>-2.528271e-31</td>\n",
       "    </tr>\n",
       "    <tr>\n",
       "      <th>83007</th>\n",
       "      <td>5.531235e-31</td>\n",
       "      <td>8.059506e-31</td>\n",
       "      <td>-2.528271e-31</td>\n",
       "    </tr>\n",
       "    <tr>\n",
       "      <th>86937</th>\n",
       "      <td>4.231023e-31</td>\n",
       "      <td>1.867103e-31</td>\n",
       "      <td>2.363920e-31</td>\n",
       "    </tr>\n",
       "    <tr>\n",
       "      <th>94327</th>\n",
       "      <td>4.442361e-32</td>\n",
       "      <td>3.928026e-31</td>\n",
       "      <td>-3.483790e-31</td>\n",
       "    </tr>\n",
       "    <tr>\n",
       "      <th>115727</th>\n",
       "      <td>1.740438e-30</td>\n",
       "      <td>1.157433e-30</td>\n",
       "      <td>5.830052e-31</td>\n",
       "    </tr>\n",
       "    <tr>\n",
       "      <th>142465</th>\n",
       "      <td>1.901181e-30</td>\n",
       "      <td>1.256133e-30</td>\n",
       "      <td>6.450478e-31</td>\n",
       "    </tr>\n",
       "    <tr>\n",
       "      <th>157244</th>\n",
       "      <td>1.700904e-31</td>\n",
       "      <td>4.174720e-31</td>\n",
       "      <td>-2.473816e-31</td>\n",
       "    </tr>\n",
       "    <tr>\n",
       "      <th>164627</th>\n",
       "      <td>1.051158e-30</td>\n",
       "      <td>5.297572e-31</td>\n",
       "      <td>5.214007e-31</td>\n",
       "    </tr>\n",
       "    <tr>\n",
       "      <th>166684</th>\n",
       "      <td>1.458433e-30</td>\n",
       "      <td>5.728963e-31</td>\n",
       "      <td>8.855366e-31</td>\n",
       "    </tr>\n",
       "    <tr>\n",
       "      <th>213230</th>\n",
       "      <td>1.071285e-30</td>\n",
       "      <td>1.639090e-30</td>\n",
       "      <td>-5.678050e-31</td>\n",
       "    </tr>\n",
       "    <tr>\n",
       "      <th>238038</th>\n",
       "      <td>8.517369e-30</td>\n",
       "      <td>2.656676e-29</td>\n",
       "      <td>-1.804939e-29</td>\n",
       "    </tr>\n",
       "    <tr>\n",
       "      <th>248417</th>\n",
       "      <td>9.806826e-31</td>\n",
       "      <td>4.223764e-31</td>\n",
       "      <td>5.583062e-31</td>\n",
       "    </tr>\n",
       "    <tr>\n",
       "      <th>329858</th>\n",
       "      <td>3.283359e-30</td>\n",
       "      <td>4.757259e-29</td>\n",
       "      <td>-4.428923e-29</td>\n",
       "    </tr>\n",
       "    <tr>\n",
       "      <th>377892</th>\n",
       "      <td>7.327101e-30</td>\n",
       "      <td>8.525944e-31</td>\n",
       "      <td>6.474506e-30</td>\n",
       "    </tr>\n",
       "    <tr>\n",
       "      <th>419123</th>\n",
       "      <td>1.276023e-29</td>\n",
       "      <td>1.254993e-30</td>\n",
       "      <td>1.150523e-29</td>\n",
       "    </tr>\n",
       "    <tr>\n",
       "      <th>452289</th>\n",
       "      <td>5.582731e-31</td>\n",
       "      <td>3.335962e-32</td>\n",
       "      <td>5.249135e-31</td>\n",
       "    </tr>\n",
       "  </tbody>\n",
       "</table>\n",
       "</div>"
      ],
      "text/plain": [
       "             mcwat+1       mcwas+1         gap+1\n",
       "1868    1.700904e-31  4.174720e-31 -2.473816e-31\n",
       "6212    6.682170e-30  2.357533e-32  6.658594e-30\n",
       "7958    5.313359e-31  2.776086e-30 -2.244750e-30\n",
       "8453    1.584302e-30  2.986411e-31  1.285661e-30\n",
       "15278   6.526745e-31  8.500116e-32  5.676734e-31\n",
       "31535   9.806826e-31  4.223764e-31  5.583062e-31\n",
       "48232   5.582731e-31  3.335962e-32  5.249135e-31\n",
       "54531   5.313359e-31  2.776086e-30 -2.244750e-30\n",
       "58869   1.051158e-30  5.297572e-31  5.214007e-31\n",
       "60851   1.740438e-30  1.157433e-30  5.830052e-31\n",
       "74521   4.442361e-32  3.928026e-31 -3.483790e-31\n",
       "79807   5.531235e-31  8.059506e-31 -2.528271e-31\n",
       "83007   5.531235e-31  8.059506e-31 -2.528271e-31\n",
       "86937   4.231023e-31  1.867103e-31  2.363920e-31\n",
       "94327   4.442361e-32  3.928026e-31 -3.483790e-31\n",
       "115727  1.740438e-30  1.157433e-30  5.830052e-31\n",
       "142465  1.901181e-30  1.256133e-30  6.450478e-31\n",
       "157244  1.700904e-31  4.174720e-31 -2.473816e-31\n",
       "164627  1.051158e-30  5.297572e-31  5.214007e-31\n",
       "166684  1.458433e-30  5.728963e-31  8.855366e-31\n",
       "213230  1.071285e-30  1.639090e-30 -5.678050e-31\n",
       "238038  8.517369e-30  2.656676e-29 -1.804939e-29\n",
       "248417  9.806826e-31  4.223764e-31  5.583062e-31\n",
       "329858  3.283359e-30  4.757259e-29 -4.428923e-29\n",
       "377892  7.327101e-30  8.525944e-31  6.474506e-30\n",
       "419123  1.276023e-29  1.254993e-30  1.150523e-29\n",
       "452289  5.582731e-31  3.335962e-32  5.249135e-31"
      ]
     },
     "execution_count": 63,
     "metadata": {},
     "output_type": "execute_result"
    }
   ],
   "source": [
    "df[abs(df['gap+1']/df['mcwat+1'])>0.001][['mcwat+1', 'mcwas+1', 'gap+1']]"
   ]
  },
  {
   "cell_type": "markdown",
   "id": "40d1c6f0",
   "metadata": {},
   "source": [
    "Big errors are coming from sub modes which have very small values so normalization harm result."
   ]
  },
  {
   "cell_type": "markdown",
   "id": "648d88ee",
   "metadata": {},
   "source": [
    "# benchmark - simulation time"
   ]
  },
  {
   "cell_type": "markdown",
   "id": "cede83a9",
   "metadata": {},
   "source": [
    "## run time by time.time()"
   ]
  },
  {
   "cell_type": "code",
   "execution_count": 64,
   "id": "25a72d12",
   "metadata": {},
   "outputs": [
    {
     "data": {
      "image/png": "[encoded data removed]",
      "text/plain": [
       "<Figure size 1440x360 with 2 Axes>"
      ]
     },
     "metadata": {
      "needs_background": "light"
     },
     "output_type": "display_data"
    }
   ],
   "source": [
    "fig, axes = plt.subplots(1,2, figsize=(20,5))\n",
    "axes[0].hist([df['t_mcwat'],df['t_mcwas']], bins=100)\n",
    "# axes[0].hist(df['t_mcwas'], bins=100)\n",
    "axes[1].hist([df['t_mcwat'],df['t_mcwas']], bins=100, log=True)\n",
    "# axes[1].hist(df['t_mcwas'], bins=100, log=True)\n",
    "# plt.xscale('log')\n",
    "plt.show()"
   ]
  },
  {
   "cell_type": "markdown",
   "id": "7fa5d789",
   "metadata": {},
   "source": [
    "Blue is  meent with TMM, Oragne is meent with SMM"
   ]
  },
  {
   "cell_type": "markdown",
   "id": "3a2ab4cf",
   "metadata": {},
   "source": [
    "## SMM time / TMM time"
   ]
  },
  {
   "cell_type": "code",
   "execution_count": 65,
   "id": "11ea8ef4",
   "metadata": {},
   "outputs": [
    {
     "data": {
      "image/png": "[encoded data removed]",
      "text/plain": [
       "<Figure size 1440x360 with 2 Axes>"
      ]
     },
     "metadata": {
      "needs_background": "light"
     },
     "output_type": "display_data"
    }
   ],
   "source": [
    "fig, axes = plt.subplots(1,2, figsize=(20,5))\n",
    "axes[0].axvline(1, c='r')\n",
    "axes[1].axvline(1, c='r')\n",
    "axes[0].hist((df['t_mcwas'])/df['t_mcwat'], bins=100)\n",
    "axes[1].hist((df['t_mcwas'])/df['t_mcwat'], bins=100)\n",
    "axes[1].set_yscale('log')\n",
    "plt.show()"
   ]
  },
  {
   "cell_type": "code",
   "execution_count": 66,
   "id": "e0223dbf",
   "metadata": {},
   "outputs": [
    {
     "data": {
      "text/plain": [
       "count    481647.000000\n",
       "mean          2.764271\n",
       "std           0.439780\n",
       "min           0.968381\n",
       "25%           2.400051\n",
       "50%           2.772774\n",
       "75%           3.095961\n",
       "max           8.037431\n",
       "dtype: float64"
      ]
     },
     "execution_count": 66,
     "metadata": {},
     "output_type": "execute_result"
    }
   ],
   "source": [
    "(df['t_mcwas']/df['t_mcwat']).describe()"
   ]
  },
  {
   "cell_type": "markdown",
   "id": "af2b8df7",
   "metadata": {},
   "source": [
    "TMM is faster 2.8 times than SMM.\n",
    "\n",
    "right side of red line: TMM is faster\n"
   ]
  },
  {
   "cell_type": "markdown",
   "id": "6bb674a5",
   "metadata": {},
   "source": [
    "## time.process_time()"
   ]
  },
  {
   "cell_type": "code",
   "execution_count": 67,
   "id": "1145e61f",
   "metadata": {},
   "outputs": [
    {
     "data": {
      "image/png": "[encoded data removed]",
      "text/plain": [
       "<Figure size 1440x360 with 2 Axes>"
      ]
     },
     "metadata": {
      "needs_background": "light"
     },
     "output_type": "display_data"
    }
   ],
   "source": [
    "fig, axes = plt.subplots(1,2, figsize=(20,5))\n",
    "axes[0].hist([df['tpr_mcwat'],df['tpr_mcwas']], bins=100)\n",
    "# axes[0].hist(df['t_mcwas'], bins=100)\n",
    "axes[1].hist([df['tpr_mcwat'],df['tpr_mcwas']], bins=100, log=True)\n",
    "# axes[1].hist(df['t_mcwas'], bins=100, log=True)\n",
    "# plt.xscale('log')\n",
    "plt.show()"
   ]
  },
  {
   "cell_type": "code",
   "execution_count": 68,
   "id": "78e0d498",
   "metadata": {},
   "outputs": [
    {
     "data": {
      "image/png": "[encoded data removed]",
      "text/plain": [
       "<Figure size 1440x360 with 2 Axes>"
      ]
     },
     "metadata": {
      "needs_background": "light"
     },
     "output_type": "display_data"
    }
   ],
   "source": [
    "fig, axes = plt.subplots(1,2, figsize=(20,5))\n",
    "axes[0].axvline(1, c='r')\n",
    "axes[1].axvline(1, c='r')\n",
    "axes[0].hist((df['tpr_mcwas'])/df['tpr_mcwat'], bins=100)\n",
    "axes[1].hist((df['tpr_mcwas'])/df['tpr_mcwat'], bins=100)\n",
    "axes[1].set_yscale('log')\n",
    "plt.show()"
   ]
  },
  {
   "cell_type": "code",
   "execution_count": 69,
   "id": "b8204b09",
   "metadata": {},
   "outputs": [
    {
     "data": {
      "text/plain": [
       "count    481647.000000\n",
       "mean          2.982901\n",
       "std           0.486763\n",
       "min           1.157268\n",
       "25%           2.560775\n",
       "50%           3.006731\n",
       "75%           3.375830\n",
       "max           6.058321\n",
       "dtype: float64"
      ]
     },
     "execution_count": 69,
     "metadata": {},
     "output_type": "execute_result"
    }
   ],
   "source": [
    "(df['tpr_mcwas']/df['tpr_mcwat']).describe()"
   ]
  }
 ],
 "metadata": {
  "kernelspec": {
   "display_name": "Python 3 (ipykernel)",
   "language": "python",
   "name": "python3"
  },
  "language_info": {
   "codemirror_mode": {
    "name": "ipython",
    "version": 3
   },
   "file_extension": ".py",
   "mimetype": "text/x-python",
   "name": "python",
   "nbconvert_exporter": "python",
   "pygments_lexer": "ipython3",
   "version": "3.9.12"
  }
 },
 "nbformat": 4,
 "nbformat_minor": 5
}
