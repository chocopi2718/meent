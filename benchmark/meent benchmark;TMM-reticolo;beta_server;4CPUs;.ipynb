{
 "cells": [
  {
   "cell_type": "code",
   "execution_count": 110,
   "id": "be4dd126",
   "metadata": {},
   "outputs": [],
   "source": [
    "import pandas as pd\n",
    "import numpy as np\n",
    "import matplotlib.pyplot as plt"
   ]
  },
  {
   "cell_type": "code",
   "execution_count": 111,
   "id": "e59f8007",
   "metadata": {},
   "outputs": [],
   "source": [
    "import matplotlib.pylab as pylab\n",
    "params = {'legend.fontsize': 'x-large',\n",
    "          'figure.figsize': (15, 5),\n",
    "         'axes.labelsize': 'xx-large',\n",
    "         'axes.titlesize':'xx-large',\n",
    "         'xtick.labelsize':'xx-large',\n",
    "         'ytick.labelsize':'xx-large'}\n",
    "pylab.rcParams.update(params)"
   ]
  },
  {
   "cell_type": "code",
   "execution_count": 112,
   "id": "e0eaf6c4",
   "metadata": {},
   "outputs": [],
   "source": [
    "# 4 CPUs\n",
    "file = '/home/yongha/mcwa/1DFreeFormDQN/experiments/DQN/2022_09_16_14_07_47/wl900.0_angle60.0_ncells64/comp_table.csv'\n",
    "df = pd.read_csv(file)\n",
    "df.drop('Unnamed: 0', axis=1, inplace=True)"
   ]
  },
  {
   "cell_type": "markdown",
   "id": "451e4637",
   "metadata": {},
   "source": [
    "# TMM to reticolo"
   ]
  },
  {
   "cell_type": "code",
   "execution_count": 113,
   "id": "8918cfb3",
   "metadata": {},
   "outputs": [],
   "source": [
    "A, B = 'mcwat', 'reti'"
   ]
  },
  {
   "cell_type": "code",
   "execution_count": 114,
   "id": "ac352e88",
   "metadata": {},
   "outputs": [],
   "source": [
    "df['gap-1'] = df[f'{A}-1'] - df[f'{B}-1']\n",
    "df['gap0'] = df[f'{A}0'] - df[f'{B}0']\n",
    "df['gap+1'] = df[f'{A}+1'] - df[f'{B}+1']\n",
    "df['t_gap'] = df[f't_{A}'] - df[f't_{B}']\n",
    "df['tpr_gap'] = df[f'tpr_{A}'] - df[f'tpr_{B}']"
   ]
  },
  {
   "cell_type": "markdown",
   "id": "7254e794",
   "metadata": {},
   "source": [
    "# Benchmark"
   ]
  },
  {
   "cell_type": "markdown",
   "id": "5f188f36",
   "metadata": {},
   "source": [
    "## abs(difference in transmittance)"
   ]
  },
  {
   "cell_type": "code",
   "execution_count": 115,
   "id": "18ba2600",
   "metadata": {},
   "outputs": [
    {
     "data": {
      "image/png": "[encoded data removed]",
      "text/plain": [
       "<Figure size 1440x360 with 2 Axes>"
      ]
     },
     "metadata": {
      "needs_background": "light"
     },
     "output_type": "display_data"
    }
   ],
   "source": [
    "fig, axes = plt.subplots(1,2, figsize=(20,5))\n",
    "axes[0].hist([df['gap-1'], df['gap0'], df['gap+1']], bins=100)\n",
    "axes[1].hist([df['gap-1'], df['gap0'], df['gap+1']], bins=100)\n",
    "axes[1].set_yscale('log')\n",
    "plt.show()"
   ]
  },
  {
   "cell_type": "code",
   "execution_count": 116,
   "id": "4db88574",
   "metadata": {},
   "outputs": [
    {
     "data": {
      "text/html": [
       "<div>\n",
       "<style scoped>\n",
       "    .dataframe tbody tr th:only-of-type {\n",
       "        vertical-align: middle;\n",
       "    }\n",
       "\n",
       "    .dataframe tbody tr th {\n",
       "        vertical-align: top;\n",
       "    }\n",
       "\n",
       "    .dataframe thead th {\n",
       "        text-align: right;\n",
       "    }\n",
       "</style>\n",
       "<table border=\"1\" class=\"dataframe\">\n",
       "  <thead>\n",
       "    <tr style=\"text-align: right;\">\n",
       "      <th></th>\n",
       "      <th>count</th>\n",
       "      <th>mean</th>\n",
       "      <th>std</th>\n",
       "      <th>min</th>\n",
       "      <th>25%</th>\n",
       "      <th>50%</th>\n",
       "      <th>75%</th>\n",
       "      <th>max</th>\n",
       "    </tr>\n",
       "  </thead>\n",
       "  <tbody>\n",
       "    <tr>\n",
       "      <th>gap-1</th>\n",
       "      <td>594421.0</td>\n",
       "      <td>0.000198</td>\n",
       "      <td>0.001239</td>\n",
       "      <td>-0.228532</td>\n",
       "      <td>-0.000061</td>\n",
       "      <td>0.000189</td>\n",
       "      <td>0.000552</td>\n",
       "      <td>0.127314</td>\n",
       "    </tr>\n",
       "    <tr>\n",
       "      <th>gap0</th>\n",
       "      <td>594421.0</td>\n",
       "      <td>-0.000797</td>\n",
       "      <td>0.002068</td>\n",
       "      <td>-0.163046</td>\n",
       "      <td>-0.001520</td>\n",
       "      <td>-0.000786</td>\n",
       "      <td>-0.000214</td>\n",
       "      <td>0.309667</td>\n",
       "    </tr>\n",
       "    <tr>\n",
       "      <th>gap+1</th>\n",
       "      <td>594421.0</td>\n",
       "      <td>0.000226</td>\n",
       "      <td>0.001341</td>\n",
       "      <td>-0.135228</td>\n",
       "      <td>-0.000003</td>\n",
       "      <td>0.000234</td>\n",
       "      <td>0.000642</td>\n",
       "      <td>0.167910</td>\n",
       "    </tr>\n",
       "  </tbody>\n",
       "</table>\n",
       "</div>"
      ],
      "text/plain": [
       "          count      mean       std       min       25%       50%       75%  \\\n",
       "gap-1  594421.0  0.000198  0.001239 -0.228532 -0.000061  0.000189  0.000552   \n",
       "gap0   594421.0 -0.000797  0.002068 -0.163046 -0.001520 -0.000786 -0.000214   \n",
       "gap+1  594421.0  0.000226  0.001341 -0.135228 -0.000003  0.000234  0.000642   \n",
       "\n",
       "            max  \n",
       "gap-1  0.127314  \n",
       "gap0   0.309667  \n",
       "gap+1  0.167910  "
      ]
     },
     "execution_count": 116,
     "metadata": {},
     "output_type": "execute_result"
    }
   ],
   "source": [
    "df[['gap-1','gap0','gap+1']].describe().T"
   ]
  },
  {
   "cell_type": "code",
   "execution_count": 117,
   "id": "95ca97c8",
   "metadata": {},
   "outputs": [
    {
     "data": {
      "text/html": [
       "<div>\n",
       "<style scoped>\n",
       "    .dataframe tbody tr th:only-of-type {\n",
       "        vertical-align: middle;\n",
       "    }\n",
       "\n",
       "    .dataframe tbody tr th {\n",
       "        vertical-align: top;\n",
       "    }\n",
       "\n",
       "    .dataframe thead th {\n",
       "        text-align: right;\n",
       "    }\n",
       "</style>\n",
       "<table border=\"1\" class=\"dataframe\">\n",
       "  <thead>\n",
       "    <tr style=\"text-align: right;\">\n",
       "      <th></th>\n",
       "      <th>mcwat-1</th>\n",
       "      <th>reti-1</th>\n",
       "      <th>gap-1</th>\n",
       "    </tr>\n",
       "  </thead>\n",
       "  <tbody>\n",
       "    <tr>\n",
       "      <th>480529</th>\n",
       "      <td>0.094510</td>\n",
       "      <td>0.323042</td>\n",
       "      <td>-0.228532</td>\n",
       "    </tr>\n",
       "    <tr>\n",
       "      <th>42308</th>\n",
       "      <td>0.092712</td>\n",
       "      <td>0.252867</td>\n",
       "      <td>-0.160155</td>\n",
       "    </tr>\n",
       "    <tr>\n",
       "      <th>366731</th>\n",
       "      <td>0.148927</td>\n",
       "      <td>0.260372</td>\n",
       "      <td>-0.111446</td>\n",
       "    </tr>\n",
       "    <tr>\n",
       "      <th>567410</th>\n",
       "      <td>0.281742</td>\n",
       "      <td>0.367697</td>\n",
       "      <td>-0.085956</td>\n",
       "    </tr>\n",
       "    <tr>\n",
       "      <th>406805</th>\n",
       "      <td>0.196346</td>\n",
       "      <td>0.271126</td>\n",
       "      <td>-0.074780</td>\n",
       "    </tr>\n",
       "    <tr>\n",
       "      <th>...</th>\n",
       "      <td>...</td>\n",
       "      <td>...</td>\n",
       "      <td>...</td>\n",
       "    </tr>\n",
       "    <tr>\n",
       "      <th>346430</th>\n",
       "      <td>0.444971</td>\n",
       "      <td>0.382783</td>\n",
       "      <td>0.062188</td>\n",
       "    </tr>\n",
       "    <tr>\n",
       "      <th>319463</th>\n",
       "      <td>0.090466</td>\n",
       "      <td>0.027256</td>\n",
       "      <td>0.063209</td>\n",
       "    </tr>\n",
       "    <tr>\n",
       "      <th>145225</th>\n",
       "      <td>0.463249</td>\n",
       "      <td>0.393278</td>\n",
       "      <td>0.069971</td>\n",
       "    </tr>\n",
       "    <tr>\n",
       "      <th>496101</th>\n",
       "      <td>0.422662</td>\n",
       "      <td>0.334733</td>\n",
       "      <td>0.087930</td>\n",
       "    </tr>\n",
       "    <tr>\n",
       "      <th>173898</th>\n",
       "      <td>0.186712</td>\n",
       "      <td>0.059398</td>\n",
       "      <td>0.127314</td>\n",
       "    </tr>\n",
       "  </tbody>\n",
       "</table>\n",
       "<p>810 rows × 3 columns</p>\n",
       "</div>"
      ],
      "text/plain": [
       "         mcwat-1    reti-1     gap-1\n",
       "480529  0.094510  0.323042 -0.228532\n",
       "42308   0.092712  0.252867 -0.160155\n",
       "366731  0.148927  0.260372 -0.111446\n",
       "567410  0.281742  0.367697 -0.085956\n",
       "406805  0.196346  0.271126 -0.074780\n",
       "...          ...       ...       ...\n",
       "346430  0.444971  0.382783  0.062188\n",
       "319463  0.090466  0.027256  0.063209\n",
       "145225  0.463249  0.393278  0.069971\n",
       "496101  0.422662  0.334733  0.087930\n",
       "173898  0.186712  0.059398  0.127314\n",
       "\n",
       "[810 rows x 3 columns]"
      ]
     },
     "execution_count": 117,
     "metadata": {},
     "output_type": "execute_result"
    }
   ],
   "source": [
    "df[abs(df['gap-1'])>0.01][[f'{A}-1', f'{B}-1', 'gap-1']].sort_values('gap-1')"
   ]
  },
  {
   "cell_type": "code",
   "execution_count": 118,
   "id": "5874eab7",
   "metadata": {},
   "outputs": [
    {
     "data": {
      "text/html": [
       "<div>\n",
       "<style scoped>\n",
       "    .dataframe tbody tr th:only-of-type {\n",
       "        vertical-align: middle;\n",
       "    }\n",
       "\n",
       "    .dataframe tbody tr th {\n",
       "        vertical-align: top;\n",
       "    }\n",
       "\n",
       "    .dataframe thead th {\n",
       "        text-align: right;\n",
       "    }\n",
       "</style>\n",
       "<table border=\"1\" class=\"dataframe\">\n",
       "  <thead>\n",
       "    <tr style=\"text-align: right;\">\n",
       "      <th></th>\n",
       "      <th>mcwat0</th>\n",
       "      <th>reti0</th>\n",
       "      <th>gap0</th>\n",
       "    </tr>\n",
       "  </thead>\n",
       "  <tbody>\n",
       "    <tr>\n",
       "      <th>384373</th>\n",
       "      <td>0.481271</td>\n",
       "      <td>0.644317</td>\n",
       "      <td>-0.163046</td>\n",
       "    </tr>\n",
       "    <tr>\n",
       "      <th>220106</th>\n",
       "      <td>0.364626</td>\n",
       "      <td>0.518056</td>\n",
       "      <td>-0.153430</td>\n",
       "    </tr>\n",
       "    <tr>\n",
       "      <th>214278</th>\n",
       "      <td>0.299640</td>\n",
       "      <td>0.451038</td>\n",
       "      <td>-0.151398</td>\n",
       "    </tr>\n",
       "    <tr>\n",
       "      <th>173898</th>\n",
       "      <td>0.183208</td>\n",
       "      <td>0.330409</td>\n",
       "      <td>-0.147201</td>\n",
       "    </tr>\n",
       "    <tr>\n",
       "      <th>78914</th>\n",
       "      <td>0.410306</td>\n",
       "      <td>0.552522</td>\n",
       "      <td>-0.142217</td>\n",
       "    </tr>\n",
       "    <tr>\n",
       "      <th>...</th>\n",
       "      <td>...</td>\n",
       "      <td>...</td>\n",
       "      <td>...</td>\n",
       "    </tr>\n",
       "    <tr>\n",
       "      <th>42140</th>\n",
       "      <td>0.425227</td>\n",
       "      <td>0.305553</td>\n",
       "      <td>0.119674</td>\n",
       "    </tr>\n",
       "    <tr>\n",
       "      <th>478509</th>\n",
       "      <td>0.291000</td>\n",
       "      <td>0.163725</td>\n",
       "      <td>0.127275</td>\n",
       "    </tr>\n",
       "    <tr>\n",
       "      <th>406805</th>\n",
       "      <td>0.364522</td>\n",
       "      <td>0.227963</td>\n",
       "      <td>0.136558</td>\n",
       "    </tr>\n",
       "    <tr>\n",
       "      <th>366731</th>\n",
       "      <td>0.381150</td>\n",
       "      <td>0.212253</td>\n",
       "      <td>0.168897</td>\n",
       "    </tr>\n",
       "    <tr>\n",
       "      <th>480529</th>\n",
       "      <td>0.503051</td>\n",
       "      <td>0.193384</td>\n",
       "      <td>0.309667</td>\n",
       "    </tr>\n",
       "  </tbody>\n",
       "</table>\n",
       "<p>2760 rows × 3 columns</p>\n",
       "</div>"
      ],
      "text/plain": [
       "          mcwat0     reti0      gap0\n",
       "384373  0.481271  0.644317 -0.163046\n",
       "220106  0.364626  0.518056 -0.153430\n",
       "214278  0.299640  0.451038 -0.151398\n",
       "173898  0.183208  0.330409 -0.147201\n",
       "78914   0.410306  0.552522 -0.142217\n",
       "...          ...       ...       ...\n",
       "42140   0.425227  0.305553  0.119674\n",
       "478509  0.291000  0.163725  0.127275\n",
       "406805  0.364522  0.227963  0.136558\n",
       "366731  0.381150  0.212253  0.168897\n",
       "480529  0.503051  0.193384  0.309667\n",
       "\n",
       "[2760 rows x 3 columns]"
      ]
     },
     "execution_count": 118,
     "metadata": {},
     "output_type": "execute_result"
    }
   ],
   "source": [
    "df[abs(df['gap0'])>0.01][[f'{A}0', f'{B}0', 'gap0']].sort_values('gap0')"
   ]
  },
  {
   "cell_type": "code",
   "execution_count": 119,
   "id": "82c4681f",
   "metadata": {},
   "outputs": [
    {
     "data": {
      "text/html": [
       "<div>\n",
       "<style scoped>\n",
       "    .dataframe tbody tr th:only-of-type {\n",
       "        vertical-align: middle;\n",
       "    }\n",
       "\n",
       "    .dataframe tbody tr th {\n",
       "        vertical-align: top;\n",
       "    }\n",
       "\n",
       "    .dataframe thead th {\n",
       "        text-align: right;\n",
       "    }\n",
       "</style>\n",
       "<table border=\"1\" class=\"dataframe\">\n",
       "  <thead>\n",
       "    <tr style=\"text-align: right;\">\n",
       "      <th></th>\n",
       "      <th>mcwat+1</th>\n",
       "      <th>reti+1</th>\n",
       "      <th>gap+1</th>\n",
       "    </tr>\n",
       "  </thead>\n",
       "  <tbody>\n",
       "    <tr>\n",
       "      <th>419167</th>\n",
       "      <td>0.219235</td>\n",
       "      <td>0.354463</td>\n",
       "      <td>-0.135228</td>\n",
       "    </tr>\n",
       "    <tr>\n",
       "      <th>42308</th>\n",
       "      <td>0.106590</td>\n",
       "      <td>0.232044</td>\n",
       "      <td>-0.125454</td>\n",
       "    </tr>\n",
       "    <tr>\n",
       "      <th>145225</th>\n",
       "      <td>0.181995</td>\n",
       "      <td>0.254182</td>\n",
       "      <td>-0.072186</td>\n",
       "    </tr>\n",
       "    <tr>\n",
       "      <th>513333</th>\n",
       "      <td>0.303447</td>\n",
       "      <td>0.369786</td>\n",
       "      <td>-0.066338</td>\n",
       "    </tr>\n",
       "    <tr>\n",
       "      <th>520885</th>\n",
       "      <td>0.294091</td>\n",
       "      <td>0.357196</td>\n",
       "      <td>-0.063105</td>\n",
       "    </tr>\n",
       "    <tr>\n",
       "      <th>...</th>\n",
       "      <td>...</td>\n",
       "      <td>...</td>\n",
       "      <td>...</td>\n",
       "    </tr>\n",
       "    <tr>\n",
       "      <th>98752</th>\n",
       "      <td>0.113956</td>\n",
       "      <td>0.049898</td>\n",
       "      <td>0.064059</td>\n",
       "    </tr>\n",
       "    <tr>\n",
       "      <th>208066</th>\n",
       "      <td>0.111853</td>\n",
       "      <td>0.037305</td>\n",
       "      <td>0.074548</td>\n",
       "    </tr>\n",
       "    <tr>\n",
       "      <th>240597</th>\n",
       "      <td>0.401517</td>\n",
       "      <td>0.326221</td>\n",
       "      <td>0.075296</td>\n",
       "    </tr>\n",
       "    <tr>\n",
       "      <th>478509</th>\n",
       "      <td>0.157208</td>\n",
       "      <td>0.066974</td>\n",
       "      <td>0.090234</td>\n",
       "    </tr>\n",
       "    <tr>\n",
       "      <th>355072</th>\n",
       "      <td>0.289106</td>\n",
       "      <td>0.121195</td>\n",
       "      <td>0.167910</td>\n",
       "    </tr>\n",
       "  </tbody>\n",
       "</table>\n",
       "<p>954 rows × 3 columns</p>\n",
       "</div>"
      ],
      "text/plain": [
       "         mcwat+1    reti+1     gap+1\n",
       "419167  0.219235  0.354463 -0.135228\n",
       "42308   0.106590  0.232044 -0.125454\n",
       "145225  0.181995  0.254182 -0.072186\n",
       "513333  0.303447  0.369786 -0.066338\n",
       "520885  0.294091  0.357196 -0.063105\n",
       "...          ...       ...       ...\n",
       "98752   0.113956  0.049898  0.064059\n",
       "208066  0.111853  0.037305  0.074548\n",
       "240597  0.401517  0.326221  0.075296\n",
       "478509  0.157208  0.066974  0.090234\n",
       "355072  0.289106  0.121195  0.167910\n",
       "\n",
       "[954 rows x 3 columns]"
      ]
     },
     "execution_count": 119,
     "metadata": {},
     "output_type": "execute_result"
    }
   ],
   "source": [
    "df[abs(df['gap+1'])>0.01][[f'{A}+1', f'{B}+1', 'gap+1']].sort_values('gap+1')"
   ]
  },
  {
   "cell_type": "markdown",
   "id": "bcd36ccf",
   "metadata": {},
   "source": [
    "## Normalized abs(difference in transmittance) "
   ]
  },
  {
   "cell_type": "code",
   "execution_count": 120,
   "id": "e1ea0306",
   "metadata": {},
   "outputs": [
    {
     "data": {
      "image/png": "[encoded data removed]",
      "text/plain": [
       "<Figure size 1440x360 with 2 Axes>"
      ]
     },
     "metadata": {
      "needs_background": "light"
     },
     "output_type": "display_data"
    }
   ],
   "source": [
    "fig, axes = plt.subplots(1,2, figsize=(20,5))\n",
    "axes[0].axvline(0.01, c='r')\n",
    "axes[1].axvline(0.01, c='r')\n",
    "\n",
    "axes[0].hist([abs(df['gap-1']/df[f'{A}-1']), abs(df['gap0']/df[f'{A}0']), abs(df['gap+1']/df[f'{A}+1'])], bins=np.logspace(np.log10(1E-16), np.log10(20),100))\n",
    "axes[0].set_xscale('log')\n",
    "\n",
    "axes[1].hist([abs(df['gap-1']/df[f'{A}-1']), abs(df['gap0']/df[f'{A}0']), abs(df['gap+1']/df[f'{A}+1'])], bins=np.logspace(np.log10(1E-16), np.log10(20),100))\n",
    "axes[1].set_xscale('log')\n",
    "axes[1].set_yscale('log')\n",
    "\n",
    "plt.show()"
   ]
  },
  {
   "cell_type": "markdown",
   "id": "f8eafbfd",
   "metadata": {},
   "source": [
    "right side of vertical red line: normalized error >= 1 %\n",
    "\n",
    "orange is 0th order"
   ]
  },
  {
   "cell_type": "code",
   "execution_count": 121,
   "id": "eb759049",
   "metadata": {},
   "outputs": [
    {
     "data": {
      "text/html": [
       "<div>\n",
       "<style scoped>\n",
       "    .dataframe tbody tr th:only-of-type {\n",
       "        vertical-align: middle;\n",
       "    }\n",
       "\n",
       "    .dataframe tbody tr th {\n",
       "        vertical-align: top;\n",
       "    }\n",
       "\n",
       "    .dataframe thead th {\n",
       "        text-align: right;\n",
       "    }\n",
       "</style>\n",
       "<table border=\"1\" class=\"dataframe\">\n",
       "  <thead>\n",
       "    <tr style=\"text-align: right;\">\n",
       "      <th></th>\n",
       "      <th>mcwat-1</th>\n",
       "      <th>reti-1</th>\n",
       "      <th>gap-1</th>\n",
       "    </tr>\n",
       "  </thead>\n",
       "  <tbody>\n",
       "    <tr>\n",
       "      <th>480529</th>\n",
       "      <td>0.094510</td>\n",
       "      <td>0.323042</td>\n",
       "      <td>-0.228532</td>\n",
       "    </tr>\n",
       "    <tr>\n",
       "      <th>42308</th>\n",
       "      <td>0.092712</td>\n",
       "      <td>0.252867</td>\n",
       "      <td>-0.160155</td>\n",
       "    </tr>\n",
       "    <tr>\n",
       "      <th>366731</th>\n",
       "      <td>0.148927</td>\n",
       "      <td>0.260372</td>\n",
       "      <td>-0.111446</td>\n",
       "    </tr>\n",
       "    <tr>\n",
       "      <th>567410</th>\n",
       "      <td>0.281742</td>\n",
       "      <td>0.367697</td>\n",
       "      <td>-0.085956</td>\n",
       "    </tr>\n",
       "    <tr>\n",
       "      <th>406805</th>\n",
       "      <td>0.196346</td>\n",
       "      <td>0.271126</td>\n",
       "      <td>-0.074780</td>\n",
       "    </tr>\n",
       "    <tr>\n",
       "      <th>...</th>\n",
       "      <td>...</td>\n",
       "      <td>...</td>\n",
       "      <td>...</td>\n",
       "    </tr>\n",
       "    <tr>\n",
       "      <th>346430</th>\n",
       "      <td>0.444971</td>\n",
       "      <td>0.382783</td>\n",
       "      <td>0.062188</td>\n",
       "    </tr>\n",
       "    <tr>\n",
       "      <th>319463</th>\n",
       "      <td>0.090466</td>\n",
       "      <td>0.027256</td>\n",
       "      <td>0.063209</td>\n",
       "    </tr>\n",
       "    <tr>\n",
       "      <th>145225</th>\n",
       "      <td>0.463249</td>\n",
       "      <td>0.393278</td>\n",
       "      <td>0.069971</td>\n",
       "    </tr>\n",
       "    <tr>\n",
       "      <th>496101</th>\n",
       "      <td>0.422662</td>\n",
       "      <td>0.334733</td>\n",
       "      <td>0.087930</td>\n",
       "    </tr>\n",
       "    <tr>\n",
       "      <th>173898</th>\n",
       "      <td>0.186712</td>\n",
       "      <td>0.059398</td>\n",
       "      <td>0.127314</td>\n",
       "    </tr>\n",
       "  </tbody>\n",
       "</table>\n",
       "<p>83759 rows × 3 columns</p>\n",
       "</div>"
      ],
      "text/plain": [
       "         mcwat-1    reti-1     gap-1\n",
       "480529  0.094510  0.323042 -0.228532\n",
       "42308   0.092712  0.252867 -0.160155\n",
       "366731  0.148927  0.260372 -0.111446\n",
       "567410  0.281742  0.367697 -0.085956\n",
       "406805  0.196346  0.271126 -0.074780\n",
       "...          ...       ...       ...\n",
       "346430  0.444971  0.382783  0.062188\n",
       "319463  0.090466  0.027256  0.063209\n",
       "145225  0.463249  0.393278  0.069971\n",
       "496101  0.422662  0.334733  0.087930\n",
       "173898  0.186712  0.059398  0.127314\n",
       "\n",
       "[83759 rows x 3 columns]"
      ]
     },
     "execution_count": 121,
     "metadata": {},
     "output_type": "execute_result"
    }
   ],
   "source": [
    "df[abs(df['gap-1']/df[f'{A}-1'])>0.01][[f'{A}-1', f'{B}-1', 'gap-1']].sort_values('gap-1')"
   ]
  },
  {
   "cell_type": "code",
   "execution_count": 122,
   "id": "708847ad",
   "metadata": {},
   "outputs": [
    {
     "data": {
      "text/html": [
       "<div>\n",
       "<style scoped>\n",
       "    .dataframe tbody tr th:only-of-type {\n",
       "        vertical-align: middle;\n",
       "    }\n",
       "\n",
       "    .dataframe tbody tr th {\n",
       "        vertical-align: top;\n",
       "    }\n",
       "\n",
       "    .dataframe thead th {\n",
       "        text-align: right;\n",
       "    }\n",
       "</style>\n",
       "<table border=\"1\" class=\"dataframe\">\n",
       "  <thead>\n",
       "    <tr style=\"text-align: right;\">\n",
       "      <th></th>\n",
       "      <th>mcwat0</th>\n",
       "      <th>reti0</th>\n",
       "      <th>gap0</th>\n",
       "    </tr>\n",
       "  </thead>\n",
       "  <tbody>\n",
       "    <tr>\n",
       "      <th>384373</th>\n",
       "      <td>0.481271</td>\n",
       "      <td>0.644317</td>\n",
       "      <td>-0.163046</td>\n",
       "    </tr>\n",
       "    <tr>\n",
       "      <th>220106</th>\n",
       "      <td>0.364626</td>\n",
       "      <td>0.518056</td>\n",
       "      <td>-0.153430</td>\n",
       "    </tr>\n",
       "    <tr>\n",
       "      <th>214278</th>\n",
       "      <td>0.299640</td>\n",
       "      <td>0.451038</td>\n",
       "      <td>-0.151398</td>\n",
       "    </tr>\n",
       "    <tr>\n",
       "      <th>173898</th>\n",
       "      <td>0.183208</td>\n",
       "      <td>0.330409</td>\n",
       "      <td>-0.147201</td>\n",
       "    </tr>\n",
       "    <tr>\n",
       "      <th>78914</th>\n",
       "      <td>0.410306</td>\n",
       "      <td>0.552522</td>\n",
       "      <td>-0.142217</td>\n",
       "    </tr>\n",
       "    <tr>\n",
       "      <th>...</th>\n",
       "      <td>...</td>\n",
       "      <td>...</td>\n",
       "      <td>...</td>\n",
       "    </tr>\n",
       "    <tr>\n",
       "      <th>42140</th>\n",
       "      <td>0.425227</td>\n",
       "      <td>0.305553</td>\n",
       "      <td>0.119674</td>\n",
       "    </tr>\n",
       "    <tr>\n",
       "      <th>478509</th>\n",
       "      <td>0.291000</td>\n",
       "      <td>0.163725</td>\n",
       "      <td>0.127275</td>\n",
       "    </tr>\n",
       "    <tr>\n",
       "      <th>406805</th>\n",
       "      <td>0.364522</td>\n",
       "      <td>0.227963</td>\n",
       "      <td>0.136558</td>\n",
       "    </tr>\n",
       "    <tr>\n",
       "      <th>366731</th>\n",
       "      <td>0.381150</td>\n",
       "      <td>0.212253</td>\n",
       "      <td>0.168897</td>\n",
       "    </tr>\n",
       "    <tr>\n",
       "      <th>480529</th>\n",
       "      <td>0.503051</td>\n",
       "      <td>0.193384</td>\n",
       "      <td>0.309667</td>\n",
       "    </tr>\n",
       "  </tbody>\n",
       "</table>\n",
       "<p>92948 rows × 3 columns</p>\n",
       "</div>"
      ],
      "text/plain": [
       "          mcwat0     reti0      gap0\n",
       "384373  0.481271  0.644317 -0.163046\n",
       "220106  0.364626  0.518056 -0.153430\n",
       "214278  0.299640  0.451038 -0.151398\n",
       "173898  0.183208  0.330409 -0.147201\n",
       "78914   0.410306  0.552522 -0.142217\n",
       "...          ...       ...       ...\n",
       "42140   0.425227  0.305553  0.119674\n",
       "478509  0.291000  0.163725  0.127275\n",
       "406805  0.364522  0.227963  0.136558\n",
       "366731  0.381150  0.212253  0.168897\n",
       "480529  0.503051  0.193384  0.309667\n",
       "\n",
       "[92948 rows x 3 columns]"
      ]
     },
     "execution_count": 122,
     "metadata": {},
     "output_type": "execute_result"
    }
   ],
   "source": [
    "df[abs(df['gap0']/df[f'{A}0'])>0.01][[f'{A}0', f'{B}0', 'gap0']].sort_values('gap0')"
   ]
  },
  {
   "cell_type": "code",
   "execution_count": 123,
   "id": "473d6247",
   "metadata": {},
   "outputs": [
    {
     "data": {
      "text/html": [
       "<div>\n",
       "<style scoped>\n",
       "    .dataframe tbody tr th:only-of-type {\n",
       "        vertical-align: middle;\n",
       "    }\n",
       "\n",
       "    .dataframe tbody tr th {\n",
       "        vertical-align: top;\n",
       "    }\n",
       "\n",
       "    .dataframe thead th {\n",
       "        text-align: right;\n",
       "    }\n",
       "</style>\n",
       "<table border=\"1\" class=\"dataframe\">\n",
       "  <thead>\n",
       "    <tr style=\"text-align: right;\">\n",
       "      <th></th>\n",
       "      <th>mcwat+1</th>\n",
       "      <th>reti+1</th>\n",
       "      <th>gap+1</th>\n",
       "    </tr>\n",
       "  </thead>\n",
       "  <tbody>\n",
       "    <tr>\n",
       "      <th>419167</th>\n",
       "      <td>0.219235</td>\n",
       "      <td>0.354463</td>\n",
       "      <td>-0.135228</td>\n",
       "    </tr>\n",
       "    <tr>\n",
       "      <th>42308</th>\n",
       "      <td>0.106590</td>\n",
       "      <td>0.232044</td>\n",
       "      <td>-0.125454</td>\n",
       "    </tr>\n",
       "    <tr>\n",
       "      <th>145225</th>\n",
       "      <td>0.181995</td>\n",
       "      <td>0.254182</td>\n",
       "      <td>-0.072186</td>\n",
       "    </tr>\n",
       "    <tr>\n",
       "      <th>513333</th>\n",
       "      <td>0.303447</td>\n",
       "      <td>0.369786</td>\n",
       "      <td>-0.066338</td>\n",
       "    </tr>\n",
       "    <tr>\n",
       "      <th>520885</th>\n",
       "      <td>0.294091</td>\n",
       "      <td>0.357196</td>\n",
       "      <td>-0.063105</td>\n",
       "    </tr>\n",
       "    <tr>\n",
       "      <th>...</th>\n",
       "      <td>...</td>\n",
       "      <td>...</td>\n",
       "      <td>...</td>\n",
       "    </tr>\n",
       "    <tr>\n",
       "      <th>98752</th>\n",
       "      <td>0.113956</td>\n",
       "      <td>0.049898</td>\n",
       "      <td>0.064059</td>\n",
       "    </tr>\n",
       "    <tr>\n",
       "      <th>208066</th>\n",
       "      <td>0.111853</td>\n",
       "      <td>0.037305</td>\n",
       "      <td>0.074548</td>\n",
       "    </tr>\n",
       "    <tr>\n",
       "      <th>240597</th>\n",
       "      <td>0.401517</td>\n",
       "      <td>0.326221</td>\n",
       "      <td>0.075296</td>\n",
       "    </tr>\n",
       "    <tr>\n",
       "      <th>478509</th>\n",
       "      <td>0.157208</td>\n",
       "      <td>0.066974</td>\n",
       "      <td>0.090234</td>\n",
       "    </tr>\n",
       "    <tr>\n",
       "      <th>355072</th>\n",
       "      <td>0.289106</td>\n",
       "      <td>0.121195</td>\n",
       "      <td>0.167910</td>\n",
       "    </tr>\n",
       "  </tbody>\n",
       "</table>\n",
       "<p>56811 rows × 3 columns</p>\n",
       "</div>"
      ],
      "text/plain": [
       "         mcwat+1    reti+1     gap+1\n",
       "419167  0.219235  0.354463 -0.135228\n",
       "42308   0.106590  0.232044 -0.125454\n",
       "145225  0.181995  0.254182 -0.072186\n",
       "513333  0.303447  0.369786 -0.066338\n",
       "520885  0.294091  0.357196 -0.063105\n",
       "...          ...       ...       ...\n",
       "98752   0.113956  0.049898  0.064059\n",
       "208066  0.111853  0.037305  0.074548\n",
       "240597  0.401517  0.326221  0.075296\n",
       "478509  0.157208  0.066974  0.090234\n",
       "355072  0.289106  0.121195  0.167910\n",
       "\n",
       "[56811 rows x 3 columns]"
      ]
     },
     "execution_count": 123,
     "metadata": {},
     "output_type": "execute_result"
    }
   ],
   "source": [
    "df[abs(df['gap+1']/df[f'{A}+1'])>0.01][[f'{A}+1', f'{B}+1', 'gap+1']].sort_values('gap+1')"
   ]
  },
  {
   "cell_type": "markdown",
   "id": "648d88ee",
   "metadata": {},
   "source": [
    "# benchmark - simulation time"
   ]
  },
  {
   "cell_type": "markdown",
   "id": "cede83a9",
   "metadata": {},
   "source": [
    "## run time by time.time()"
   ]
  },
  {
   "cell_type": "code",
   "execution_count": 124,
   "id": "25a72d12",
   "metadata": {},
   "outputs": [
    {
     "data": {
      "image/png": "[encoded data removed]",
      "text/plain": [
       "<Figure size 1440x360 with 2 Axes>"
      ]
     },
     "metadata": {
      "needs_background": "light"
     },
     "output_type": "display_data"
    }
   ],
   "source": [
    "fig, axes = plt.subplots(1,2, figsize=(20,5))\n",
    "axes[0].hist([df[f't_{A}'],df[f't_{B}']], bins=100)\n",
    "axes[1].hist([df[f't_{A}'],df[f't_{B}']], bins=100, log=True)\n",
    "plt.show()"
   ]
  },
  {
   "cell_type": "markdown",
   "id": "7fa5d789",
   "metadata": {},
   "source": [
    "Blue is  meent with TMM, Oragne is meent with reticolo"
   ]
  },
  {
   "cell_type": "markdown",
   "id": "3a2ab4cf",
   "metadata": {},
   "source": [
    "## reticolo time / meent time"
   ]
  },
  {
   "cell_type": "code",
   "execution_count": 125,
   "id": "11ea8ef4",
   "metadata": {},
   "outputs": [
    {
     "data": {
      "image/png": "[encoded data removed]",
      "text/plain": [
       "<Figure size 1440x360 with 2 Axes>"
      ]
     },
     "metadata": {
      "needs_background": "light"
     },
     "output_type": "display_data"
    }
   ],
   "source": [
    "fig, axes = plt.subplots(1,2, figsize=(20,5))\n",
    "axes[0].axvline(1, c='r')\n",
    "axes[1].axvline(1, c='r')\n",
    "axes[0].hist((df[f't_{B}'])/df[f't_{A}'], bins=100)\n",
    "axes[1].hist((df[f't_{B}'])/df[f't_{A}'], bins=100)\n",
    "axes[1].set_yscale('log')\n",
    "plt.show()"
   ]
  },
  {
   "cell_type": "code",
   "execution_count": 126,
   "id": "92fd0482",
   "metadata": {},
   "outputs": [
    {
     "data": {
      "text/html": [
       "<div>\n",
       "<style scoped>\n",
       "    .dataframe tbody tr th:only-of-type {\n",
       "        vertical-align: middle;\n",
       "    }\n",
       "\n",
       "    .dataframe tbody tr th {\n",
       "        vertical-align: top;\n",
       "    }\n",
       "\n",
       "    .dataframe thead th {\n",
       "        text-align: right;\n",
       "    }\n",
       "</style>\n",
       "<table border=\"1\" class=\"dataframe\">\n",
       "  <thead>\n",
       "    <tr style=\"text-align: right;\">\n",
       "      <th></th>\n",
       "      <th>count</th>\n",
       "      <th>mean</th>\n",
       "      <th>std</th>\n",
       "      <th>min</th>\n",
       "      <th>25%</th>\n",
       "      <th>50%</th>\n",
       "      <th>75%</th>\n",
       "      <th>max</th>\n",
       "    </tr>\n",
       "  </thead>\n",
       "  <tbody>\n",
       "    <tr>\n",
       "      <th>0</th>\n",
       "      <td>594421.0</td>\n",
       "      <td>5.915973</td>\n",
       "      <td>1.529872</td>\n",
       "      <td>1.727486</td>\n",
       "      <td>5.222967</td>\n",
       "      <td>5.659339</td>\n",
       "      <td>6.367995</td>\n",
       "      <td>24.769837</td>\n",
       "    </tr>\n",
       "  </tbody>\n",
       "</table>\n",
       "</div>"
      ],
      "text/plain": [
       "      count      mean       std       min       25%       50%       75%  \\\n",
       "0  594421.0  5.915973  1.529872  1.727486  5.222967  5.659339  6.367995   \n",
       "\n",
       "         max  \n",
       "0  24.769837  "
      ]
     },
     "execution_count": 126,
     "metadata": {},
     "output_type": "execute_result"
    }
   ],
   "source": [
    "pd.DataFrame((df[f't_{B}']/df[f't_{A}']).describe()).T"
   ]
  },
  {
   "cell_type": "markdown",
   "id": "e99f3aca",
   "metadata": {},
   "source": [
    "meent-TMM is faster 5.7 times than reticolo.\n",
    "\n",
    "right side of red line: TMM is faster"
   ]
  },
  {
   "cell_type": "markdown",
   "id": "6bb674a5",
   "metadata": {},
   "source": [
    "## time.process_time()"
   ]
  },
  {
   "cell_type": "code",
   "execution_count": 127,
   "id": "45fb27af",
   "metadata": {
    "scrolled": true
   },
   "outputs": [
    {
     "data": {
      "image/png": "[encoded data removed]",
      "text/plain": [
       "<Figure size 1440x360 with 2 Axes>"
      ]
     },
     "metadata": {
      "needs_background": "light"
     },
     "output_type": "display_data"
    }
   ],
   "source": [
    "fig, axes = plt.subplots(1,2, figsize=(20,5))\n",
    "axes[0].hist([df[f'tpr_{A}'],df[f'tpr_{B}']], bins=100)\n",
    "axes[1].hist([df[f'tpr_{A}'],df[f'tpr_{B}']], bins=100, log=True)\n",
    "plt.show()"
   ]
  },
  {
   "cell_type": "code",
   "execution_count": 128,
   "id": "78e0d498",
   "metadata": {
    "scrolled": true
   },
   "outputs": [
    {
     "data": {
      "image/png": "[encoded data removed]",
      "text/plain": [
       "<Figure size 1440x360 with 2 Axes>"
      ]
     },
     "metadata": {
      "needs_background": "light"
     },
     "output_type": "display_data"
    }
   ],
   "source": [
    "fig, axes = plt.subplots(1,2, figsize=(20,5))\n",
    "axes[0].axvline(1, c='r')\n",
    "axes[1].axvline(1, c='r')\n",
    "axes[0].hist((df[f'tpr_{B}'])/df[f'tpr_{A}'], bins=100)\n",
    "axes[1].hist((df[f'tpr_{B}'])/df[f'tpr_{A}'], bins=100)\n",
    "axes[1].set_yscale('log')\n",
    "plt.show()"
   ]
  },
  {
   "cell_type": "code",
   "execution_count": 129,
   "id": "4d06b75f",
   "metadata": {},
   "outputs": [
    {
     "data": {
      "text/html": [
       "<div>\n",
       "<style scoped>\n",
       "    .dataframe tbody tr th:only-of-type {\n",
       "        vertical-align: middle;\n",
       "    }\n",
       "\n",
       "    .dataframe tbody tr th {\n",
       "        vertical-align: top;\n",
       "    }\n",
       "\n",
       "    .dataframe thead th {\n",
       "        text-align: right;\n",
       "    }\n",
       "</style>\n",
       "<table border=\"1\" class=\"dataframe\">\n",
       "  <thead>\n",
       "    <tr style=\"text-align: right;\">\n",
       "      <th></th>\n",
       "      <th>count</th>\n",
       "      <th>mean</th>\n",
       "      <th>std</th>\n",
       "      <th>min</th>\n",
       "      <th>25%</th>\n",
       "      <th>50%</th>\n",
       "      <th>75%</th>\n",
       "      <th>max</th>\n",
       "    </tr>\n",
       "  </thead>\n",
       "  <tbody>\n",
       "    <tr>\n",
       "      <th>0</th>\n",
       "      <td>594421.0</td>\n",
       "      <td>2.928232</td>\n",
       "      <td>1.641464</td>\n",
       "      <td>0.009937</td>\n",
       "      <td>1.732354</td>\n",
       "      <td>3.396479</td>\n",
       "      <td>4.260506</td>\n",
       "      <td>7.676966</td>\n",
       "    </tr>\n",
       "  </tbody>\n",
       "</table>\n",
       "</div>"
      ],
      "text/plain": [
       "      count      mean       std       min       25%       50%       75%  \\\n",
       "0  594421.0  2.928232  1.641464  0.009937  1.732354  3.396479  4.260506   \n",
       "\n",
       "        max  \n",
       "0  7.676966  "
      ]
     },
     "execution_count": 129,
     "metadata": {},
     "output_type": "execute_result"
    }
   ],
   "source": [
    "pd.DataFrame((df[f'tpr_{B}']/df[f'tpr_{A}']).describe()).T"
   ]
  },
  {
   "cell_type": "markdown",
   "id": "63cab322",
   "metadata": {},
   "source": [
    "hard to tell..."
   ]
  }
 ],
 "metadata": {
  "kernelspec": {
   "display_name": "Python 3 (ipykernel)",
   "language": "python",
   "name": "python3"
  },
  "language_info": {
   "codemirror_mode": {
    "name": "ipython",
    "version": 3
   },
   "file_extension": ".py",
   "mimetype": "text/x-python",
   "name": "python",
   "nbconvert_exporter": "python",
   "pygments_lexer": "ipython3",
   "version": "3.9.12"
  }
 },
 "nbformat": 4,
 "nbformat_minor": 5
}
